{
  "cells": [
    {
      "cell_type": "markdown",
      "metadata": {
        "id": "rHLcriKWLRe4"
      },
      "source": [
        "# Assignement 2"
      ]
    },
    {
      "cell_type": "markdown",
      "metadata": {
        "id": "Svzn0U3cUjAK"
      },
      "source": [
        "### <span style=\"color:chocolate\"> Submission requirements </span>\n",
        "\n",
        "Your homework will not be graded if your notebook doesn't include output. In other words, <span style=\"color:red\"> make sure to rerun your notebook before submitting to Gradescope </span> (Note: if you are using Google Colab: go to Edit > Notebook Settings  and uncheck Omit code cell output when saving this notebook, otherwise the output is not printed).\n",
        "\n",
        "Additional points may be deducted if these requirements are not met:\n",
        "    \n",
        "* Comment your code;\n",
        "* Each graph should have a title, labels for each axis, and (if needed) a legend. Each graph should be understandable on its own;\n",
        "* Try and minimize the use of the global namespace (meaning, keep things inside functions).\n",
        "---"
      ]
    },
    {
      "cell_type": "markdown",
      "metadata": {
        "id": "dCJI54ZHUjAL"
      },
      "source": [
        "### Import libraries"
      ]
    },
    {
      "cell_type": "code",
      "execution_count": 1,
      "metadata": {
        "id": "7X58hOMTUH-w"
      },
      "outputs": [],
      "source": [
        "import numpy as np\n",
        "from sklearn.model_selection import train_test_split\n",
        "from sklearn.metrics import mean_squared_error\n",
        "import matplotlib.pyplot as plt"
      ]
    },
    {
      "cell_type": "markdown",
      "metadata": {
        "id": "apm5esXfUjAM"
      },
      "source": [
        "### Define functions"
      ]
    },
    {
      "cell_type": "code",
      "execution_count": 2,
      "metadata": {
        "id": "8hX3XiXhUjAM"
      },
      "outputs": [],
      "source": [
        "def create_1d_data(num_examples, w, b, bound):\n",
        "  \"\"\"Create X, Y data with a linear relationship with added noise.\n",
        "\n",
        "  Args:\n",
        "    num_examples: number of examples to generate\n",
        "    w: desired slope\n",
        "    b: desired intercept\n",
        "    bound: lower and upper boundary of the data interval\n",
        "\n",
        "  Returns:\n",
        "    X and Y with shape (num_examples)\n",
        "  \"\"\"\n",
        "  np.random.seed(4)  # consistent random number generation\n",
        "  X = np.arange(num_examples)\n",
        "  deltas = np.random.uniform(low=-bound, high=bound, size=X.shape) # added noise\n",
        "  Y = b + deltas + w * X\n",
        "\n",
        "  return X, Y"
      ]
    },
    {
      "cell_type": "markdown",
      "metadata": {
        "id": "gTaRHbLrUjAM"
      },
      "source": [
        "---\n",
        "### Step 1: Data ingestion"
      ]
    },
    {
      "cell_type": "markdown",
      "metadata": {
        "id": "wjO-cYuFUjAM"
      },
      "source": [
        "Let's start by creating some artificial data using the <span style=\"color:chocolate\">create_1d_data()</span> function defined at the top of the notebook."
      ]
    },
    {
      "cell_type": "code",
      "execution_count": 3,
      "metadata": {
        "colab": {
          "base_uri": "https://localhost:8080/"
        },
        "id": "6qJg0IiYVJ8U",
        "outputId": "2238ac86-e557-49da-bed5-bb943320bcfc"
      },
      "outputs": [
        {
          "name": "stdout",
          "output_type": "stream",
          "text": [
            "Printing shape of X: (70,)\n",
            "Printing first 10 elements in X: [0 1 2 3 4 5 6 7 8 9]\n",
            "\n",
            "Printing shape of Y: (70,)\n",
            "Printing first 10 elements in Y: [ 1.93405968  3.0944645   5.94536872  7.42963199  9.39545765 10.43217899\n",
            " 13.95254891 14.01246051 16.50596472 18.86958306]\n"
          ]
        }
      ],
      "source": [
        "# Define parameters\n",
        "num_examples = 70\n",
        "w = 2\n",
        "b = 1\n",
        "bound = 1\n",
        "\n",
        "# Create data\n",
        "X, Y = create_1d_data(num_examples, w, b, bound)\n",
        "\n",
        "# Print shapes\n",
        "print('Printing shape of X:', X.shape)\n",
        "print('Printing first 10 elements in X:', X[:10])\n",
        "print('\\nPrinting shape of Y:', Y.shape)\n",
        "print('Printing first 10 elements in Y:', Y[:10])"
      ]
    },
    {
      "cell_type": "markdown",
      "metadata": {
        "id": "8NXo1n9j1LMT"
      },
      "source": [
        "---\n",
        "### Step 2: Data Preprocessing"
      ]
    },
    {
      "cell_type": "markdown",
      "metadata": {
        "id": "oZjOGi5fUjAN"
      },
      "source": [
        "Our objectives here involve adding one more feature to X and creating data partitions."
      ]
    },
    {
      "cell_type": "markdown",
      "metadata": {
        "id": "n0lx1EaPUjAN"
      },
      "source": [
        "### <span style=\"color:chocolate\">Exercise 1:</span> Adding features (10 points)"
      ]
    },
    {
      "cell_type": "markdown",
      "metadata": {
        "id": "Lyeb7oj2UjAN"
      },
      "source": [
        "1. Add a column of $1s$ to $X$ (this will serve as an intercept or \"bias\" in our modeling task later on). Note: do not create a new array, just concatenate with the current values;\n",
        "2. Print the shape of the array."
      ]
    },
    {
      "cell_type": "code",
      "execution_count": 4,
      "metadata": {
        "colab": {
          "base_uri": "https://localhost:8080/"
        },
        "id": "nXuJxslpUjAN",
        "outputId": "a0a555b6-47ad-416f-8bcc-a91e32137b67"
      },
      "outputs": [
        {
          "name": "stdout",
          "output_type": "stream",
          "text": [
            "Printing shape of X: (70, 2)\n",
            "Printing first 10 elements in X:\n",
            " [[1. 0.]\n",
            " [1. 1.]\n",
            " [1. 2.]\n",
            " [1. 3.]\n",
            " [1. 4.]\n",
            " [1. 5.]\n",
            " [1. 6.]\n",
            " [1. 7.]\n",
            " [1. 8.]\n",
            " [1. 9.]]\n"
          ]
        }
      ],
      "source": [
        "# YOUR CODE HERE\n",
        "# 1)\n",
        "# Currently, the X array is a one-dimensional array of values.\n",
        "# In order to add a column, we must first reshape it into a single (70,1):\n",
        "X = X.reshape(70,1)\n",
        "\n",
        "# Start by creating an array of one's. In order to concatenate, we must have two\n",
        "# arrays of the same shape:\n",
        "shape_X = X.shape\n",
        "X_one = np.ones(shape=shape_X)\n",
        "\n",
        "# Finally, concatenate the two arrays:\n",
        "X = np.concatenate((X_one, X), axis=1)\n",
        "\n",
        "# 2)\n",
        "# Print the shape of the array\n",
        "print('Printing shape of X:', X.shape)\n",
        "print('Printing first 10 elements in X:\\n', X[0:10,:])"
      ]
    },
    {
      "cell_type": "markdown",
      "metadata": {
        "id": "63CXjhMKUjAN"
      },
      "source": [
        "### <span style=\"color:chocolate\">Exercise 2:</span> Data splits (10 points)"
      ]
    },
    {
      "cell_type": "markdown",
      "metadata": {
        "id": "sxKQ_O8RUjAO"
      },
      "source": [
        "Using the <span style=\"color:chocolate\">train_test_split()</span> method available in scikit-learn:\n",
        "1. Split the (X,Y) data into training and test paritions by setting test_size=0.2 and random_state=1234. All the other arguments of the method are set to default values. Name the resulting arrays X_train, X_test, Y_train, Y_test;\n",
        "2. Print the shape of each array."
      ]
    },
    {
      "cell_type": "code",
      "execution_count": 5,
      "metadata": {
        "colab": {
          "base_uri": "https://localhost:8080/"
        },
        "id": "bjNv2nj3UjAO",
        "outputId": "551aadae-689e-48fd-acc5-63757d9183cb"
      },
      "outputs": [
        {
          "name": "stdout",
          "output_type": "stream",
          "text": [
            "Printing shape of X_train: (56, 2)\n",
            "Printing shape of X_test: (14, 2)\n",
            "Printing shape of Y_train: (56,)\n",
            "Printing shape of Y_test: (14,)\n"
          ]
        }
      ],
      "source": [
        "# YOUR CODE HERE\n",
        "# Use the train_test_split method to create our splits:\n",
        "X_train, X_test, Y_train, Y_test = train_test_split(\n",
        "    X, Y, test_size=0.2, random_state=1234)\n",
        "\n",
        "# Print the results:\n",
        "print('Printing shape of X_train:', X_train.shape)\n",
        "\n",
        "print('Printing shape of X_test:', X_test.shape)\n",
        "\n",
        "print('Printing shape of Y_train:', Y_train.shape)\n",
        "\n",
        "print('Printing shape of Y_test:', Y_test.shape)"
      ]
    },
    {
      "cell_type": "markdown",
      "metadata": {
        "id": "iCr61i7LUjAO"
      },
      "source": [
        "---\n",
        "### Step 3: Exploratory data analysis (EDA)"
      ]
    },
    {
      "cell_type": "markdown",
      "metadata": {
        "id": "viDCdgv6UjAO"
      },
      "source": [
        "### <span style=\"color:chocolate\">Exercise 3:</span> Plots (10 points)"
      ]
    },
    {
      "cell_type": "markdown",
      "metadata": {
        "id": "OUXJiw-4UjAO"
      },
      "source": [
        "Create a side-by-side histogram for the values in Y_train and X_train. Make sure to include axes name and titles for each subplot."
      ]
    },
    {
      "cell_type": "code",
      "execution_count": 6,
      "metadata": {
        "colab": {
          "base_uri": "https://localhost:8080/",
          "height": 718
        },
        "id": "iyG6QhzxUjAO",
        "outputId": "c8c9f697-ff6c-462e-98cb-5e177d8e06e4"
      },
      "outputs": [
        {
          "data": {
            "image/png": "[encoded data removed]",
            "text/plain": [
              "<Figure size 1600x800 with 2 Axes>"
            ]
          },
          "metadata": {},
          "output_type": "display_data"
        }
      ],
      "source": [
        "# YOUR CODE HERE\n",
        "# Create a subplot with 1 row and 2 columns:\n",
        "fig, axes = plt.subplots(1, 2, figsize=(16,8))\n",
        "\n",
        "# Set the positions of the two histograms:\n",
        "x_train_hist = axes[0]\n",
        "y_train_hist = axes[1]\n",
        "\n",
        "# Create the X_train subplot and add labels/title:\n",
        "x_train_hist.hist(x=X_train[:,1])\n",
        "x_train_hist.set_xlabel('X Training Data')\n",
        "x_train_hist.set_ylabel('Count')\n",
        "x_train_hist.set_title('Count of Values in X Training Data')\n",
        "\n",
        "# Create the Y_train subplot and add labels/title:\n",
        "y_train_hist.hist(x=Y_train)\n",
        "y_train_hist.set_xlabel('Y Training Data')\n",
        "y_train_hist.set_ylabel('Count')\n",
        "y_train_hist.set_title('Count of Values in X Training Data');"
      ]
    },
    {
      "cell_type": "markdown",
      "metadata": {
        "id": "vz74ozh7UjAO"
      },
      "source": [
        "---\n",
        "### Step 4: Modeling"
      ]
    },
    {
      "cell_type": "markdown",
      "metadata": {
        "id": "cxNIrZzyUjAO"
      },
      "source": [
        "Let's start by considering the two models proposed in Assignment 1:\n",
        "1. $M_1(x) = 5+x$\n",
        "2. $M_2(x) = 1+2x$"
      ]
    },
    {
      "cell_type": "markdown",
      "metadata": {
        "id": "2eWSvyp-UjAP"
      },
      "source": [
        "### <span style=\"color:chocolate\">Exercise 4:</span> Practice with Parameters (10 points)"
      ]
    },
    {
      "cell_type": "markdown",
      "metadata": {
        "id": "dC8S1Wc8UjAP"
      },
      "source": [
        "Perform the following computations:\n",
        "\n",
        "1. Use matrix multiplication (np.dot) to create $M_1$ and $M_2$ (as previously defined) to produce vectors of predictions using the X_train data. Call these predictions M1_hat_train, M2_hat_train. Hint: the \"learned\" parameters are alredy provided to you;\n",
        "3. Print the shapes of the predictions to verify that they match the shape of Y_train."
      ]
    },
    {
      "cell_type": "code",
      "execution_count": 7,
      "metadata": {
        "colab": {
          "base_uri": "https://localhost:8080/"
        },
        "id": "aBEZ_QOX6qOi",
        "outputId": "e686c997-436b-4a37-c383-6a6db778b7a5"
      },
      "outputs": [
        {
          "name": "stdout",
          "output_type": "stream",
          "text": [
            "First 10 values of M1_hat_train: [55. 70. 26. 57. 50. 45. 18. 72. 32. 63.]\n",
            "Printing shape of M1_hat_train: (56,)\n",
            "First 10 values of M2_hat_train: [101. 131.  43. 105.  91.  81.  27. 135.  55. 117.]\n",
            "Printing shape of M2_hat_train: (56,)\n"
          ]
        }
      ],
      "source": [
        "# YOUR CODE HERE\n",
        "# Create arrays for the learned parameters in M1 and M2:\n",
        "M1_w_array = np.array([5, 1])\n",
        "M2_w_array = np.array([1, 2])\n",
        "\n",
        "# Use the np.dot() method to predict values in M1_hat_train:\n",
        "M1_hat_train = np.dot(X_train, M1_w_array)\n",
        "print('First 10 values of M1_hat_train:', M1_hat_train[:10])\n",
        "print('Printing shape of M1_hat_train:', M1_hat_train.shape)\n",
        "\n",
        "# Use the np.dot() method to predict values in M2_hat_train:\n",
        "M2_hat_train = np.dot(X_train, M2_w_array)\n",
        "print('First 10 values of M2_hat_train:', M2_hat_train[:10])\n",
        "print('Printing shape of M2_hat_train:', M2_hat_train.shape)"
      ]
    },
    {
      "cell_type": "markdown",
      "metadata": {
        "id": "ini0UlxTUjAP"
      },
      "source": [
        "### <span style=\"color:chocolate\">Exercise 5:</span> Learn parameters with Gradient Descent (20 points)"
      ]
    },
    {
      "cell_type": "markdown",
      "metadata": {
        "id": "QaXYiTm9ftRf"
      },
      "source": [
        "1. Fill in the <span style=\"color:green\">NotImplemented</span> parts of the <span style=\"color:chocolate\">gradient_descent()</span> function below. Hint: refer to ``02 Linear Regression_helper.ipynb file``;\n",
        "\n",
        "2. Run this function with our artificial (X_train, Y_train) data . Set learning_rate = .0002 and num_epochs = 5. Print out the weights and loss after each epoch.\n",
        "\n",
        "3. Generate a plot with the loss values on the y-axis and the epoch number on the x-axis for visualization. Make sure to include axes name and title."
      ]
    },
    {
      "cell_type": "code",
      "execution_count": 8,
      "metadata": {
        "id": "_hP9rzDyFXTg"
      },
      "outputs": [],
      "source": [
        "def gradient_descent(inputs, outputs, learning_rate, num_epochs):\n",
        "  \"\"\"Apply the gradient descent algorithm to learn learn linear regression.\n",
        "\n",
        "  Args:\n",
        "    inputs: A 2-D array where each column is an input feature and each\n",
        "            row is a training example.\n",
        "    outputs: A 1-D array containing the real-valued\n",
        "             label corresponding to the input data in the same row.\n",
        "    learning_rate: The learning rate to use for updates.\n",
        "    num_epochs: The number of passes through the full training data.\n",
        "\n",
        "  Returns:\n",
        "    weights: A 2-D array with the learned weights after each training epoch.\n",
        "    losses: A 1-D array with the loss after each epoch.\n",
        "  \"\"\"\n",
        "  # m = number of examples, n = number of features\n",
        "  m, n = inputs.shape\n",
        "\n",
        "  # We'll use a vector of size n to store the learned weights and initialize\n",
        "  # all weights to 1.\n",
        "  W = np.ones(n)\n",
        "\n",
        "  # Keep track of the training loss and weights after each step.\n",
        "  losses = []\n",
        "  weights = []\n",
        "\n",
        "  for epoch in range(num_epochs):\n",
        "    # Append the old weights to the weights list to keep track of them.\n",
        "    weights.append(W)\n",
        "\n",
        "    # Evaluate the current predictions for the training examples given\n",
        "    # the current estimate of W (you did this in exercise 5).\n",
        "    predictions = np.dot(inputs, W)\n",
        "\n",
        "    # Find the difference between the predictions and the actual target\n",
        "    # values.\n",
        "    diff = predictions - outputs\n",
        "\n",
        "    # In standard linear regression, we want to minimize the sum of squared\n",
        "    # differences. Compute the mean squared error loss. Don't bother with the\n",
        "    # 1/2 scaling factor here.\n",
        "    loss = np.sum(diff**2) / m\n",
        "\n",
        "    # Append the loss to the losses list to keep a track of it.\n",
        "    losses.append(loss)\n",
        "\n",
        "    # Compute the gradient with respect to the loss.\n",
        "    # [Formula (4) in the Gradient Descent Implementation]\n",
        "    gradient = np.dot(diff, inputs) / m\n",
        "\n",
        "    # Update weights, scaling the gradient by the learning rate.\n",
        "    W = W - learning_rate * gradient\n",
        "\n",
        "  return np.array(weights), np.array(losses)"
      ]
    },
    {
      "cell_type": "code",
      "execution_count": 9,
      "metadata": {
        "colab": {
          "base_uri": "https://localhost:8080/",
          "height": 615
        },
        "id": "bzt2Q0GaUjAQ",
        "outputId": "af21ef1c-bfb5-48c0-f5c4-8bbc6c16464d"
      },
      "outputs": [
        {
          "name": "stdout",
          "output_type": "stream",
          "text": [
            "The Weights after each epoch are:\n",
            " [[1.         1.        ]\n",
            " [1.00709394 1.33262886]\n",
            " [1.01183193 1.55469157]\n",
            " [1.01499708 1.7029404 ]\n",
            " [1.01711221 1.80191116]]\n",
            "The Losses after each epoch are:\n",
            " [1665.36666086  742.41486626  331.06572624  147.73208293   66.02235863]\n"
          ]
        },
        {
          "data": {
            "image/png": "[encoded data removed]",
            "text/plain": [
              "<Figure size 640x480 with 1 Axes>"
            ]
          },
          "metadata": {},
          "output_type": "display_data"
        }
      ],
      "source": [
        "# YOUR CODE HERE\n",
        "# 2)\n",
        "# Run this function with our artificial (X_train, Y_train) data.\n",
        "# Set learning_rate = .0002 and num_epochs = 5. Print out the weights and loss\n",
        "# after each epoch:\n",
        "gradient_descent_test1 = gradient_descent(\n",
        "    inputs=X_train, outputs=Y_train, learning_rate=0.0002, num_epochs=5)\n",
        "print('The Weights after each epoch are:\\n', gradient_descent_test1[0])\n",
        "print('The Losses after each epoch are:\\n', gradient_descent_test1[1])\n",
        "\n",
        "# 3)\n",
        "# Generate a plot with the loss values on the y-axis and the epoch number on the\n",
        "# x-axis for visualization. Make sure to include axes name and title.\n",
        "\n",
        "# Create loss and epoch variables for easier plotting:\n",
        "losses = gradient_descent_test1[1]\n",
        "epochs = np.arange(len(losses))\n",
        "\n",
        "# Create our plot:\n",
        "plt.plot(epochs, losses, marker = 'o')\n",
        "\n",
        "# Set labels/title:\n",
        "plt.xlabel('Epoch Number')\n",
        "plt.ylabel('Loss')\n",
        "plt.title('Loss after each Epoch')\n",
        "plt.show()"
      ]
    },
    {
      "cell_type": "markdown",
      "metadata": {
        "id": "jNIwhqiuUjAQ"
      },
      "source": [
        "---\n",
        "### Step 5: Hyperparameter tuning"
      ]
    },
    {
      "cell_type": "markdown",
      "metadata": {
        "id": "GJDPS94JUjAQ"
      },
      "source": [
        "Hyperparameter tuning plays an important role in optimizing ML models. One systematically adjusts hyperparameters to find the right balance between model complexity and generalization, ultimately leading to better predictive performance and model effectiveness.\n",
        "\n",
        "Note that hyperparameter tuning is typically performed on **a separate validation dataset**. However, for the purposes of this assignment and based on the ML knowledge you've acquired thus far, we will perform hyperparameter tuning directly on the training data."
      ]
    },
    {
      "cell_type": "markdown",
      "metadata": {
        "id": "cXAq21pbUjAQ"
      },
      "source": [
        "### <span style=\"color:chocolate\">Exercise 6:</span> Tuning hyperparameters (10 points)"
      ]
    },
    {
      "cell_type": "markdown",
      "metadata": {
        "id": "uatuZisbUjAQ"
      },
      "source": [
        "Answer the following questions:\n",
        "    \n",
        "1. Do you think it would be beneficial to extend the model training in Exercise 5 by increasing the learning rate to 0.02? Justify your answer;\n",
        "\n",
        "2. Restoring to the previous learning_rate = .0002, would you  consider extending the model training in Exercise 5 by increasing the number of epochs to 10? Justify your answer.\n",
        "\n",
        "Note: to support your answers, we recommend the following actions:\n",
        "- create side-by-side subplots to show the loss at each epoch (make sure to include axes name and title), and\n",
        "- print the loss at the last epoch under the following scenarios:\n",
        "    - learning_rate=.0002, num_epochs=5;\n",
        "    - learning_rate=.02, num_epochs=5;\n",
        "    - learning_rate=.0002, num_epochs=10."
      ]
    },
    {
      "cell_type": "code",
      "execution_count": 10,
      "metadata": {
        "colab": {
          "base_uri": "https://localhost:8080/",
          "height": 592
        },
        "id": "2nnzh7-MUjAQ",
        "outputId": "f640fb27-64a9-4a76-dcdb-b5c2b7ba72f1"
      },
      "outputs": [
        {
          "name": "stdout",
          "output_type": "stream",
          "text": [
            "The Losses after each epoch (a = 0.0002, epochs = 5):\n",
            " [1665.36666086  742.41486626  331.06572624  147.73208293   66.02235863]\n",
            "The Losses after each epoch (a = 0.02, epochs = 5):\n",
            " [1.66536666e+03 1.73068342e+06 1.79891175e+09 1.86983017e+12\n",
            " 1.94354440e+15]\n",
            "The Losses after each epoch (a = 0.0002, epochs = 10):\n",
            " [1.66536666e+03 7.42414866e+02 3.31065726e+02 1.47732083e+02\n",
            " 6.60223586e+01 2.96052617e+01 1.33745746e+01 6.14074143e+00\n",
            " 2.91670386e+00 1.47978668e+00]\n"
          ]
        },
        {
          "data": {
            "image/png": "[encoded data removed]",
            "text/plain": [
              "<Figure size 1200x400 with 3 Axes>"
            ]
          },
          "metadata": {},
          "output_type": "display_data"
        }
      ],
      "source": [
        "# YOUR CODE HERE\n",
        "# 1)\n",
        "# Run the different examples and print the loss after each:\n",
        "\n",
        "# Learning rate = 0.0002, num_epochs = 5:\n",
        "gradient_descent_test1 = gradient_descent(\n",
        "    inputs=X_train, outputs=Y_train, learning_rate=0.0002, num_epochs=5)\n",
        "print('The Losses after each epoch (a = 0.0002, epochs = 5):\\n',\n",
        "      gradient_descent_test1[1])\n",
        "\n",
        "# Learning rate = 0.02, num_epochs = 5:\n",
        "gradient_descent_test2 = gradient_descent(\n",
        "    inputs=X_train, outputs=Y_train, learning_rate=0.02, num_epochs=5)\n",
        "print('The Losses after each epoch (a = 0.02, epochs = 5):\\n',\n",
        "      gradient_descent_test2[1])\n",
        "\n",
        "# Learning rate = 0.0002, num_epochs = 10:\n",
        "gradient_descent_test3 = gradient_descent(\n",
        "    inputs=X_train, outputs=Y_train, learning_rate=0.0002, num_epochs=10)\n",
        "print('The Losses after each epoch (a = 0.0002, epochs = 10):\\n',\n",
        "      gradient_descent_test3[1])\n",
        "\n",
        "# Plot the results to compare them visually:\n",
        "\n",
        "# Create variables to store for easier plotting later:\n",
        "losses1 = gradient_descent_test1[1]\n",
        "epochs1 = np.arange(len(losses1))\n",
        "\n",
        "losses2 = gradient_descent_test2[1]\n",
        "epochs2 = np.arange(len(losses2))\n",
        "\n",
        "losses3 = gradient_descent_test3[1]\n",
        "epochs3 = np.arange(len(losses3))\n",
        "\n",
        "# Create figures for subplots:\n",
        "fig, axes = plt.subplots(1, 3, figsize=(12,4))\n",
        "\n",
        "# Set the position of each subplot:\n",
        "gradient_descent_test1_plot = axes[0]\n",
        "gradient_descent_test2_plot = axes[1]\n",
        "gradient_descent_test3_plot = axes[2]\n",
        "\n",
        "# Plot each:\n",
        "gradient_descent_test1_plot.plot(epochs1, losses1, marker = 'o')\n",
        "gradient_descent_test2_plot.plot(epochs2, losses2, marker = 'o')\n",
        "gradient_descent_test3_plot.plot(epochs3, losses3, marker = 'o')\n",
        "\n",
        "# Set labels/title for subplot 1:\n",
        "gradient_descent_test1_plot.set_xlabel('Epoch Number')\n",
        "gradient_descent_test1_plot.set_ylabel('Loss')\n",
        "gradient_descent_test1_plot.set_title('Loss after each Epoch\\n (a=0.0002, Epochs=5)')\n",
        "\n",
        "# Set labels/title for subplot 2:\n",
        "gradient_descent_test2_plot.set_xlabel('Epoch Number')\n",
        "gradient_descent_test2_plot.set_ylabel('Loss')\n",
        "gradient_descent_test2_plot.set_title('Loss after each Epoch\\n (a=0.02, Epochs=5)')\n",
        "\n",
        "# Set labels/title for subplot 3:\n",
        "gradient_descent_test3_plot.set_xlabel('Epoch Number')\n",
        "gradient_descent_test3_plot.set_ylabel('Loss')\n",
        "gradient_descent_test3_plot.set_title('Loss after each Epoch\\n (a=0.0002, Epochs=10)');"
      ]
    },
    {
      "cell_type": "markdown",
      "metadata": {
        "id": "NRT9EugIumQD"
      },
      "source": [
        "1. Do you think it would be beneficial to extend the model training in Exercise 5 by increasing the learning rate to 0.02? Justify your answer;\n",
        "  - **No, it would not be beneficial to increase the learning rate to 0.02 in our model. As you can see from subplot 2 above, the loss function increases, instead of decreasing. This means that our model has actually diverged away from the true answer, and will not generalize well.**\n",
        "\n",
        "2. Restoring to the previous learning_rate = .0002, would you  consider extending the model training in Exercise 5 by increasing the number of epochs to 10? Justify your answer.\n",
        "  - **Yes, increasing the epochs to 10 improves our model by decreasing loss. It appears to approach a minima, as opposed to our original model with 5 epochs.**"
      ]
    },
    {
      "cell_type": "markdown",
      "metadata": {
        "id": "dyX1hsLgUjAR"
      },
      "source": [
        "### <span style=\"color:chocolate\">Exercise 7:</span> Choosing the best model (10 points)"
      ]
    },
    {
      "cell_type": "markdown",
      "metadata": {
        "id": "OOlK0bsqUjAR"
      },
      "source": [
        "Write down the learned model that you consider most optimal given your answers to the hyperparameter tuning exercise. Call this model $M_3(x)$."
      ]
    },
    {
      "cell_type": "code",
      "execution_count": 11,
      "metadata": {
        "colab": {
          "base_uri": "https://localhost:8080/"
        },
        "id": "1B1e9JuGUjAR",
        "outputId": "7c8ae928-946d-4dcb-e1ae-50b5bd7a463b"
      },
      "outputs": [
        {
          "name": "stdout",
          "output_type": "stream",
          "text": [
            "The Weights after each epoch (a = 0.0002, epochs = 10):\n",
            " [[1.         1.        ]\n",
            " [1.00709394 1.33262886]\n",
            " [1.01183193 1.55469157]\n",
            " [1.01499708 1.7029404 ]\n",
            " [1.01711221 1.80191116]\n",
            " [1.01852634 1.8679839 ]\n",
            " [1.01947249 1.91209397]\n",
            " [1.02010622 1.94154177]\n",
            " [1.02053137 1.96120106]\n",
            " [1.02081727 1.97432553]]\n",
            "The best weights of M3_hat_train are :\n",
            " [1.02081727 1.97432553]\n",
            "The first 10 results of M3_hat_train:\n",
            " [ 99.73709393 129.35197693  42.48165347 103.685745    89.86546627\n",
            "  79.9938386   26.6870492  133.300628    54.32760667 115.5316982 ]\n"
          ]
        }
      ],
      "source": [
        "# YOUR ANSWER HERE\n",
        "\n",
        "# We will go with the third model from above (a = 0.0002, Epochs = 10) since it\n",
        "# produced the lowest loss values.\n",
        "\n",
        "# For use in the next problem, run the gradient_descent function on these\n",
        "# chosen parameters:\n",
        "gradient_descent_test3 = gradient_descent(\n",
        "    inputs=X_train, outputs=Y_train, learning_rate=0.0002, num_epochs=10)\n",
        "print('The Weights after each epoch (a = 0.0002, epochs = 10):\\n',\n",
        "      gradient_descent_test3[0])\n",
        "\n",
        "# To compute M3_hat_train, we must first isolate the weights that gave the best\n",
        "# results (the last epoch):\n",
        "M3_w_array = gradient_descent_test3[0][9]\n",
        "print('The best weights of M3_hat_train are :\\n', M3_w_array)\n",
        "\n",
        "# Compute M3_hat_train using the np.dot() method, similar to above:\n",
        "M3_hat_train = np.dot(X_train, M3_w_array.T)\n",
        "\n",
        "# Print the results:\n",
        "print('The first 10 results of M3_hat_train:\\n', M3_hat_train[:10])"
      ]
    },
    {
      "cell_type": "markdown",
      "metadata": {
        "id": "M5hhxaGRUjAR"
      },
      "source": [
        "---\n",
        "### Step 6: Evaluation and Generalization"
      ]
    },
    {
      "cell_type": "markdown",
      "metadata": {
        "id": "OGLIm_H1UjAb"
      },
      "source": [
        "To evaluate our models, we assess their performance based on how closely they fit the available data. In other words, we compare the true value $y$ with the predicted value $\\hat{y}$ for each $x$."
      ]
    },
    {
      "cell_type": "markdown",
      "metadata": {
        "id": "tkkJ9qrdUjAb"
      },
      "source": [
        "### <span style=\"color:chocolate\">Exercise 8:</span> Computing MSE (10 points)"
      ]
    },
    {
      "cell_type": "markdown",
      "metadata": {
        "id": "xon0CEHOUjAb"
      },
      "source": [
        "Assess the performance of the three models ($M_1(x)$, $M_2(x)$, $M_3(x)$) by computing the MSE metric on the training dataset. Hint: you can use the <span style=\"color:chocolate\">mean_squared_error()</span> method available in sklearn.metrics."
      ]
    },
    {
      "cell_type": "code",
      "execution_count": 12,
      "metadata": {
        "colab": {
          "base_uri": "https://localhost:8080/"
        },
        "id": "eM_Y4K9tUjAc",
        "outputId": "7c647ad0-77e5-444e-c348-2fef278e0439"
      },
      "outputs": [
        {
          "name": "stdout",
          "output_type": "stream",
          "text": [
            "The MSE of M1_hat_train =  1397.608983658733\n",
            "The MSE of M2_hat_train =  0.3280557752885262\n",
            "The MSE of M3_hat_train =  1.479786682981072\n"
          ]
        }
      ],
      "source": [
        "# YOUR CODE HERE\n",
        "# Use the mean_squared_error method from sklearn to compute the MSE of each\n",
        "# model, using the Y_train dataset as the true values:\n",
        "M1_mse_train = mean_squared_error(y_true=Y_train, y_pred=M1_hat_train)\n",
        "M2_mse_train = mean_squared_error(y_true=Y_train, y_pred=M2_hat_train)\n",
        "M3_mse_train = mean_squared_error(y_true=Y_train, y_pred=M3_hat_train)\n",
        "\n",
        "# Print the results of each:\n",
        "print('The MSE of M1_hat_train = ', M1_mse_train)\n",
        "print('The MSE of M2_hat_train = ', M2_mse_train)\n",
        "print('The MSE of M3_hat_train = ', M3_mse_train)"
      ]
    },
    {
      "cell_type": "markdown",
      "metadata": {
        "id": "F1_d3BhvUjAc"
      },
      "source": [
        "### <span style=\"color:chocolate\">Exercise 9:</span> Generalization (10 points)"
      ]
    },
    {
      "cell_type": "markdown",
      "metadata": {
        "id": "uANv0QOjUjAc"
      },
      "source": [
        "Which of the three models ($M_1(x)$, $M_2(x)$, $M_3(x)$) demonstrates better generalization ability?"
      ]
    },
    {
      "cell_type": "code",
      "execution_count": 13,
      "metadata": {
        "colab": {
          "base_uri": "https://localhost:8080/"
        },
        "id": "IEBN3RG5UjAc",
        "outputId": "1fe6ad53-5f12-473f-cbd2-98c8286c044b"
      },
      "outputs": [
        {
          "name": "stdout",
          "output_type": "stream",
          "text": [
            "The MSE of M1_hat_train =  1113.6003911560044\n",
            "The MSE of M2_hat_train =  0.2908006971666422\n",
            "The MSE of M3_hat_train =  1.066053488198779\n"
          ]
        }
      ],
      "source": [
        "# YOUR CODE HERE\n",
        "# First, compute the values using the test dataset for each model:\n",
        "M1_hat_test = np.dot(X_test, M1_w_array)\n",
        "M2_hat_test = np.dot(X_test, M2_w_array)\n",
        "M3_hat_test = np.dot(X_test, M3_w_array)\n",
        "\n",
        "# Then, compute MSE for each:\n",
        "M1_mse_test = mean_squared_error(y_true=Y_test, y_pred=M1_hat_test)\n",
        "M2_mse_test = mean_squared_error(y_true=Y_test, y_pred=M2_hat_test)\n",
        "M3_mse_test = mean_squared_error(y_true=Y_test, y_pred=M3_hat_test)\n",
        "\n",
        "# Print the results:\n",
        "print('The MSE of M1_hat_train = ', M1_mse_test)\n",
        "print('The MSE of M2_hat_train = ', M2_mse_test)\n",
        "print('The MSE of M3_hat_train = ', M3_mse_test)"
      ]
    },
    {
      "cell_type": "markdown",
      "metadata": {
        "id": "gItmrjftUjAc"
      },
      "source": [
        "----\n",
        "#### <span style=\"color:chocolate\">Bonus question</span> (20 points)"
      ]
    },
    {
      "cell_type": "markdown",
      "metadata": {
        "id": "HyI7YLf5UjAc"
      },
      "source": [
        "1. How does stochastic gradient descent (SGD) differ from the gradient descent (GD) approach implemented in Exercise 5?\n",
        "2. Determine the optimal weights for model $M_3(x)$ using SGD. Does SGD converge more rapidly? Explain the reasons for your answer."
      ]
    },
    {
      "cell_type": "code",
      "execution_count": 14,
      "metadata": {
        "id": "ZwQAZVDkUjAc"
      },
      "outputs": [],
      "source": [
        "# YOUR ANSWER HERE"
      ]
    },
    {
      "cell_type": "code",
      "execution_count": 15,
      "metadata": {
        "id": "fQX8vbj9UjAd"
      },
      "outputs": [],
      "source": [
        "# YOUR CODE HERE"
      ]
    }
  ],
  "metadata": {
    "colab": {
      "provenance": []
    },
    "kernelspec": {
      "display_name": "Python 3",
      "name": "python3"
    },
    "language_info": {
      "codemirror_mode": {
        "name": "ipython",
        "version": 3
      },
      "file_extension": ".py",
      "mimetype": "text/x-python",
      "name": "python",
      "nbconvert_exporter": "python",
      "pygments_lexer": "ipython3",
      "version": "3.8.3"
    }
  },
  "nbformat": 4,
  "nbformat_minor": 0
}
