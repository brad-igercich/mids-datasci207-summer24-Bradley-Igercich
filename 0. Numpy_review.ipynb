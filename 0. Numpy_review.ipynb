{
 "cells": [
  {
   "cell_type": "markdown",
   "id": "fb19a209",
   "metadata": {},
   "source": [
    "# Assignment 0"
   ]
  },
  {
   "cell_type": "markdown",
   "id": "70578e9a",
   "metadata": {},
   "source": [
    "### <span style=\"color:chocolate\"> Submission requirements </span>\n",
    "\n",
    "Your work will not be graded if your notebook doesn't include output. In other words, <span style=\"color:red\"> make sure to rerun your notebook before submitting to Gradescope </span> (Note: if you are using Google Colab: go to Edit > Notebook Settings  and uncheck Omit code cell output when saving this notebook, otherwise the output is not printed).\n",
    "\n",
    "Additional points may be deducted if these requirements are not met:\n",
    "    \n",
    "* Comment your code;\n",
    "* Each graph should have a title, labels for each axis, and (if needed) a legend. Each graph should be understandable on its own;\n",
    "* Try and minimize the use of the global namespace (meaning, keep things inside functions).\n",
    "---"
   ]
  },
  {
   "cell_type": "markdown",
   "id": "13a171ed",
   "metadata": {},
   "source": [
    "### Import libraries"
   ]
  },
  {
   "cell_type": "code",
   "execution_count": 1,
   "id": "a64b2988",
   "metadata": {},
   "outputs": [],
   "source": [
    "import numpy as np"
   ]
  },
  {
   "cell_type": "markdown",
   "id": "809e27ae",
   "metadata": {},
   "source": [
    "---\n",
    "### <span style=\"color:chocolate\">Exercise 1:</span> Homogenous data types (10 points)\n",
    "\n",
    "1. Create a numpy array (my_array1) containing only integer values. Print the shape of the array and the type of its elements;\n",
    "2. Create another numpy array (my_array2) containing a mix of integer and string values. Print the shape of the array and the type of its elements. Comment on the type of its elements."
   ]
  },
  {
   "cell_type": "code",
   "execution_count": 2,
   "id": "ae568991",
   "metadata": {},
   "outputs": [
    {
     "name": "stdout",
     "output_type": "stream",
     "text": [
      "1) my_array1:  [ 0  1  2  3  4  5  6  7  8  9 10 11 12 13 14 15 16 17 18 19]\n",
      "The shape of my_array1 is: (20,)\n",
      "The data type of my_array1 is: int64\n",
      "**************************************************\n",
      "2) my_array2:  ['1' 'two' '3' 'four' '5' 'six']\n",
      "The shape of my_array2 is: (6,)\n",
      "The data type of my_array2 is: <U21\n"
     ]
    }
   ],
   "source": [
    "# YOUR CODE HERE\n",
    "\n",
    "# 1)\n",
    "# Create the array using np.arange. This creates 20 integer values beginning at zero:\n",
    "my_array1 = np.arange(20)\n",
    "print('1) my_array1: ', my_array1)\n",
    "\n",
    "# Print the shape of the array and type of its elements:\n",
    "print('The shape of my_array1 is:', my_array1.shape)\n",
    "print('The data type of my_array1 is:', my_array1.dtype)\n",
    "print(\"*\"*50)\n",
    "\n",
    "# 2) Create an array with a mix of integers and strings: \n",
    "my_array2 = np.array([1, 'two', 3, 'four', 5, 'six'])\n",
    "print('2) my_array2: ', my_array2)\n",
    "\n",
    "# Print the shape of the array and type of its elements:\n",
    "print('The shape of my_array2 is:', my_array2.shape)\n",
    "print('The data type of my_array2 is:', my_array2.dtype)\n",
    "\n",
    "# The data type of my_array2 is listed as \"<U21.\" \n",
    "# The reason for this is because numpy automatically tries to find a data type that can uniformly represent all items in the array. \n",
    "# Because there is a mix of strings and integers, numpy is reassigning the integers into strings."
   ]
  },
  {
   "cell_type": "markdown",
   "id": "dd2832bf",
   "metadata": {},
   "source": [
    "---\n",
    "#### <span style=\"color:chocolate\">Exercise 2:</span> The size attribute (10 points)\n",
    "\n",
    "Create a numpy array (my_array3) and print its shape, size, and data type. What does size represent?"
   ]
  },
  {
   "cell_type": "code",
   "execution_count": 3,
   "id": "cca6b9a0",
   "metadata": {},
   "outputs": [
    {
     "name": "stdout",
     "output_type": "stream",
     "text": [
      "The shape of my_array3 is: (20,)\n",
      "The size of my_array3 is: 20\n",
      "The data type of my_array3 is: int64\n"
     ]
    }
   ],
   "source": [
    "# YOUR CODE HERE\n",
    "\n",
    "# Create the array using np.arange. This creates 20 integer values beginning at zero:\n",
    "my_array3 = np.arange(20)\n",
    "\n",
    "# Print the shape, size, and data type:\n",
    "print('The shape of my_array3 is:', my_array3.shape)\n",
    "print('The size of my_array3 is:', my_array3.size)\n",
    "print('The data type of my_array3 is:', my_array3.dtype)\n",
    "\n",
    "# The size of an array represents the total number of elements in that array."
   ]
  },
  {
   "cell_type": "markdown",
   "id": "6b407fab",
   "metadata": {},
   "source": [
    "---\n",
    "#### <span style=\"color:chocolate\">Exercise 3:</span> Tabular data layout (10 points)"
   ]
  },
  {
   "cell_type": "markdown",
   "id": "dd66e32a",
   "metadata": {},
   "source": [
    "Create a tabular data layout using the numpy method <span style=\"color:chocolate\">np.random.random()</span>, where:\n",
    "* the first input is num_samples, and\n",
    "* the second input is num_features. \n",
    "\n",
    "Print the shape of the array."
   ]
  },
  {
   "cell_type": "code",
   "execution_count": 4,
   "id": "742399c2",
   "metadata": {},
   "outputs": [
    {
     "name": "stdout",
     "output_type": "stream",
     "text": [
      "my_table1:\n",
      " [[0.84625936 0.32769956 0.77374803 ... 0.88765647 0.50041651 0.41494883]\n",
      " [0.95102894 0.31142221 0.35979241 ... 0.93626623 0.42060315 0.59736037]\n",
      " [0.86810423 0.60872624 0.03567826 ... 0.7319391  0.60528389 0.86680627]\n",
      " ...\n",
      " [0.56755307 0.23599543 0.76777717 ... 0.52581956 0.92273491 0.19238525]\n",
      " [0.34042485 0.11099622 0.13925124 ... 0.3120834  0.93619492 0.79126023]\n",
      " [0.46462051 0.96334432 0.55185684 ... 0.53769926 0.55718048 0.24437064]]\n",
      "**************************************************\n",
      "The shape of my_table1 is: (100, 17)\n"
     ]
    }
   ],
   "source": [
    "# already defined first and second inputs\n",
    "num_samples = 100\n",
    "num_features = 17\n",
    "\n",
    "# YOUR CODE HERE\n",
    "\n",
    "# Create the table using the np.random.random function:\n",
    "my_table1 = np.random.random(size = (num_samples, num_features))\n",
    "print('my_table1:\\n', my_table1)\n",
    "print('*' * 50)\n",
    "\n",
    "# Print the shape of the table:\n",
    "print('The shape of my_table1 is:', my_table1.shape)"
   ]
  },
  {
   "cell_type": "markdown",
   "id": "100cc7cb",
   "metadata": {},
   "source": [
    "---\n",
    "#### <span style=\"color:chocolate\">Exercise 4:</span> Image data layout (10 points)"
   ]
  },
  {
   "cell_type": "markdown",
   "id": "1b5bf451",
   "metadata": {},
   "source": [
    "Create an image data layout using the numpy method <span style=\"color:chocolate\">np.random.random()</span>, where:\n",
    "\n",
    "* the first input is num_images;\n",
    "* the second input is num_rows;\n",
    "* the third input is num_cols;\n",
    "* the fourth input is num_channels.\n",
    "\n",
    "Print the shape of the array."
   ]
  },
  {
   "cell_type": "code",
   "execution_count": 5,
   "id": "51f6deb1",
   "metadata": {},
   "outputs": [
    {
     "name": "stdout",
     "output_type": "stream",
     "text": [
      "my_table2:\n",
      " [[[[0.07284565 0.35205273 0.48887776]\n",
      "   [0.00592627 0.31525203 0.18585993]\n",
      "   [0.27060606 0.04900755 0.72663629]\n",
      "   ...\n",
      "   [0.23893219 0.3017157  0.42701451]\n",
      "   [0.32143174 0.18682881 0.11753484]\n",
      "   [0.55339018 0.79802543 0.04555624]]\n",
      "\n",
      "  [[0.56850174 0.37724682 0.78319402]\n",
      "   [0.71184396 0.09921474 0.60298905]\n",
      "   [0.08734802 0.15405115 0.33072039]\n",
      "   ...\n",
      "   [0.75037035 0.89228868 0.41961495]\n",
      "   [0.28458952 0.51071165 0.60003239]\n",
      "   [0.74579607 0.08947436 0.60271449]]\n",
      "\n",
      "  [[0.90295242 0.06423093 0.43647154]\n",
      "   [0.80459246 0.78858625 0.46111025]\n",
      "   [0.5819954  0.29426044 0.2421269 ]\n",
      "   ...\n",
      "   [0.26656857 0.79984331 0.21371973]\n",
      "   [0.99899288 0.92872428 0.65387064]\n",
      "   [0.31928228 0.71218824 0.58532416]]\n",
      "\n",
      "  ...\n",
      "\n",
      "  [[0.09343259 0.05858375 0.89283409]\n",
      "   [0.44091746 0.99059904 0.69542833]\n",
      "   [0.36216859 0.90657131 0.8957914 ]\n",
      "   ...\n",
      "   [0.26488467 0.63617509 0.82388409]\n",
      "   [0.81439098 0.54460995 0.70126649]\n",
      "   [0.12019946 0.96250865 0.12711525]]\n",
      "\n",
      "  [[0.39016254 0.97763617 0.65723704]\n",
      "   [0.50246042 0.39169686 0.58712726]\n",
      "   [0.28890197 0.67896833 0.86303234]\n",
      "   ...\n",
      "   [0.29738631 0.36206035 0.41029989]\n",
      "   [0.8613253  0.89994822 0.49615666]\n",
      "   [0.41956554 0.58678793 0.67850161]]\n",
      "\n",
      "  [[0.30162859 0.89164594 0.58217997]\n",
      "   [0.27509809 0.4440944  0.59653645]\n",
      "   [0.77796506 0.56233568 0.10350815]\n",
      "   ...\n",
      "   [0.64526813 0.64610495 0.79228822]\n",
      "   [0.40630142 0.47909027 0.70775596]\n",
      "   [0.2310268  0.17170411 0.20742647]]]\n",
      "\n",
      "\n",
      " [[[0.32652842 0.87728517 0.33415158]\n",
      "   [0.05134925 0.32854307 0.80543916]\n",
      "   [0.84772502 0.24679641 0.89915368]\n",
      "   ...\n",
      "   [0.69097144 0.90381733 0.01787175]\n",
      "   [0.33983648 0.73390025 0.58722227]\n",
      "   [0.59376507 0.03743233 0.00490351]]\n",
      "\n",
      "  [[0.54466622 0.83456162 0.03742671]\n",
      "   [0.34226357 0.38206103 0.25864006]\n",
      "   [0.15968626 0.86416806 0.12570868]\n",
      "   ...\n",
      "   [0.98848415 0.93264618 0.68132055]\n",
      "   [0.96627144 0.36896126 0.85513931]\n",
      "   [0.60502104 0.88812809 0.16742783]]\n",
      "\n",
      "  [[0.76892448 0.05131857 0.04609837]\n",
      "   [0.50193038 0.31231819 0.86231767]\n",
      "   [0.70497924 0.0038851  0.37302046]\n",
      "   ...\n",
      "   [0.18014788 0.32133422 0.07796506]\n",
      "   [0.10377942 0.46660227 0.4809801 ]\n",
      "   [0.37412396 0.86183689 0.69951763]]\n",
      "\n",
      "  ...\n",
      "\n",
      "  [[0.44106559 0.41266228 0.42794066]\n",
      "   [0.62359182 0.51650828 0.1015786 ]\n",
      "   [0.04057704 0.18009205 0.60158847]\n",
      "   ...\n",
      "   [0.64756853 0.67227237 0.96944055]\n",
      "   [0.11501771 0.69271238 0.56988968]\n",
      "   [0.79566321 0.32255914 0.84113416]]\n",
      "\n",
      "  [[0.9747491  0.87678829 0.49178713]\n",
      "   [0.34700158 0.73493738 0.98099823]\n",
      "   [0.15732953 0.53196212 0.87437418]\n",
      "   ...\n",
      "   [0.38308672 0.03674638 0.62992993]\n",
      "   [0.80357245 0.92160865 0.55299708]\n",
      "   [0.30986474 0.80787788 0.59649135]]\n",
      "\n",
      "  [[0.53884282 0.45936973 0.96334958]\n",
      "   [0.66363262 0.14719377 0.76561492]\n",
      "   [0.22292685 0.36501555 0.45771542]\n",
      "   ...\n",
      "   [0.25817043 0.75855024 0.82545114]\n",
      "   [0.75964399 0.673287   0.44745801]\n",
      "   [0.28793658 0.01179244 0.63981383]]]\n",
      "\n",
      "\n",
      " [[[0.63949178 0.9266726  0.2919203 ]\n",
      "   [0.32151685 0.6955542  0.47938923]\n",
      "   [0.48926149 0.53732797 0.08611325]\n",
      "   ...\n",
      "   [0.14046866 0.10327001 0.37153323]\n",
      "   [0.7642752  0.36890389 0.31741716]\n",
      "   [0.50562837 0.3364397  0.11480786]]\n",
      "\n",
      "  [[0.130341   0.92256515 0.35132212]\n",
      "   [0.68810101 0.95153635 0.01171456]\n",
      "   [0.1761303  0.04644596 0.451144  ]\n",
      "   ...\n",
      "   [0.55016522 0.46681013 0.27387999]\n",
      "   [0.44665408 0.30957341 0.58728362]\n",
      "   [0.49855848 0.21926008 0.5837023 ]]\n",
      "\n",
      "  [[0.52573941 0.93354687 0.07508815]\n",
      "   [0.44383944 0.88859809 0.98609897]\n",
      "   [0.98579451 0.88019866 0.36086023]\n",
      "   ...\n",
      "   [0.97418914 0.14084182 0.90966382]\n",
      "   [0.5857897  0.06562017 0.150781  ]\n",
      "   [0.05950499 0.5419999  0.58614429]]\n",
      "\n",
      "  ...\n",
      "\n",
      "  [[0.77464826 0.70132203 0.44735447]\n",
      "   [0.8597088  0.97387589 0.18251384]\n",
      "   [0.54562646 0.49477479 0.59836682]\n",
      "   ...\n",
      "   [0.26963159 0.73394529 0.06602018]\n",
      "   [0.49245372 0.09153041 0.26257286]\n",
      "   [0.70197973 0.95685431 0.16040904]]\n",
      "\n",
      "  [[0.24540566 0.2139633  0.46516845]\n",
      "   [0.71694515 0.05554179 0.14980865]\n",
      "   [0.08808796 0.34105713 0.6982041 ]\n",
      "   ...\n",
      "   [0.13534877 0.52493019 0.38699879]\n",
      "   [0.70988395 0.2007563  0.39839553]\n",
      "   [0.55499024 0.63685719 0.10567521]]\n",
      "\n",
      "  [[0.88880263 0.24950682 0.34049886]\n",
      "   [0.77533621 0.88770902 0.05468817]\n",
      "   [0.2937002  0.90848517 0.82097304]\n",
      "   ...\n",
      "   [0.06835832 0.64314858 0.94780989]\n",
      "   [0.12540096 0.08171453 0.59117417]\n",
      "   [0.53358984 0.84099416 0.0182383 ]]]\n",
      "\n",
      "\n",
      " ...\n",
      "\n",
      "\n",
      " [[[0.10722786 0.64215578 0.46521977]\n",
      "   [0.26279909 0.54674205 0.6233773 ]\n",
      "   [0.00818785 0.98692561 0.24347448]\n",
      "   ...\n",
      "   [0.56639231 0.67392327 0.14468718]\n",
      "   [0.34277633 0.00510292 0.70955853]\n",
      "   [0.82987772 0.41407186 0.9806609 ]]\n",
      "\n",
      "  [[0.42680829 0.48483887 0.72389552]\n",
      "   [0.61867819 0.41282998 0.68231723]\n",
      "   [0.9125891  0.99008485 0.43930413]\n",
      "   ...\n",
      "   [0.12500485 0.39760555 0.65399121]\n",
      "   [0.61497004 0.27097381 0.63870025]\n",
      "   [0.81489598 0.82139357 0.37471838]]\n",
      "\n",
      "  [[0.7248144  0.39235418 0.60070928]\n",
      "   [0.16549613 0.49318776 0.29034821]\n",
      "   [0.64262987 0.80556574 0.00301188]\n",
      "   ...\n",
      "   [0.55755194 0.22748756 0.97615088]\n",
      "   [0.50275313 0.58166447 0.39981366]\n",
      "   [0.07669093 0.76001001 0.98462982]]\n",
      "\n",
      "  ...\n",
      "\n",
      "  [[0.0707823  0.19964483 0.41948551]\n",
      "   [0.84797197 0.80000442 0.3569431 ]\n",
      "   [0.32566744 0.64867575 0.41225419]\n",
      "   ...\n",
      "   [0.63749145 0.11026107 0.47637234]\n",
      "   [0.93902191 0.24029848 0.24670927]\n",
      "   [0.63433274 0.40495796 0.6661296 ]]\n",
      "\n",
      "  [[0.62906384 0.38839528 0.14204429]\n",
      "   [0.16858241 0.1947601  0.17958724]\n",
      "   [0.71667339 0.60293188 0.94600603]\n",
      "   ...\n",
      "   [0.47181719 0.8761698  0.88564981]\n",
      "   [0.26084481 0.46331849 0.15146087]\n",
      "   [0.62071595 0.97273792 0.19006224]]\n",
      "\n",
      "  [[0.96738505 0.00453039 0.04856812]\n",
      "   [0.41215621 0.61412203 0.61886533]\n",
      "   [0.30571059 0.32958895 0.28986067]\n",
      "   ...\n",
      "   [0.56562673 0.05075008 0.98537519]\n",
      "   [0.95499305 0.61690454 0.41517242]\n",
      "   [0.76757079 0.62657972 0.89558656]]]\n",
      "\n",
      "\n",
      " [[[0.44291223 0.01979573 0.93943475]\n",
      "   [0.47640349 0.32494032 0.62548359]\n",
      "   [0.4906992  0.06465371 0.78070815]\n",
      "   ...\n",
      "   [0.15141601 0.73615076 0.59731809]\n",
      "   [0.12899442 0.92366367 0.2204515 ]\n",
      "   [0.67544038 0.88132024 0.35565588]]\n",
      "\n",
      "  [[0.65053956 0.3538836  0.68929792]\n",
      "   [0.21049062 0.15092018 0.72949577]\n",
      "   [0.24815554 0.37003253 0.32485181]\n",
      "   ...\n",
      "   [0.79789304 0.46776315 0.84733919]\n",
      "   [0.8349823  0.97090878 0.05630652]\n",
      "   [0.80800998 0.5689398  0.11820834]]\n",
      "\n",
      "  [[0.70302307 0.29090522 0.67101501]\n",
      "   [0.81679794 0.53944594 0.62424042]\n",
      "   [0.83059901 0.24123277 0.0178719 ]\n",
      "   ...\n",
      "   [0.53699792 0.38491297 0.55786425]\n",
      "   [0.50642559 0.75229457 0.25514129]\n",
      "   [0.54363154 0.84200713 0.1653072 ]]\n",
      "\n",
      "  ...\n",
      "\n",
      "  [[0.92943249 0.11605149 0.19724474]\n",
      "   [0.84862739 0.23348197 0.31597523]\n",
      "   [0.82560833 0.00424187 0.43591886]\n",
      "   ...\n",
      "   [0.68177946 0.51605175 0.63069716]\n",
      "   [0.21534047 0.8389036  0.64592732]\n",
      "   [0.47235114 0.35255996 0.08083867]]\n",
      "\n",
      "  [[0.06997584 0.469796   0.82537131]\n",
      "   [0.96481943 0.05530581 0.61171437]\n",
      "   [0.30073548 0.30154301 0.69000767]\n",
      "   ...\n",
      "   [0.77378826 0.04149519 0.20278694]\n",
      "   [0.48391288 0.12704976 0.15491059]\n",
      "   [0.90831693 0.15163484 0.49866214]]\n",
      "\n",
      "  [[0.07971732 0.49004817 0.00411688]\n",
      "   [0.52283239 0.77778245 0.35320366]\n",
      "   [0.07038323 0.82257721 0.79336486]\n",
      "   ...\n",
      "   [0.37443891 0.10874306 0.14043292]\n",
      "   [0.64575607 0.36299029 0.53044098]\n",
      "   [0.34485434 0.25389828 0.20712467]]]\n",
      "\n",
      "\n",
      " [[[0.23010341 0.56989809 0.24550638]\n",
      "   [0.14812924 0.06482353 0.94752515]\n",
      "   [0.59387173 0.63847629 0.22667865]\n",
      "   ...\n",
      "   [0.51203549 0.34890219 0.99529198]\n",
      "   [0.05738625 0.49359447 0.63429078]\n",
      "   [0.89459895 0.66644447 0.99642833]]\n",
      "\n",
      "  [[0.9845255  0.37510164 0.84600468]\n",
      "   [0.38141609 0.18935672 0.97991735]\n",
      "   [0.94023407 0.74526621 0.5106047 ]\n",
      "   ...\n",
      "   [0.79855386 0.12535196 0.04482486]\n",
      "   [0.85074234 0.49516326 0.59840164]\n",
      "   [0.55069638 0.41138823 0.4165257 ]]\n",
      "\n",
      "  [[0.93695435 0.52192023 0.70760899]\n",
      "   [0.90474419 0.22811405 0.12505955]\n",
      "   [0.14692034 0.46064244 0.4192818 ]\n",
      "   ...\n",
      "   [0.25767167 0.1922719  0.50039267]\n",
      "   [0.27851933 0.47662354 0.81064672]\n",
      "   [0.32753574 0.58082111 0.09787771]]\n",
      "\n",
      "  ...\n",
      "\n",
      "  [[0.47067995 0.94943661 0.29052801]\n",
      "   [0.61854589 0.33059508 0.44367532]\n",
      "   [0.05285554 0.29001034 0.38328133]\n",
      "   ...\n",
      "   [0.93160249 0.23134307 0.61510044]\n",
      "   [0.0699239  0.44627029 0.16533691]\n",
      "   [0.49578947 0.02874579 0.67543091]]\n",
      "\n",
      "  [[0.14342184 0.5555483  0.08602509]\n",
      "   [0.14589033 0.57200198 0.72274849]\n",
      "   [0.63081099 0.85990212 0.8227612 ]\n",
      "   ...\n",
      "   [0.74827299 0.35749692 0.53798569]\n",
      "   [0.74073796 0.20432288 0.6179815 ]\n",
      "   [0.17906155 0.44887769 0.88419528]]\n",
      "\n",
      "  [[0.30195657 0.27836299 0.53408316]\n",
      "   [0.51037737 0.3273205  0.01046838]\n",
      "   [0.07954908 0.14122476 0.62610682]\n",
      "   ...\n",
      "   [0.19341811 0.22993272 0.43546306]\n",
      "   [0.15589805 0.81215755 0.11145039]\n",
      "   [0.00328346 0.83879576 0.25634689]]]]\n",
      "**************************************************\n",
      "The shape of my_table2 is: (100, 256, 256, 3)\n"
     ]
    }
   ],
   "source": [
    "# already defined inputs\n",
    "num_images = 100\n",
    "num_rows = 256\n",
    "num_cols = 256\n",
    "num_channels = 3 #(RGB)\n",
    "\n",
    "# YOUR CODE HERE\n",
    "\n",
    "# Create the table using the np.random.random function:\n",
    "my_table2 = np.random.random(size = (num_images, num_rows, num_cols, num_channels))\n",
    "print('my_table2:\\n', my_table2)\n",
    "print('*' * 50)\n",
    "\n",
    "# Print the shape of the table:\n",
    "print('The shape of my_table2 is:', my_table2.shape)"
   ]
  },
  {
   "cell_type": "markdown",
   "id": "33ee5e31",
   "metadata": {},
   "source": [
    "---\n",
    "#### <span style=\"color:chocolate\">Exercise 5: </span>Mathematical operations on numpy arrays (15 points)"
   ]
  },
  {
   "cell_type": "markdown",
   "id": "7f4b8b1f",
   "metadata": {},
   "source": [
    "Create a (3, 2) numpy array (you can name it my_array4) containing only integer values. Perform the following tasks:\n",
    "\n",
    "1. Print the shape of the array;\n",
    "2. Print the sum of all elements (hint: the axis argument is set to None);\n",
    "3. Print the sum of all elements by column;\n",
    "3. Print the sum of all elements by row and change the type of the resulting array elements to float;\n",
    "5. Print the first row of the array;\n",
    "6. Print the second row of the array;\n",
    "7. Select the element at position (1, 0);\n",
    "8. Modify the element at position (2, 1) by setting its value to 10 and print the array again;\n",
    "9. Loop over elements in the array. Print the output."
   ]
  },
  {
   "cell_type": "code",
   "execution_count": 6,
   "id": "a329fbf5",
   "metadata": {},
   "outputs": [
    {
     "name": "stdout",
     "output_type": "stream",
     "text": [
      "original my_array4:\n",
      " [[6 9]\n",
      " [3 2]\n",
      " [7 0]]\n",
      "**************************************************\n",
      "1) The shape of my_array4 is:  (3, 2)\n",
      "**************************************************\n",
      "2) The sum of all elements in my_array4 is:  27\n",
      "**************************************************\n",
      "3) The sum of all elements in my_array4, by column, is:  [16 11]\n",
      "**************************************************\n",
      "4a) The sum of all elements in my_array4, by row, is:  [15  5  7]\n",
      "4b) Changing the type to float:  [15.  5.  7.]\n",
      "**************************************************\n",
      "5) The first row of my_array4 is:  [6 9]\n",
      "**************************************************\n",
      "6) The second row of my_array4 is:  [3 2]\n",
      "**************************************************\n",
      "7) The element at position (1,0) is:  3\n",
      "**************************************************\n",
      "8) Setting the element at (2,1) to 10. The new array is:\n",
      "[[ 6  9]\n",
      " [ 3  2]\n",
      " [ 7 10]]\n",
      "**************************************************\n",
      "9) Loop through the array and print each element: \n",
      "6\n",
      "9\n",
      "3\n",
      "2\n",
      "7\n",
      "10\n"
     ]
    }
   ],
   "source": [
    "# YOUR CODE HERE\n",
    "\n",
    "# Create the array of size (3,2) with random integers:\n",
    "my_array4 = np.random.randint(0, 10, size=(3,2))\n",
    "print('original my_array4:\\n', my_array4)\n",
    "print(\"*\"*50)\n",
    "\n",
    "# 1) Print the shape of the array:\n",
    "print('1) The shape of my_array4 is: ', my_array4.shape)\n",
    "print(\"*\"*50)\n",
    "\n",
    "# 2) Print the sum of all elements:\n",
    "print('2) The sum of all elements in my_array4 is: ', my_array4.sum(axis=None))\n",
    "print(\"*\"*50)\n",
    "\n",
    "# 3) Print the sum of all elements by column:\n",
    "print('3) The sum of all elements in my_array4, by column, is: ', my_array4.sum(axis=0))\n",
    "print(\"*\"*50)\n",
    "\n",
    "# 4) Print the sum of all elements by row: \n",
    "print('4a) The sum of all elements in my_array4, by row, is: ', my_array4.sum(axis=1))\n",
    "# Change the type of the resulting array elements to float:\n",
    "print('4b) Changing the type to float: ', my_array4.sum(axis=1).astype(float))\n",
    "print(\"*\"*50)\n",
    "\n",
    "# 5) Print the first row of the array:\n",
    "print('5) The first row of my_array4 is: ', my_array4[0])\n",
    "print(\"*\"*50)\n",
    "\n",
    "# 6) Print the second row of the array:\n",
    "print('6) The second row of my_array4 is: ', my_array4[1])\n",
    "print(\"*\"*50)\n",
    "\n",
    "# 7) Select the element at position (1,0): \n",
    "print('7) The element at position (1,0) is: ', my_array4[1,0])\n",
    "print(\"*\"*50)\n",
    "\n",
    "# 8) Modify the element at position (2,1) by setting it's value to 10 and printing the array again:\n",
    "my_array4[2, 1] = 10\n",
    "print('8) Setting the element at (2,1) to 10. The new array is:')\n",
    "print(my_array4)\n",
    "print(\"*\"*50)\n",
    "\n",
    "# 9) Loop over all elements in the array and print the output:\n",
    "print('9) Loop through the array and print each element: ')\n",
    "for i in my_array4:\n",
    "    for j in i:\n",
    "        print(j)"
   ]
  },
  {
   "cell_type": "markdown",
   "id": "33d6dc65",
   "metadata": {},
   "source": [
    "You can find more examples here: https://numpy.org/doc/stable/reference/routines.math.html"
   ]
  },
  {
   "cell_type": "markdown",
   "id": "3cbf1bcb",
   "metadata": {},
   "source": [
    "---\n",
    "#### <span style=\"color:chocolate\">Exercise 6:</span> Create arrays (15 points)\n",
    "\n",
    "1. Create and print a (3,2) numpy array of pixel values between 0 and 1.\n",
    "2. Create and print a (27,) numpy array representing years from 1991 to 2017\n",
    "3. Create and print a (3, 5, 10) empty numpy array\n",
    "4. Create and print a (3, 5, 10) numpy array of ones\n",
    "5. Create and print an array with a constant value (let's say 5) using np.ones()\n",
    "6. Create and print an array with random numbers drawn from a normal distribution with mean 0 and standard deviation 1. Set the sample size to 10.\n"
   ]
  },
  {
   "cell_type": "code",
   "execution_count": 7,
   "id": "7b13c758",
   "metadata": {},
   "outputs": [
    {
     "name": "stdout",
     "output_type": "stream",
     "text": [
      "1) (3,2) numpy array:\n",
      " [[0.21186442 0.53970299]\n",
      " [0.86981163 0.3933884 ]\n",
      " [0.07781645 0.74534631]]\n",
      "**************************************************\n",
      "2) Array of years from 1991 to 2017:\n",
      " [1991 1992 1993 1994 1995 1996 1997 1998 1999 2000 2001 2002 2003 2004\n",
      " 2005 2006 2007 2008 2009 2010 2011 2012 2013 2014 2015 2016 2017]\n",
      "**************************************************\n",
      "3) (3, 5, 10) empty numpy array:\n",
      " [[[0.00000000e+000 6.99102889e-321 0.00000000e+000 6.66988622e-322\n",
      "   6.94126043e-310 1.16095484e-028 4.23917406e+088 5.83332263e+025\n",
      "   5.49880583e-072 5.28556325e+180]\n",
      "  [8.82085766e+199 8.96856757e-096 9.10016855e+276 1.95132487e+227\n",
      "   1.69431834e-152 4.73667725e+164 7.09514562e-077 1.90372876e+136\n",
      "   2.59345485e+161 5.28595592e-085]\n",
      "  [1.01445441e+242 9.16527479e+199 8.96856657e-096 8.82142681e+199\n",
      "   2.05077201e-115 1.89122258e+219 4.83245960e+276 4.46008788e+217\n",
      "   4.23978203e-051 6.96770842e+252]\n",
      "  [1.36426988e-052 3.60369739e-067 5.28556325e+180 8.82085766e+199\n",
      "   8.14176563e-043 2.59345432e+161 7.49779493e+247 2.34896698e+251\n",
      "   1.28514666e+248 3.29847663e-033]\n",
      "  [1.56545242e-076 8.32340258e+151 2.87996997e-014 5.04524735e+223\n",
      "   8.06349881e-096 4.57672108e-072 6.96770842e+252 1.94752932e+243\n",
      "   6.51644153e+180 1.38760003e+219]]\n",
      "\n",
      " [[7.62831853e+228 8.20670832e+136 1.10625202e+161 4.07178351e+223\n",
      "   3.60798138e-143 9.15392000e+135 9.39740086e-154 7.20366915e+159\n",
      "   6.96770841e+252 8.44252014e-053]\n",
      "  [9.32172964e+218 3.65881463e+233 5.12558197e-027 1.96096842e+243\n",
      "   3.74168445e+233 5.34760234e+246 8.96877486e-096 4.07175420e+223\n",
      "   2.81470221e-062 9.89035705e-096]\n",
      "  [3.65090428e+233 9.10016855e+276 1.92424325e+136 8.32301205e+151\n",
      "   9.16423553e+135 8.88735136e+135 2.69576663e-110 3.34741187e-110\n",
      "   1.28012640e-152 7.35874553e+223]\n",
      "  [1.05161974e-153 2.92086934e+222 1.96086586e+243 9.00114928e+223\n",
      "   8.32340258e+151 2.88135775e-014 7.49232601e+247 7.46059627e-115\n",
      "   2.09473747e-110 8.29655075e-114]\n",
      "  [1.05161974e-153 2.92086934e+222 1.96086586e+243 9.00114928e+223\n",
      "   5.48484059e-096 2.59345485e+161 8.82142681e+199 3.60882196e-143\n",
      "   4.11083805e+223 4.73620766e+180]]\n",
      "\n",
      " [[1.21906099e-152 4.95270463e+223 6.64001445e+265 3.62478142e+228\n",
      "   1.01199673e+261 3.65115153e+180 3.02876212e-152 1.69375696e+190\n",
      "   7.49232601e+247 8.32340258e+151]\n",
      "  [2.88205164e-014 7.49232601e+247 7.46059627e-115 2.09473747e-110\n",
      "   1.75300440e+243 9.40035421e-154 1.10640381e+200 9.07652374e+223\n",
      "   3.11082689e+161 8.20669916e+136]\n",
      "  [1.10625202e+161 4.07179013e+223 3.60798138e-143 9.15392000e+135\n",
      "   9.40177098e-154 7.20366915e+159 6.96770841e+252 2.59345433e+161\n",
      "   5.47044781e+241 4.52352962e+257]\n",
      "  [1.07364429e+243 1.38760003e+219 2.06999331e+161 8.82893879e+199\n",
      "   6.62278150e+265 5.03061519e+223 3.58167854e+246 1.21999353e-152\n",
      "   4.82406552e+228 4.88573052e+252]\n",
      "  [7.69972395e+218 6.84979025e+180 1.09709944e+136 2.17236736e-153\n",
      "   2.91187552e-014 3.64912144e+233 1.17688986e+136 2.59345485e+161\n",
      "   3.74168445e+233 4.73496898e-085]]]\n",
      "**************************************************\n",
      "4) (3, 5, 10) numpy array of ones:\n",
      " [[[1. 1. 1. 1. 1. 1. 1. 1. 1. 1.]\n",
      "  [1. 1. 1. 1. 1. 1. 1. 1. 1. 1.]\n",
      "  [1. 1. 1. 1. 1. 1. 1. 1. 1. 1.]\n",
      "  [1. 1. 1. 1. 1. 1. 1. 1. 1. 1.]\n",
      "  [1. 1. 1. 1. 1. 1. 1. 1. 1. 1.]]\n",
      "\n",
      " [[1. 1. 1. 1. 1. 1. 1. 1. 1. 1.]\n",
      "  [1. 1. 1. 1. 1. 1. 1. 1. 1. 1.]\n",
      "  [1. 1. 1. 1. 1. 1. 1. 1. 1. 1.]\n",
      "  [1. 1. 1. 1. 1. 1. 1. 1. 1. 1.]\n",
      "  [1. 1. 1. 1. 1. 1. 1. 1. 1. 1.]]\n",
      "\n",
      " [[1. 1. 1. 1. 1. 1. 1. 1. 1. 1.]\n",
      "  [1. 1. 1. 1. 1. 1. 1. 1. 1. 1.]\n",
      "  [1. 1. 1. 1. 1. 1. 1. 1. 1. 1.]\n",
      "  [1. 1. 1. 1. 1. 1. 1. 1. 1. 1.]\n",
      "  [1. 1. 1. 1. 1. 1. 1. 1. 1. 1.]]]\n",
      "**************************************************\n",
      "5) Array with a constant value 5:\n",
      " [[[5. 5. 5. 5. 5. 5. 5. 5. 5. 5.]\n",
      "  [5. 5. 5. 5. 5. 5. 5. 5. 5. 5.]\n",
      "  [5. 5. 5. 5. 5. 5. 5. 5. 5. 5.]\n",
      "  [5. 5. 5. 5. 5. 5. 5. 5. 5. 5.]\n",
      "  [5. 5. 5. 5. 5. 5. 5. 5. 5. 5.]]\n",
      "\n",
      " [[5. 5. 5. 5. 5. 5. 5. 5. 5. 5.]\n",
      "  [5. 5. 5. 5. 5. 5. 5. 5. 5. 5.]\n",
      "  [5. 5. 5. 5. 5. 5. 5. 5. 5. 5.]\n",
      "  [5. 5. 5. 5. 5. 5. 5. 5. 5. 5.]\n",
      "  [5. 5. 5. 5. 5. 5. 5. 5. 5. 5.]]\n",
      "\n",
      " [[5. 5. 5. 5. 5. 5. 5. 5. 5. 5.]\n",
      "  [5. 5. 5. 5. 5. 5. 5. 5. 5. 5.]\n",
      "  [5. 5. 5. 5. 5. 5. 5. 5. 5. 5.]\n",
      "  [5. 5. 5. 5. 5. 5. 5. 5. 5. 5.]\n",
      "  [5. 5. 5. 5. 5. 5. 5. 5. 5. 5.]]]\n",
      "**************************************************\n",
      "6) Array with random numbers from normal distribution:\n",
      " [ 1.62216367  0.49535642 -0.16428058  1.03389318  0.09733158  0.47322733\n",
      "  1.97342687  1.37016992  1.39062518 -0.81011907]\n"
     ]
    }
   ],
   "source": [
    "# YOUR CODE HERE\n",
    "\n",
    "#1) Create and print a (3,2) numpy array of pixel values between 0 and 1:\n",
    "my_array5 = np.random.random(size = (3,2))\n",
    "print('1) (3,2) numpy array:\\n', my_array5)\n",
    "print(\"*\"*50)\n",
    "\n",
    "#2) Create and print a (27, ) array representing the years from 1991 to 2017:\n",
    "my_array6 = np.arange(1991, 2018, 1)\n",
    "print('2) Array of years from 1991 to 2017:\\n', my_array6)\n",
    "print(\"*\"*50)\n",
    "\n",
    "# 3) Create and print a (3, 5, 10) empty numpy array:\n",
    "my_array7 = np.empty(shape=(3,5,10))\n",
    "print('3) (3, 5, 10) empty numpy array:\\n', my_array7)\n",
    "print(\"*\"*50)\n",
    "\n",
    "# 4) Create and print a (3, 5, 10) numpy array of ones:\n",
    "my_array8 = np.ones(shape=(3,5,10))\n",
    "print('4) (3, 5, 10) numpy array of ones:\\n', my_array8)\n",
    "print(\"*\"*50)\n",
    "\n",
    "# 5) Create and print an array with a constant value (let's say 5) using np.ones():\n",
    "my_array9 = np.ones(shape=(3,5,10)) * 5\n",
    "print('5) Array with a constant value 5:\\n', my_array9)\n",
    "print(\"*\"*50)\n",
    "\n",
    "# 6) Create and print an array with random numbers drawn from a normal distribution with mean 0 and standard deviation 1. Set the sample size to 10.\n",
    "mean = 0\n",
    "std = 1\n",
    "sample = 10\n",
    "my_array10 = np.random.normal(mean, std, sample)\n",
    "print('6) Array with random numbers from normal distribution:\\n', my_array10)"
   ]
  },
  {
   "cell_type": "markdown",
   "id": "d75ec682",
   "metadata": {},
   "source": [
    "---\n",
    "#### <span style=\"color:chocolate\">Exercise 7:</span> Reshape arrays (10 points)"
   ]
  },
  {
   "cell_type": "markdown",
   "id": "4af75cd1",
   "metadata": {},
   "source": [
    "Consider the following array:"
   ]
  },
  {
   "cell_type": "code",
   "execution_count": 8,
   "id": "e9c13f8b",
   "metadata": {},
   "outputs": [
    {
     "name": "stdout",
     "output_type": "stream",
     "text": [
      "(27,)\n"
     ]
    }
   ],
   "source": [
    "years = np.arange(1991, 2018, 1)\n",
    "print(years.shape)"
   ]
  },
  {
   "cell_type": "markdown",
   "id": "5c4d422e",
   "metadata": {},
   "source": [
    "Perform the following operations on this array:\n",
    "    \n",
    "1. Create 3 nested arrays, each of size (3, 3). Call this array years_3d;\n",
    "2. Convert the years_3d array to a flat 1D array. Call this array years_1d;\n",
    "3. Add a new axis (in front) to the years_1d array. Call this array years_2d;\n",
    "4. Remove the first axis from years_2d array. Call this array years_1d.\n",
    "\n",
    "For each exercise print the array and its shape."
   ]
  },
  {
   "cell_type": "code",
   "execution_count": 9,
   "id": "7d85dbd0",
   "metadata": {},
   "outputs": [
    {
     "name": "stdout",
     "output_type": "stream",
     "text": [
      "1) years_3d:\n",
      " [[[1991 1992 1993]\n",
      "  [1994 1995 1996]\n",
      "  [1997 1998 1999]]\n",
      "\n",
      " [[2000 2001 2002]\n",
      "  [2003 2004 2005]\n",
      "  [2006 2007 2008]]\n",
      "\n",
      " [[2009 2010 2011]\n",
      "  [2012 2013 2014]\n",
      "  [2015 2016 2017]]]\n",
      "The shape of years_3d is:  (3, 3, 3)\n",
      "**************************************************\n",
      "2) years_1d:\n",
      " [1991 1992 1993 1994 1995 1996 1997 1998 1999 2000 2001 2002 2003 2004\n",
      " 2005 2006 2007 2008 2009 2010 2011 2012 2013 2014 2015 2016 2017]\n",
      "The shape of years_1d is:  (27,)\n",
      "**************************************************\n",
      "3) years_2d:\n",
      " [[1991 1992 1993 1994 1995 1996 1997 1998 1999 2000 2001 2002 2003 2004\n",
      "  2005 2006 2007 2008 2009 2010 2011 2012 2013 2014 2015 2016 2017]]\n",
      "The shape of years_2d: (1, 27)\n",
      "**************************************************\n",
      "4) years_1d:\n",
      " [1991 1992 1993 1994 1995 1996 1997 1998 1999 2000 2001 2002 2003 2004\n",
      " 2005 2006 2007 2008 2009 2010 2011 2012 2013 2014 2015 2016 2017]\n",
      "The shape of years_1d is:  (27,)\n"
     ]
    }
   ],
   "source": [
    "# YOUR CODE HERE\n",
    "\n",
    "# 1) Create 3 nested arrays, each of size (3, 3). Call this array years_3d:\n",
    "years_3d = years.reshape((3,3,3))\n",
    "print('1) years_3d:\\n', years_3d) \n",
    "print('The shape of years_3d is: ', years_3d.shape)\n",
    "print(\"*\"*50)\n",
    "\n",
    "# 2) Convert the years_3d array to a flat 1D array and call it years_1d:\n",
    "years_1d = years_3d.flatten()\n",
    "print('2) years_1d:\\n', years_1d)\n",
    "print('The shape of years_1d is: ', years_1d.shape)\n",
    "print(\"*\"*50)\n",
    "\n",
    "# 3) Add a new axis (in front) to the years_1d array. Call this array years_2d:\n",
    "years_2d = years_1d[np.newaxis, :]\n",
    "print(\"3) years_2d:\\n\", years_2d)\n",
    "print(\"The shape of years_2d:\", years_2d.shape)\n",
    "print(\"*\"*50)\n",
    "\n",
    "# 4) Remove the first axis from years_2d. Call this array years_1d:\n",
    "years_1d = years_2d.squeeze()\n",
    "print('4) years_1d:\\n', years_1d)\n",
    "print('The shape of years_1d is: ', years_1d.shape)\n"
   ]
  },
  {
   "cell_type": "markdown",
   "id": "b23bb336",
   "metadata": {},
   "source": [
    "---\n",
    "#### <span style=\"color:chocolate\">Exercise 8:</span> Joining arrays (10 points)"
   ]
  },
  {
   "cell_type": "markdown",
   "id": "921e4750",
   "metadata": {},
   "source": [
    "Provide 8 examples that use the methods <span style=\"color:cornflowerBlue\">np.concatenate()</span> and <span style=\"color:cornflowerBlue\">np.stack()</span>. Note: create 4 examples using each method."
   ]
  },
  {
   "cell_type": "code",
   "execution_count": 10,
   "id": "155c5ac2",
   "metadata": {},
   "outputs": [
    {
     "name": "stdout",
     "output_type": "stream",
     "text": [
      "example array_a:\n",
      " [[7 3]\n",
      " [2 5]]\n",
      "example array_b:\n",
      " [[9 1]\n",
      " [5 6]]\n",
      "**************************************************\n",
      "Example 1: Concatenate along the column:\n",
      " [[7 3]\n",
      " [2 5]\n",
      " [9 1]\n",
      " [5 6]]\n",
      "Example 2: Concatenate along the rows:\n",
      " [[7 3 9 1]\n",
      " [2 5 5 6]]\n",
      "Example 3: Concatenate into a single dimension:\n",
      " [7 3 2 5 9 1 5 6]\n",
      "Example 4: Concatenate into a single dimension, in reverse order:\n",
      " [9 1 5 6 7 3 2 5]\n",
      "**************************************************\n",
      "Example 1: Stack along axis = 0:\n",
      " [[[7 3]\n",
      "  [2 5]]\n",
      "\n",
      " [[9 1]\n",
      "  [5 6]]]\n",
      "Example 2: Stack along axis = 1:\n",
      " [[[7 3]\n",
      "  [9 1]]\n",
      "\n",
      " [[2 5]\n",
      "  [5 6]]]\n",
      "Example 3: Stack along axis = 2:\n",
      " [[[7 9]\n",
      "  [3 1]]\n",
      "\n",
      " [[2 5]\n",
      "  [5 6]]]\n",
      "Example 3: Stack along axis = 2, with a Transposed array:\n",
      " [[[7 9]\n",
      "  [3 5]]\n",
      "\n",
      " [[2 1]\n",
      "  [5 6]]]\n"
     ]
    }
   ],
   "source": [
    "# YOUR CODE HERE\n",
    "\n",
    "# Create two random arrays of integer values:\n",
    "array_a = np.random.randint(0, 10, size=(2,2))\n",
    "print('example array_a:\\n', array_a)\n",
    "array_b = np.random.randint(0, 10, size=(2,2))\n",
    "print('example array_b:\\n', array_b)\n",
    "print('*' * 50)\n",
    "\n",
    "# Concatenate - Example 1: Concatenate along the column\n",
    "array_c = np.concatenate((array_a, array_b), axis=0)\n",
    "print('Example 1: Concatenate along the column:\\n', array_c)\n",
    "\n",
    "# Concatenate - Example 2: Concatenate along the rows\n",
    "array_c = np.concatenate((array_a, array_b), axis=1)\n",
    "print('Example 2: Concatenate along the rows:\\n', array_c)\n",
    "\n",
    "# Concatenate - Example 3: Concatenate into a single dimension\n",
    "array_c = np.concatenate((array_a, array_b), axis=None)\n",
    "print('Example 3: Concatenate into a single dimension:\\n', array_c)\n",
    "\n",
    "# Concatenate - Example 4: Concatenate into a single dimension, in reverse order\n",
    "array_c = np.concatenate((array_b, array_a), axis=None)\n",
    "print('Example 4: Concatenate into a single dimension, in reverse order:\\n', array_c)\n",
    "print('*' * 50)\n",
    "\n",
    "# Stack - Example 1: Stack along axis = 0\n",
    "array_c = np.stack((array_a, array_b), axis=0)\n",
    "print('Example 1: Stack along axis = 0:\\n', array_c)\n",
    "\n",
    "# Stack - Example 2: Stack along axis = 1\n",
    "array_c = np.stack((array_a, array_b), axis=1)\n",
    "print('Example 2: Stack along axis = 1:\\n', array_c)\n",
    "\n",
    "# Stack - Example 3: Stack along axis = 2\n",
    "array_c = np.stack((array_a, array_b), axis=2)\n",
    "print('Example 3: Stack along axis = 2:\\n', array_c)\n",
    "\n",
    "# Stack - Example 4: Stack along axis 2, with a Transposed array\n",
    "array_c = np.stack((array_a, array_b.T), axis=2)\n",
    "print('Example 3: Stack along axis = 2, with a Transposed array:\\n', array_c)"
   ]
  },
  {
   "cell_type": "markdown",
   "id": "10e5215e",
   "metadata": {},
   "source": [
    "---\n",
    "#### <span style=\"color:chocolate\">Numpy broadcasting</span> "
   ]
  },
  {
   "cell_type": "markdown",
   "id": "6d4ae245",
   "metadata": {},
   "source": [
    "The term broadcasting describes how NumPy treats arrays during arithmetic operations. You can find more here:  https://numpy.org/doc/stable/user/basics.broadcasting.html"
   ]
  },
  {
   "cell_type": "code",
   "execution_count": 11,
   "id": "4f6bfad7",
   "metadata": {},
   "outputs": [
    {
     "data": {
      "text/plain": [
       "array([1991, 1992, 1993, 1994, 1995, 1996, 1997, 1998, 1999, 2000, 2001,\n",
       "       2002, 2003, 2004, 2005, 2006, 2007, 2008, 2009, 2010, 2011, 2012,\n",
       "       2013, 2014, 2015, 2016, 2017])"
      ]
     },
     "execution_count": 11,
     "metadata": {},
     "output_type": "execute_result"
    }
   ],
   "source": [
    "# multiplying an array with a scalar\n",
    "years = np.arange(1991, 2018, 1)\n",
    "years * 1"
   ]
  },
  {
   "cell_type": "code",
   "execution_count": 12,
   "id": "58f33828",
   "metadata": {},
   "outputs": [
    {
     "data": {
      "text/plain": [
       "array([1993, 1994, 1995, 1996, 1997, 1998, 1999, 2000, 2001, 2002, 2003,\n",
       "       2004, 2005, 2006, 2007, 2008, 2009, 2010, 2011, 2012, 2013, 2014,\n",
       "       2015, 2016, 2017, 2018, 2019])"
      ]
     },
     "execution_count": 12,
     "metadata": {},
     "output_type": "execute_result"
    }
   ],
   "source": [
    "# adding a scalar\n",
    "years + 2"
   ]
  },
  {
   "cell_type": "code",
   "execution_count": 13,
   "id": "d1c150bf",
   "metadata": {},
   "outputs": [
    {
     "name": "stdout",
     "output_type": "stream",
     "text": [
      "Array a: [0 1 2]\n",
      "Array b: [0 1 2]\n",
      "Sum of a and b: [0 2 4]\n"
     ]
    }
   ],
   "source": [
    "# many arithmetic operations are applied element wise on a pair of arrays\n",
    "a = np.arange(3)\n",
    "print('Array a:', a)\n",
    "b = np.arange(3)\n",
    "print('Array b:', b)\n",
    "print('Sum of a and b:', a+b)"
   ]
  },
  {
   "cell_type": "code",
   "execution_count": 14,
   "id": "9718c167",
   "metadata": {},
   "outputs": [
    {
     "name": "stdout",
     "output_type": "stream",
     "text": [
      "Array a: [[1. 1. 1.]\n",
      " [1. 1. 1.]\n",
      " [1. 1. 1.]]\n",
      "\n",
      "Array b: [0 1 2]\n",
      "\n",
      "Sum of a and b: [[1. 2. 3.]\n",
      " [1. 2. 3.]\n",
      " [1. 2. 3.]]\n"
     ]
    }
   ],
   "source": [
    "# another example\n",
    "a = np.ones((3, 3))\n",
    "print('Array a:', a)\n",
    "b = np.arange(3)\n",
    "print('\\nArray b:', b)\n",
    "print('\\nSum of a and b:', a+b)"
   ]
  },
  {
   "cell_type": "markdown",
   "id": "a2106423",
   "metadata": {},
   "source": [
    "---\n",
    "#### <span style=\"color:chocolate\">Exercise 9:</span> Numpy array standardization (10 points)"
   ]
  },
  {
   "cell_type": "markdown",
   "id": "b928ab75",
   "metadata": {},
   "source": [
    "Consider the following (10, 4) array:"
   ]
  },
  {
   "cell_type": "code",
   "execution_count": 15,
   "id": "1daf0061",
   "metadata": {},
   "outputs": [
    {
     "name": "stdout",
     "output_type": "stream",
     "text": [
      "my_array shape:  (10, 4)\n"
     ]
    },
    {
     "data": {
      "text/plain": [
       "array([[0.22678473, 0.49109728, 0.3633915 , 0.49212065],\n",
       "       [0.86279109, 0.06680263, 0.40517015, 0.88268843],\n",
       "       [0.50557947, 0.42660164, 0.40836299, 0.75760608],\n",
       "       [0.60464345, 0.39328466, 0.8086688 , 0.36359121],\n",
       "       [0.02726183, 0.03807972, 0.47524488, 0.45967623],\n",
       "       [0.4457536 , 0.67146108, 0.32987362, 0.79669594],\n",
       "       [0.39974456, 0.33627203, 0.93345313, 0.08176876],\n",
       "       [0.51888713, 0.34164059, 0.88640495, 0.49809877],\n",
       "       [0.67751269, 0.071814  , 0.17764496, 0.61740227],\n",
       "       [0.92745289, 0.2503341 , 0.5128026 , 0.13398652]])"
      ]
     },
     "execution_count": 15,
     "metadata": {},
     "output_type": "execute_result"
    }
   ],
   "source": [
    "my_array = np.random.random((10, 4))\n",
    "print('my_array shape: ', my_array.shape)\n",
    "my_array"
   ]
  },
  {
   "cell_type": "markdown",
   "id": "d24063b3",
   "metadata": {},
   "source": [
    "Peform the following operations on this array:\n",
    "1. Compute and print the mean and std for each column (note: set keepdims=True for proper broadcasting).\n",
    "2. Standardize and print the array and its shape using the mean and std you computed above."
   ]
  },
  {
   "cell_type": "code",
   "execution_count": 16,
   "id": "7970e2fe",
   "metadata": {},
   "outputs": [
    {
     "name": "stdout",
     "output_type": "stream",
     "text": [
      "1a) The mean of each column is:\n",
      " [[0.51964114 0.30873877 0.53010176 0.50836349]]\n",
      "1b) The Standard Deviation of each column is:\n",
      " [[0.25776855 0.19468853 0.24353441 0.25359533]]\n",
      "**************************************************\n",
      "2) The Standardized array is: \n",
      " [[-1.13612159  0.93666795 -0.68454499 -0.06405024]\n",
      " [ 1.33123281 -1.24268309 -0.51299365  1.47607192]\n",
      " [-0.05455154  0.60539192 -0.49988323  0.98283589]\n",
      " [ 0.32976214  0.43426231  1.14385087 -0.5708791 ]\n",
      " [-1.91016055 -1.39021571 -0.22525308 -0.191988  ]\n",
      " [-0.28664298  1.86309024 -0.82217599  1.13697856]\n",
      " [-0.46513273  0.14142208  1.65623977 -1.68218682]\n",
      " [-0.00292516  0.16899722  1.46305072 -0.04047677]\n",
      " [ 0.61245465 -1.21694262 -1.44725669  0.42997159]\n",
      " [ 1.58208495 -0.2999903  -0.07103374 -1.47627703]]\n"
     ]
    }
   ],
   "source": [
    "np.random.seed(seed=1)\n",
    "\n",
    "# YOUR CODE HERE\n",
    "\n",
    "#1) Compute and print the mean and std for each column:\n",
    "my_array_mean = my_array.mean(axis=0, keepdims=True)\n",
    "print('1a) The mean of each column is:\\n', my_array_mean)\n",
    "\n",
    "my_array_std = my_array.std(axis=0, keepdims=True)\n",
    "print('1b) The Standard Deviation of each column is:\\n', my_array_std)\n",
    "print('*' * 50)\n",
    "\n",
    "# 2) Standardize and print the array and its shape using the mean and std you computed above: \n",
    "standardized_my_array = (my_array - my_array_mean)/(my_array_std)\n",
    "print('2) The Standardized array is: \\n', standardized_my_array)"
   ]
  },
  {
   "cell_type": "markdown",
   "id": "87de03c8",
   "metadata": {},
   "source": [
    "----\n",
    "#### <span style=\"color:chocolate\">Bonus question:</span> Advanced (20 points)"
   ]
  },
  {
   "cell_type": "markdown",
   "id": "b3c84045",
   "metadata": {},
   "source": [
    "Consider the following image:"
   ]
  },
  {
   "cell_type": "code",
   "execution_count": 17,
   "id": "9483dfe7",
   "metadata": {},
   "outputs": [
    {
     "name": "stdout",
     "output_type": "stream",
     "text": [
      "[[0.   0.04 0.08 0.12 0.16]\n",
      " [0.2  0.24 0.28 0.32 0.36]\n",
      " [0.4  0.44 0.48 0.52 0.56]\n",
      " [0.6  0.64 0.68 0.72 0.76]\n",
      " [0.8  0.84 0.88 0.92 0.96]]\n"
     ]
    },
    {
     "data": {
      "text/plain": [
       "(5, 5)"
      ]
     },
     "execution_count": 17,
     "metadata": {},
     "output_type": "execute_result"
    }
   ],
   "source": [
    "my_image = np.arange(0, 1, 0.04).reshape(5,5)\n",
    "print(my_image)\n",
    "my_image.shape"
   ]
  },
  {
   "cell_type": "markdown",
   "id": "364e6cf2",
   "metadata": {},
   "source": [
    "Perform the following operations on this image (do not overwrite the original image):\n",
    "\n",
    "1. Crop by using a border of size 1;\n",
    "2. Crop by using a border of size 2;\n",
    "3. Reverse the column order;\n",
    "4. set to 0.5 elements divizible by 2."
   ]
  },
  {
   "cell_type": "code",
   "execution_count": 18,
   "id": "70eae368",
   "metadata": {},
   "outputs": [
    {
     "name": "stdout",
     "output_type": "stream",
     "text": [
      "1) Image with border of 1:\n",
      " [[0.24 0.28 0.32]\n",
      " [0.44 0.48 0.52]\n",
      " [0.64 0.68 0.72]]\n",
      "**************************************************\n",
      "2) Image with border of 1:\n",
      " [[0.48]]\n",
      "**************************************************\n",
      "3) Reversed image:\n",
      " [[0.16 0.12 0.08 0.04 0.  ]\n",
      " [0.36 0.32 0.28 0.24 0.2 ]\n",
      " [0.56 0.52 0.48 0.44 0.4 ]\n",
      " [0.76 0.72 0.68 0.64 0.6 ]\n",
      " [0.96 0.92 0.88 0.84 0.8 ]]\n",
      "**************************************************\n",
      "4) Setting all elements that are divisible by 2 equal to 5:\n",
      " [[5.   0.04 0.08 0.12 0.16]\n",
      " [0.2  0.24 0.28 0.32 0.36]\n",
      " [0.4  0.44 0.48 0.52 0.56]\n",
      " [0.6  0.64 0.68 0.72 0.76]\n",
      " [0.8  0.84 0.88 0.92 0.96]]\n"
     ]
    }
   ],
   "source": [
    "# YOUR CODE HERE\n",
    "\n",
    "# Finding the 'length' and 'height' of the image. In the code above, it is locked to (5,5), but I wanted to make a more general formula that could change with the user input:\n",
    "my_image_height = my_image.shape[0]\n",
    "my_image_length = my_image.shape[1]\n",
    "\n",
    "# Setting the border to 1:\n",
    "border = 1\n",
    "\n",
    "# 1) Crop by using a border of size 1:\n",
    "border_1 = my_image[border:my_image_length - border, border:my_image_height - border]\n",
    "print('1) Image with border of 1:\\n', border_1)\n",
    "print('*' * 50)\n",
    "\n",
    "# 2) Crop by using a border of size 2:\n",
    "\n",
    "# Setting a new border size:\n",
    "border = 2\n",
    "\n",
    "border_2 = my_image[border:my_image_length - border, border:my_image_height - border]\n",
    "print('2) Image with border of 1:\\n', border_2)\n",
    "print('*' * 50)\n",
    "\n",
    "# 3) Reverse the column order: \n",
    "reverse_my_image = np.flip(my_image, axis=1)\n",
    "print('3) Reversed image:\\n', reverse_my_image)\n",
    "print('*' * 50)\n",
    "\n",
    "# 4) Set elements divisible by 2 to 0.5:\n",
    "my_image[my_image % 2 == 0] = 5\n",
    "print('4) Setting all elements that are divisible by 2 equal to 5:\\n', my_image)\n"
   ]
  }
 ],
 "metadata": {
  "kernelspec": {
   "display_name": "Python 3",
   "language": "python",
   "name": "python3"
  },
  "language_info": {
   "codemirror_mode": {
    "name": "ipython",
    "version": 3
   },
   "file_extension": ".py",
   "mimetype": "text/x-python",
   "name": "python",
   "nbconvert_exporter": "python",
   "pygments_lexer": "ipython3",
   "version": "3.11.5"
  }
 },
 "nbformat": 4,
 "nbformat_minor": 5
}
