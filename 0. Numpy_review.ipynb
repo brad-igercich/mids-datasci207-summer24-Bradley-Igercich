{
 "cells": [
  {
   "cell_type": "markdown",
   "id": "fb19a209",
   "metadata": {},
   "source": [
    "# Assignment 0"
   ]
  },
  {
   "cell_type": "markdown",
   "id": "70578e9a",
   "metadata": {},
   "source": [
    "### <span style=\"color:chocolate\"> Submission requirements </span>\n",
    "\n",
    "Your work will not be graded if your notebook doesn't include output. In other words, <span style=\"color:red\"> make sure to rerun your notebook before submitting to Gradescope </span> (Note: if you are using Google Colab: go to Edit > Notebook Settings  and uncheck Omit code cell output when saving this notebook, otherwise the output is not printed).\n",
    "\n",
    "Additional points may be deducted if these requirements are not met:\n",
    "    \n",
    "* Comment your code;\n",
    "* Each graph should have a title, labels for each axis, and (if needed) a legend. Each graph should be understandable on its own;\n",
    "* Try and minimize the use of the global namespace (meaning, keep things inside functions).\n",
    "---"
   ]
  },
  {
   "cell_type": "markdown",
   "id": "13a171ed",
   "metadata": {},
   "source": [
    "### Import libraries"
   ]
  },
  {
   "cell_type": "code",
   "execution_count": 1,
   "id": "a64b2988",
   "metadata": {},
   "outputs": [],
   "source": [
    "import numpy as np"
   ]
  },
  {
   "cell_type": "markdown",
   "id": "809e27ae",
   "metadata": {},
   "source": [
    "---\n",
    "### <span style=\"color:chocolate\">Exercise 1:</span> Homogenous data types (10 points)\n",
    "\n",
    "1. Create a numpy array (my_array1) containing only integer values. Print the shape of the array and the type of its elements;\n",
    "2. Create another numpy array (my_array2) containing a mix of integer and string values. Print the shape of the array and the type of its elements. Comment on the type of its elements."
   ]
  },
  {
   "cell_type": "code",
   "execution_count": 2,
   "id": "ae568991",
   "metadata": {},
   "outputs": [
    {
     "name": "stdout",
     "output_type": "stream",
     "text": [
      "1) my_array1:  [ 0  1  2  3  4  5  6  7  8  9 10 11 12 13 14 15 16 17 18 19]\n",
      "The shape of my_array1 is: (20,)\n",
      "The data type of my_array1 is: int64\n",
      "**************************************************\n",
      "2) my_array2:  ['1' 'two' '3' 'four' '5' 'six']\n",
      "The shape of my_array2 is: (6,)\n",
      "The data type of my_array2 is: <U21\n"
     ]
    }
   ],
   "source": [
    "# YOUR CODE HERE\n",
    "\n",
    "# 1)\n",
    "# Create the array using np.arange. This creates 20 integer values beginning at zero:\n",
    "my_array1 = np.arange(20)\n",
    "print('1) my_array1: ', my_array1)\n",
    "\n",
    "# Print the shape of the array and type of its elements:\n",
    "print('The shape of my_array1 is:', my_array1.shape)\n",
    "print('The data type of my_array1 is:', my_array1.dtype)\n",
    "print(\"*\"*50)\n",
    "\n",
    "# 2)\n",
    "# Create an array with a mix of integers and strings: \n",
    "my_array2 = np.array([1, 'two', 3, 'four', 5, 'six'])\n",
    "print('2) my_array2: ', my_array2)\n",
    "\n",
    "# Print the shape of the array and type of its elements:\n",
    "print('The shape of my_array2 is:', my_array2.shape)\n",
    "print('The data type of my_array2 is:', my_array2.dtype)\n",
    "\n",
    "# The data type of my_array2 is listed as \"<U21.\" \n",
    "# The reason for this is because numpy automatically tries to find a data type that can uniformly represent all items in the array. \n",
    "# Because there is a mix of strings and integers, numpy is reassigning the integers into strings."
   ]
  },
  {
   "cell_type": "markdown",
   "id": "dd2832bf",
   "metadata": {},
   "source": [
    "---\n",
    "#### <span style=\"color:chocolate\">Exercise 2:</span> The size attribute (10 points)\n",
    "\n",
    "Create a numpy array (my_array3) and print its shape, size, and data type. What does size represent?"
   ]
  },
  {
   "cell_type": "code",
   "execution_count": 3,
   "id": "cca6b9a0",
   "metadata": {},
   "outputs": [
    {
     "name": "stdout",
     "output_type": "stream",
     "text": [
      "The shape of my_array3 is: (20,)\n",
      "The size of my_array3 is: 20\n",
      "The data type of my_array3 is: int64\n"
     ]
    }
   ],
   "source": [
    "# YOUR CODE HERE\n",
    "\n",
    "# Create the array using np.arange. This creates 20 integer values beginning at zero:\n",
    "my_array3 = np.arange(20)\n",
    "\n",
    "# Print the shape, size, and data type:\n",
    "print('The shape of my_array3 is:', my_array3.shape)\n",
    "print('The size of my_array3 is:', my_array3.size)\n",
    "print('The data type of my_array3 is:', my_array3.dtype)\n",
    "\n",
    "# The size of an array represents the total number of elements in that array."
   ]
  },
  {
   "cell_type": "markdown",
   "id": "6b407fab",
   "metadata": {},
   "source": [
    "---\n",
    "#### <span style=\"color:chocolate\">Exercise 3:</span> Tabular data layout (10 points)"
   ]
  },
  {
   "cell_type": "markdown",
   "id": "dd66e32a",
   "metadata": {},
   "source": [
    "Create a tabular data layout using the numpy method <span style=\"color:chocolate\">np.random.random()</span>, where:\n",
    "* the first input is num_samples, and\n",
    "* the second input is num_features. \n",
    "\n",
    "Print the shape of the array."
   ]
  },
  {
   "cell_type": "code",
   "execution_count": 4,
   "id": "742399c2",
   "metadata": {},
   "outputs": [
    {
     "name": "stdout",
     "output_type": "stream",
     "text": [
      "my_table1:\n",
      " [[0.89800447 0.56688435 0.66323021 ... 0.70249526 0.6507762  0.44965235]\n",
      " [0.39151144 0.11888167 0.27259481 ... 0.90720756 0.69706519 0.92565356]\n",
      " [0.4986693  0.8835683  0.6771227  ... 0.78484592 0.74498142 0.36211056]\n",
      " ...\n",
      " [0.84871998 0.43464851 0.80634504 ... 0.81245532 0.4927778  0.1365656 ]\n",
      " [0.15622493 0.17732387 0.70356899 ... 0.15402016 0.58924613 0.96986859]\n",
      " [0.7955837  0.60243317 0.6974812  ... 0.2361031  0.8198876  0.29271625]]\n",
      "**************************************************\n",
      "The shape of my_table1 is: (100, 17)\n"
     ]
    }
   ],
   "source": [
    "# already defined first and second inputs\n",
    "num_samples = 100\n",
    "num_features = 17\n",
    "\n",
    "# YOUR CODE HERE\n",
    "\n",
    "# Create the table using the np.random.random function:\n",
    "my_table1 = np.random.random(size = (num_samples, num_features))\n",
    "print('my_table1:\\n', my_table1)\n",
    "print('*' * 50)\n",
    "\n",
    "# Print the shape of the table:\n",
    "print('The shape of my_table1 is:', my_table1.shape)"
   ]
  },
  {
   "cell_type": "markdown",
   "id": "100cc7cb",
   "metadata": {},
   "source": [
    "---\n",
    "#### <span style=\"color:chocolate\">Exercise 4:</span> Image data layout (10 points)"
   ]
  },
  {
   "cell_type": "markdown",
   "id": "1b5bf451",
   "metadata": {},
   "source": [
    "Create an image data layout using the numpy method <span style=\"color:chocolate\">np.random.random()</span>, where:\n",
    "\n",
    "* the first input is num_images;\n",
    "* the second input is num_rows;\n",
    "* the third input is num_cols;\n",
    "* the fourth input is num_channels.\n",
    "\n",
    "Print the shape of the array."
   ]
  },
  {
   "cell_type": "code",
   "execution_count": 5,
   "id": "51f6deb1",
   "metadata": {},
   "outputs": [
    {
     "name": "stdout",
     "output_type": "stream",
     "text": [
      "my_table2:\n",
      " [[[[0.04186233 0.0865572  0.4080444 ]\n",
      "   [0.01992859 0.79220909 0.98383964]\n",
      "   [0.60954171 0.05497996 0.75837679]\n",
      "   ...\n",
      "   [0.23022945 0.5920808  0.79862689]\n",
      "   [0.98145347 0.70916405 0.06066587]\n",
      "   [0.62628011 0.85298401 0.49555372]]\n",
      "\n",
      "  [[0.50366384 0.71905886 0.73452481]\n",
      "   [0.84419361 0.27995443 0.63699411]\n",
      "   [0.71870994 0.12990569 0.52342434]\n",
      "   ...\n",
      "   [0.53763827 0.9280538  0.82969052]\n",
      "   [0.59534628 0.38992283 0.75265911]\n",
      "   [0.66176009 0.67203883 0.40224618]]\n",
      "\n",
      "  [[0.8246932  0.44591198 0.67000455]\n",
      "   [0.88034817 0.12587741 0.05451552]\n",
      "   [0.56816837 0.92406824 0.3846697 ]\n",
      "   ...\n",
      "   [0.69585971 0.9525498  0.39312061]\n",
      "   [0.41711223 0.96765713 0.1191861 ]\n",
      "   [0.35982869 0.53471494 0.60391814]]\n",
      "\n",
      "  ...\n",
      "\n",
      "  [[0.29998157 0.59372696 0.99385602]\n",
      "   [0.83275568 0.54025041 0.04700101]\n",
      "   [0.12078749 0.52724523 0.20004602]\n",
      "   ...\n",
      "   [0.58311504 0.79794199 0.40924061]\n",
      "   [0.60578687 0.71227573 0.72267727]\n",
      "   [0.55328795 0.44218819 0.42307126]]\n",
      "\n",
      "  [[0.04392585 0.32917328 0.82394279]\n",
      "   [0.48364178 0.25443228 0.97420847]\n",
      "   [0.11597359 0.4499796  0.50547157]\n",
      "   ...\n",
      "   [0.05499578 0.92315268 0.51164292]\n",
      "   [0.65721151 0.37601346 0.41478382]\n",
      "   [0.19002711 0.92807746 0.38081721]]\n",
      "\n",
      "  [[0.76339668 0.37006665 0.36886698]\n",
      "   [0.10652911 0.13741777 0.18650833]\n",
      "   [0.2496374  0.91225512 0.92535895]\n",
      "   ...\n",
      "   [0.8678961  0.49115727 0.64349635]\n",
      "   [0.09869125 0.46732558 0.3213428 ]\n",
      "   [0.75682674 0.18214242 0.5426203 ]]]\n",
      "\n",
      "\n",
      " [[[0.65505523 0.82644903 0.70257613]\n",
      "   [0.76346366 0.8244405  0.59478027]\n",
      "   [0.78289967 0.34171142 0.47440648]\n",
      "   ...\n",
      "   [0.78582162 0.72005026 0.34841955]\n",
      "   [0.14775812 0.9705696  0.00220052]\n",
      "   [0.87647332 0.94834317 0.14533744]]\n",
      "\n",
      "  [[0.66465474 0.87498683 0.90249611]\n",
      "   [0.69345006 0.22375482 0.79327719]\n",
      "   [0.73359905 0.59692518 0.43536357]\n",
      "   ...\n",
      "   [0.69901909 0.52016707 0.2218922 ]\n",
      "   [0.24486487 0.27256736 0.34199204]\n",
      "   [0.14581252 0.80372083 0.39129164]]\n",
      "\n",
      "  [[0.89542493 0.15741229 0.70796545]\n",
      "   [0.32839388 0.15560776 0.40775948]\n",
      "   [0.03228045 0.66621599 0.67624518]\n",
      "   ...\n",
      "   [0.11730217 0.15467723 0.84832107]\n",
      "   [0.30366543 0.57787728 0.72992209]\n",
      "   [0.08127313 0.08688249 0.07741628]]\n",
      "\n",
      "  ...\n",
      "\n",
      "  [[0.0539475  0.41244234 0.06813588]\n",
      "   [0.6531082  0.85346571 0.10654566]\n",
      "   [0.42903542 0.40195122 0.04560794]\n",
      "   ...\n",
      "   [0.10900861 0.3372613  0.62070815]\n",
      "   [0.80108363 0.71590926 0.19074979]\n",
      "   [0.22303932 0.75594379 0.45761097]]\n",
      "\n",
      "  [[0.26322524 0.82646974 0.28757188]\n",
      "   [0.79323726 0.81721267 0.21994393]\n",
      "   [0.93829172 0.13717242 0.26686138]\n",
      "   ...\n",
      "   [0.04512969 0.263779   0.56782684]\n",
      "   [0.05780435 0.72666364 0.52828214]\n",
      "   [0.64550864 0.24710609 0.64130794]]\n",
      "\n",
      "  [[0.64319809 0.19077461 0.72414075]\n",
      "   [0.30283828 0.62980869 0.07940814]\n",
      "   [0.61607962 0.37001932 0.61813062]\n",
      "   ...\n",
      "   [0.68927663 0.34215696 0.51534554]\n",
      "   [0.11558007 0.75099856 0.40810536]\n",
      "   [0.29150793 0.11698754 0.01323455]]]\n",
      "\n",
      "\n",
      " [[[0.08290574 0.64085062 0.60145984]\n",
      "   [0.30899627 0.29954802 0.95806494]\n",
      "   [0.63785646 0.68647884 0.44837725]\n",
      "   ...\n",
      "   [0.82329562 0.83267611 0.3504238 ]\n",
      "   [0.84446746 0.8050512  0.38799283]\n",
      "   [0.57471778 0.23453511 0.77750279]]\n",
      "\n",
      "  [[0.38134949 0.65858242 0.56500373]\n",
      "   [0.93260778 0.16687927 0.6817673 ]\n",
      "   [0.13454386 0.32301085 0.0231925 ]\n",
      "   ...\n",
      "   [0.29085833 0.55921182 0.21932716]\n",
      "   [0.86856739 0.4402696  0.89495541]\n",
      "   [0.6123865  0.37350775 0.30802454]]\n",
      "\n",
      "  [[0.35737913 0.87081213 0.34111711]\n",
      "   [0.22951601 0.73399512 0.07744787]\n",
      "   [0.49658228 0.17753473 0.46608238]\n",
      "   ...\n",
      "   [0.02000697 0.10599597 0.79684872]\n",
      "   [0.78379588 0.09703157 0.19887516]\n",
      "   [0.9708269  0.92918975 0.45403853]]\n",
      "\n",
      "  ...\n",
      "\n",
      "  [[0.32960713 0.4501072  0.96295013]\n",
      "   [0.86490002 0.24852982 0.25870426]\n",
      "   [0.02066296 0.5631673  0.29512517]\n",
      "   ...\n",
      "   [0.92562554 0.39540008 0.62209695]\n",
      "   [0.23067512 0.14325096 0.71832749]\n",
      "   [0.0242683  0.47739574 0.18569752]]\n",
      "\n",
      "  [[0.52149336 0.42593372 0.42496813]\n",
      "   [0.86230687 0.67863486 0.23879949]\n",
      "   [0.54720715 0.81145888 0.15243204]\n",
      "   ...\n",
      "   [0.20796674 0.17682082 0.0240801 ]\n",
      "   [0.22739245 0.08603246 0.33058933]\n",
      "   [0.64530808 0.36542766 0.29067149]]\n",
      "\n",
      "  [[0.85152672 0.37131261 0.354954  ]\n",
      "   [0.91333465 0.68545236 0.34163668]\n",
      "   [0.60681194 0.14080127 0.99069756]\n",
      "   ...\n",
      "   [0.26356798 0.8429251  0.11996687]\n",
      "   [0.21834625 0.04838466 0.33625134]\n",
      "   [0.77966327 0.34121879 0.02104891]]]\n",
      "\n",
      "\n",
      " ...\n",
      "\n",
      "\n",
      " [[[0.58849859 0.84868539 0.75859917]\n",
      "   [0.83602718 0.25058948 0.58751915]\n",
      "   [0.82658371 0.45039355 0.74291301]\n",
      "   ...\n",
      "   [0.51667113 0.64379698 0.92344484]\n",
      "   [0.59744163 0.43137955 0.26995735]\n",
      "   [0.15043474 0.78476044 0.72008412]]\n",
      "\n",
      "  [[0.12786009 0.52868719 0.71781715]\n",
      "   [0.94299359 0.01608101 0.80499329]\n",
      "   [0.25383525 0.41345693 0.15017134]\n",
      "   ...\n",
      "   [0.86545247 0.84698476 0.95012342]\n",
      "   [0.65224038 0.45784626 0.47544282]\n",
      "   [0.91651562 0.55975956 0.32599742]]\n",
      "\n",
      "  [[0.730501   0.59306404 0.2076934 ]\n",
      "   [0.07789822 0.9423111  0.34468848]\n",
      "   [0.6062185  0.11445526 0.78141541]\n",
      "   ...\n",
      "   [0.42949597 0.66460242 0.95545194]\n",
      "   [0.00624195 0.67499296 0.51475907]\n",
      "   [0.75868299 0.47595161 0.12429121]]\n",
      "\n",
      "  ...\n",
      "\n",
      "  [[0.31213929 0.31370064 0.16498088]\n",
      "   [0.49396926 0.77278916 0.90283227]\n",
      "   [0.61282015 0.34463813 0.45497458]\n",
      "   ...\n",
      "   [0.20315531 0.68952562 0.96448776]\n",
      "   [0.23163603 0.39359182 0.45352   ]\n",
      "   [0.32924921 0.86912072 0.49472148]]\n",
      "\n",
      "  [[0.5781583  0.04330211 0.66472059]\n",
      "   [0.96986126 0.6954355  0.20427484]\n",
      "   [0.78775658 0.36778061 0.72882339]\n",
      "   ...\n",
      "   [0.66157075 0.72889126 0.26423894]\n",
      "   [0.62400657 0.95404318 0.00287748]\n",
      "   [0.14772475 0.31340343 0.44275798]]\n",
      "\n",
      "  [[0.46814576 0.77322446 0.60947018]\n",
      "   [0.87762129 0.30487278 0.85042414]\n",
      "   [0.99510557 0.14925802 0.12793844]\n",
      "   ...\n",
      "   [0.90447736 0.56739515 0.4382277 ]\n",
      "   [0.48928331 0.46480036 0.86788676]\n",
      "   [0.34903506 0.27299211 0.56483727]]]\n",
      "\n",
      "\n",
      " [[[0.87483351 0.06781448 0.12692714]\n",
      "   [0.86086798 0.44773476 0.98805047]\n",
      "   [0.2458472  0.82516837 0.98294683]\n",
      "   ...\n",
      "   [0.47747174 0.96116202 0.56405345]\n",
      "   [0.6376142  0.34748822 0.9904468 ]\n",
      "   [0.10513316 0.18265242 0.53934078]]\n",
      "\n",
      "  [[0.24888666 0.58304542 0.35294094]\n",
      "   [0.28237286 0.93760825 0.93194692]\n",
      "   [0.01398338 0.3840136  0.10208531]\n",
      "   ...\n",
      "   [0.47985023 0.29749994 0.65553559]\n",
      "   [0.43741067 0.34392162 0.9165313 ]\n",
      "   [0.93002136 0.81426197 0.61314239]]\n",
      "\n",
      "  [[0.73566421 0.08231317 0.05426671]\n",
      "   [0.86020328 0.75768249 0.1480862 ]\n",
      "   [0.41107758 0.38050338 0.98617049]\n",
      "   ...\n",
      "   [0.90398351 0.23729286 0.32527878]\n",
      "   [0.28518642 0.17907868 0.83180289]\n",
      "   [0.3982649  0.78589721 0.44880763]]\n",
      "\n",
      "  ...\n",
      "\n",
      "  [[0.94256035 0.14640259 0.26283124]\n",
      "   [0.24446534 0.60973527 0.65034745]\n",
      "   [0.8619199  0.74573907 0.83709251]\n",
      "   ...\n",
      "   [0.17929869 0.78683557 0.74671331]\n",
      "   [0.25882318 0.75500528 0.56625937]\n",
      "   [0.30784397 0.04554042 0.06479134]]\n",
      "\n",
      "  [[0.64385443 0.20689538 0.72010774]\n",
      "   [0.11323903 0.3960128  0.4050319 ]\n",
      "   [0.36333312 0.37541846 0.20499904]\n",
      "   ...\n",
      "   [0.69743233 0.98404162 0.52338068]\n",
      "   [0.27541838 0.05429969 0.82519265]\n",
      "   [0.85236878 0.8770423  0.56725235]]\n",
      "\n",
      "  [[0.3505325  0.01166777 0.36437464]\n",
      "   [0.74609522 0.95009272 0.77048643]\n",
      "   [0.83208758 0.72278065 0.83355607]\n",
      "   ...\n",
      "   [0.40927862 0.06473829 0.20772959]\n",
      "   [0.08424187 0.22939065 0.34939039]\n",
      "   [0.15491548 0.45984815 0.94998975]]]\n",
      "\n",
      "\n",
      " [[[0.4446832  0.77543704 0.91742064]\n",
      "   [0.38404876 0.06846403 0.91026956]\n",
      "   [0.69822039 0.88034356 0.86770627]\n",
      "   ...\n",
      "   [0.05707937 0.5562729  0.42849648]\n",
      "   [0.93013781 0.68179256 0.64638239]\n",
      "   [0.97382116 0.28395842 0.99200581]]\n",
      "\n",
      "  [[0.8731082  0.00372959 0.64906319]\n",
      "   [0.9272404  0.73286321 0.22501083]\n",
      "   [0.85153261 0.76186892 0.22943965]\n",
      "   ...\n",
      "   [0.39580133 0.38634407 0.43829519]\n",
      "   [0.33656889 0.82535031 0.54871985]\n",
      "   [0.08750117 0.59821484 0.64112022]]\n",
      "\n",
      "  [[0.31328038 0.68227233 0.38226627]\n",
      "   [0.20679217 0.61919621 0.6240519 ]\n",
      "   [0.24677858 0.63150318 0.73468137]\n",
      "   ...\n",
      "   [0.09205932 0.53734593 0.81945519]\n",
      "   [0.01221834 0.63264928 0.96486857]\n",
      "   [0.47385607 0.00240656 0.52593017]]\n",
      "\n",
      "  ...\n",
      "\n",
      "  [[0.16673154 0.9345426  0.41756325]\n",
      "   [0.05663405 0.51971539 0.12914093]\n",
      "   [0.68563897 0.97563234 0.01034876]\n",
      "   ...\n",
      "   [0.9965035  0.76127966 0.63253626]\n",
      "   [0.0932477  0.79282846 0.15171944]\n",
      "   [0.141635   0.78633492 0.681503  ]]\n",
      "\n",
      "  [[0.22904488 0.47034324 0.7267477 ]\n",
      "   [0.37201928 0.04032425 0.42291825]\n",
      "   [0.63439203 0.76883966 0.59304543]\n",
      "   ...\n",
      "   [0.1774007  0.21696145 0.90004734]\n",
      "   [0.64017381 0.21328267 0.53629249]\n",
      "   [0.83257775 0.40048039 0.242756  ]]\n",
      "\n",
      "  [[0.78388984 0.03690227 0.56565019]\n",
      "   [0.85119149 0.68501243 0.34186966]\n",
      "   [0.62500662 0.11968194 0.59071682]\n",
      "   ...\n",
      "   [0.34541389 0.60988304 0.92897402]\n",
      "   [0.36977026 0.18005767 0.21956735]\n",
      "   [0.32091118 0.41912488 0.55813629]]]]\n",
      "**************************************************\n",
      "The shape of my_table2 is: (100, 256, 256, 3)\n"
     ]
    }
   ],
   "source": [
    "# already defined inputs\n",
    "num_images = 100\n",
    "num_rows = 256\n",
    "num_cols = 256\n",
    "num_channels = 3 #(RGB)\n",
    "\n",
    "# YOUR CODE HERE\n",
    "\n",
    "# Create the table using the np.random.random function:\n",
    "my_table2 = np.random.random(size = (num_images, num_rows, num_cols, num_channels))\n",
    "print('my_table2:\\n', my_table2)\n",
    "print('*' * 50)\n",
    "\n",
    "# Print the shape of the table:\n",
    "print('The shape of my_table2 is:', my_table2.shape)"
   ]
  },
  {
   "cell_type": "markdown",
   "id": "33ee5e31",
   "metadata": {},
   "source": [
    "---\n",
    "#### <span style=\"color:chocolate\">Exercise 5: </span>Mathematical operations on numpy arrays (15 points)"
   ]
  },
  {
   "cell_type": "markdown",
   "id": "7f4b8b1f",
   "metadata": {},
   "source": [
    "Create a (3, 2) numpy array (you can name it my_array4) containing only integer values. Perform the following tasks:\n",
    "\n",
    "1. Print the shape of the array;\n",
    "2. Print the sum of all elements (hint: the axis argument is set to None);\n",
    "3. Print the sum of all elements by column;\n",
    "3. Print the sum of all elements by row and change the type of the resulting array elements to float;\n",
    "5. Print the first row of the array;\n",
    "6. Print the second row of the array;\n",
    "7. Select the element at position (1, 0);\n",
    "8. Modify the element at position (2, 1) by setting its value to 10 and print the array again;\n",
    "9. Loop over elements in the array. Print the output."
   ]
  },
  {
   "cell_type": "code",
   "execution_count": 6,
   "id": "a329fbf5",
   "metadata": {},
   "outputs": [
    {
     "name": "stdout",
     "output_type": "stream",
     "text": [
      "original my_array4:\n",
      " [[7 5]\n",
      " [5 7]\n",
      " [2 1]]\n",
      "**************************************************\n",
      "1) The shape of my_array4 is:  (3, 2)\n",
      "**************************************************\n",
      "2) The sum of all elements in my_array4 is:  27\n",
      "**************************************************\n",
      "3) The sum of all elements in my_array4, by column, is:  [14 13]\n",
      "**************************************************\n",
      "4a) The sum of all elements in my_array4, by row, is:  [12 12  3]\n",
      "4b) Changing the type to float:  [12. 12.  3.]\n",
      "**************************************************\n",
      "5) The first row of my_array4 is:  [7 5]\n",
      "**************************************************\n",
      "6) The second row of my_array4 is:  [5 7]\n",
      "**************************************************\n",
      "7) The element at position (1,0) is:  5\n",
      "**************************************************\n",
      "8) Setting the element at (2,1) to 10. The new array is:\n",
      "[[ 7  5]\n",
      " [ 5  7]\n",
      " [ 2 10]]\n",
      "**************************************************\n",
      "9) Loop through the array and print each element: \n",
      "7\n",
      "5\n",
      "5\n",
      "7\n",
      "2\n",
      "10\n"
     ]
    }
   ],
   "source": [
    "# YOUR CODE HERE\n",
    "\n",
    "# Create the array of size (3,2) with random integers:\n",
    "my_array4 = np.random.randint(0, 10, size=(3,2))\n",
    "print('original my_array4:\\n', my_array4)\n",
    "print(\"*\"*50)\n",
    "\n",
    "# 1) Print the shape of the array:\n",
    "print('1) The shape of my_array4 is: ', my_array4.shape)\n",
    "print(\"*\"*50)\n",
    "\n",
    "# 2) Print the sum of all elements:\n",
    "print('2) The sum of all elements in my_array4 is: ', my_array4.sum(axis=None))\n",
    "print(\"*\"*50)\n",
    "\n",
    "# 3) Print the sum of all elements by column:\n",
    "print('3) The sum of all elements in my_array4, by column, is: ', my_array4.sum(axis=0))\n",
    "print(\"*\"*50)\n",
    "\n",
    "# 4) Print the sum of all elements by row: \n",
    "print('4a) The sum of all elements in my_array4, by row, is: ', my_array4.sum(axis=1))\n",
    "# Change the type of the resulting array elements to float:\n",
    "print('4b) Changing the type to float: ', my_array4.sum(axis=1).astype(float))\n",
    "print(\"*\"*50)\n",
    "\n",
    "# 5) Print the first row of the array:\n",
    "print('5) The first row of my_array4 is: ', my_array4[0])\n",
    "print(\"*\"*50)\n",
    "\n",
    "# 6) Print the second row of the array:\n",
    "print('6) The second row of my_array4 is: ', my_array4[1])\n",
    "print(\"*\"*50)\n",
    "\n",
    "# 7) Select the element at position (1,0): \n",
    "print('7) The element at position (1,0) is: ', my_array4[1,0])\n",
    "print(\"*\"*50)\n",
    "\n",
    "# 8) Modify the element at position (2,1) by setting it's value to 10 and printing the array again:\n",
    "my_array4[2, 1] = 10\n",
    "print('8) Setting the element at (2,1) to 10. The new array is:')\n",
    "print(my_array4)\n",
    "print(\"*\"*50)\n",
    "\n",
    "# 9) Loop over all elements in the array and print the output:\n",
    "print('9) Loop through the array and print each element: ')\n",
    "for i in my_array4:\n",
    "    for j in i:\n",
    "        print(j)"
   ]
  },
  {
   "cell_type": "markdown",
   "id": "33d6dc65",
   "metadata": {},
   "source": [
    "You can find more examples here: https://numpy.org/doc/stable/reference/routines.math.html"
   ]
  },
  {
   "cell_type": "markdown",
   "id": "3cbf1bcb",
   "metadata": {},
   "source": [
    "---\n",
    "#### <span style=\"color:chocolate\">Exercise 6:</span> Create arrays (15 points)\n",
    "\n",
    "1. Create and print a (3,2) numpy array of pixel values between 0 and 1.\n",
    "2. Create and print a (27,) numpy array representing years from 1991 to 2017\n",
    "3. Create and print a (3, 5, 10) empty numpy array\n",
    "4. Create and print a (3, 5, 10) numpy array of ones\n",
    "5. Create and print an array with a constant value (let's say 5) using np.ones()\n",
    "6. Create and print an array with random numbers drawn from a normal distribution with mean 0 and standard deviation 1. Set the sample size to 10.\n"
   ]
  },
  {
   "cell_type": "code",
   "execution_count": 7,
   "id": "7b13c758",
   "metadata": {},
   "outputs": [
    {
     "name": "stdout",
     "output_type": "stream",
     "text": [
      "1) (3,2) numpy array:\n",
      " [[0.05459259 0.5442309 ]\n",
      " [0.88670228 0.06343674]\n",
      " [0.94782539 0.41589185]]\n",
      "**************************************************\n",
      "2) Array of years from 1991 to 2017:\n",
      " [1991 1992 1993 1994 1995 1996 1997 1998 1999 2000 2001 2002 2003 2004\n",
      " 2005 2006 2007 2008 2009 2010 2011 2012 2013 2014 2015 2016 2017]\n",
      "**************************************************\n",
      "3) (3, 5, 10) empty numpy array:\n",
      " [[[0.00000000e+000 2.19978683e-314 0.00000000e+000 2.19978823e-314\n",
      "   2.19978839e-314 2.19978830e-314 2.19978692e-314 2.19978789e-314\n",
      "   2.19978822e-314 2.19978792e-314]\n",
      "  [2.19978794e-314 2.19978692e-314 2.19978803e-314 2.19978794e-314\n",
      "   2.19978830e-314 2.19978794e-314 2.19978631e-314 2.19978631e-314\n",
      "   2.19978700e-314 2.19978692e-314]\n",
      "  [2.19978739e-314 2.19978717e-314 2.19978631e-314 2.19978700e-314\n",
      "   2.19978692e-314 2.19978789e-314 2.19978919e-314 2.19978883e-314\n",
      "   2.19978872e-314 2.19978925e-314]\n",
      "  [2.19978883e-314 2.19978692e-314 2.19978925e-314 2.19978891e-314\n",
      "   2.19978883e-314 2.19978692e-314 2.19978872e-314 2.19978919e-314\n",
      "   2.19978919e-314 2.19978872e-314]\n",
      "  [2.19978938e-314 2.19978692e-314 2.19978927e-314 2.19978922e-314\n",
      "   2.19978894e-314 2.19978908e-314 2.19978889e-314 2.19978692e-314\n",
      "   2.19978908e-314 2.19978913e-314]]\n",
      "\n",
      " [[2.19978731e-314 2.19978872e-314 2.19978919e-314 2.19978872e-314\n",
      "   2.19978908e-314 2.19978889e-314 2.19978883e-314 2.19978731e-314\n",
      "   2.19978692e-314 2.19978836e-314]\n",
      "  [2.19978891e-314 2.19978894e-314 2.19978922e-314 2.19978692e-314\n",
      "   2.19978877e-314 2.19978919e-314 2.19978883e-314 2.19978872e-314\n",
      "   2.19978925e-314 2.19978883e-314]\n",
      "  [2.19978922e-314 2.19978692e-314 2.19978742e-314 2.19978736e-314\n",
      "   2.19978692e-314 2.19978894e-314 2.19978908e-314 2.19978925e-314\n",
      "   2.19978883e-314 2.19978889e-314]\n",
      "  [2.19978883e-314 2.19978919e-314 2.19978692e-314 2.19978930e-314\n",
      "   2.19978872e-314 2.19978902e-314 2.19978927e-314 2.19978883e-314\n",
      "   2.19978922e-314 2.19978692e-314]\n",
      "  [2.19978875e-314 2.19978883e-314 2.19978889e-314 2.19978894e-314\n",
      "   2.19978908e-314 2.19978908e-314 2.19978894e-314 2.19978908e-314\n",
      "   2.19978889e-314 2.19978692e-314]]\n",
      "\n",
      " [[2.19978872e-314 2.19978925e-314 2.19978692e-314 2.19978941e-314\n",
      "   2.19978883e-314 2.19978919e-314 2.19978911e-314 2.19978764e-314\n",
      "   2.19978631e-314 2.19978905e-314]\n",
      "  [2.19978938e-314 2.19978866e-314 2.19978872e-314 2.19978919e-314\n",
      "   2.19978919e-314 2.19978872e-314 2.19978938e-314 2.19978739e-314\n",
      "   2.19978692e-314 2.19978772e-314]\n",
      "  [2.19978692e-314 2.19978908e-314 2.19978913e-314 2.19978731e-314\n",
      "   2.19978872e-314 2.19978919e-314 2.19978872e-314 2.19978908e-314\n",
      "   2.19978889e-314 2.19978883e-314]\n",
      "  [2.19978714e-314 2.19978742e-314 2.19978736e-314 2.19978717e-314\n",
      "   2.19978631e-314 2.19978913e-314 2.19978919e-314 2.19978894e-314\n",
      "   2.19978908e-314 2.19978925e-314]\n",
      "  [2.19978714e-314 2.19978711e-314 2.19978739e-314 2.19978717e-314\n",
      "   2.19978692e-314 2.19978905e-314 2.19978938e-314 2.19978866e-314\n",
      "   2.19978872e-314 2.19978919e-314]]]\n",
      "**************************************************\n",
      "4) (3, 5, 10) numpy array of ones:\n",
      " [[[1. 1. 1. 1. 1. 1. 1. 1. 1. 1.]\n",
      "  [1. 1. 1. 1. 1. 1. 1. 1. 1. 1.]\n",
      "  [1. 1. 1. 1. 1. 1. 1. 1. 1. 1.]\n",
      "  [1. 1. 1. 1. 1. 1. 1. 1. 1. 1.]\n",
      "  [1. 1. 1. 1. 1. 1. 1. 1. 1. 1.]]\n",
      "\n",
      " [[1. 1. 1. 1. 1. 1. 1. 1. 1. 1.]\n",
      "  [1. 1. 1. 1. 1. 1. 1. 1. 1. 1.]\n",
      "  [1. 1. 1. 1. 1. 1. 1. 1. 1. 1.]\n",
      "  [1. 1. 1. 1. 1. 1. 1. 1. 1. 1.]\n",
      "  [1. 1. 1. 1. 1. 1. 1. 1. 1. 1.]]\n",
      "\n",
      " [[1. 1. 1. 1. 1. 1. 1. 1. 1. 1.]\n",
      "  [1. 1. 1. 1. 1. 1. 1. 1. 1. 1.]\n",
      "  [1. 1. 1. 1. 1. 1. 1. 1. 1. 1.]\n",
      "  [1. 1. 1. 1. 1. 1. 1. 1. 1. 1.]\n",
      "  [1. 1. 1. 1. 1. 1. 1. 1. 1. 1.]]]\n",
      "**************************************************\n",
      "5) Array with a constant value 5:\n",
      " [[[5. 5. 5. 5. 5. 5. 5. 5. 5. 5.]\n",
      "  [5. 5. 5. 5. 5. 5. 5. 5. 5. 5.]\n",
      "  [5. 5. 5. 5. 5. 5. 5. 5. 5. 5.]\n",
      "  [5. 5. 5. 5. 5. 5. 5. 5. 5. 5.]\n",
      "  [5. 5. 5. 5. 5. 5. 5. 5. 5. 5.]]\n",
      "\n",
      " [[5. 5. 5. 5. 5. 5. 5. 5. 5. 5.]\n",
      "  [5. 5. 5. 5. 5. 5. 5. 5. 5. 5.]\n",
      "  [5. 5. 5. 5. 5. 5. 5. 5. 5. 5.]\n",
      "  [5. 5. 5. 5. 5. 5. 5. 5. 5. 5.]\n",
      "  [5. 5. 5. 5. 5. 5. 5. 5. 5. 5.]]\n",
      "\n",
      " [[5. 5. 5. 5. 5. 5. 5. 5. 5. 5.]\n",
      "  [5. 5. 5. 5. 5. 5. 5. 5. 5. 5.]\n",
      "  [5. 5. 5. 5. 5. 5. 5. 5. 5. 5.]\n",
      "  [5. 5. 5. 5. 5. 5. 5. 5. 5. 5.]\n",
      "  [5. 5. 5. 5. 5. 5. 5. 5. 5. 5.]]]\n",
      "**************************************************\n",
      "6) Array with random numbers from normal distribution:\n",
      " [ 0.12455947 -0.95106097 -0.65772525 -0.0925064  -0.32031579  0.57134775\n",
      " -0.0487143   1.0533262   1.05417716  0.68981244]\n"
     ]
    }
   ],
   "source": [
    "# YOUR CODE HERE\n",
    "\n",
    "#1) Create and print a (3,2) numpy array of pixel values between 0 and 1:\n",
    "my_array5 = np.random.random(size = (3,2))\n",
    "print('1) (3,2) numpy array:\\n', my_array5)\n",
    "print(\"*\"*50)\n",
    "\n",
    "#2) Create and print a (27, ) array representing the years from 1991 to 2017:\n",
    "my_array6 = np.arange(1991, 2018, 1)\n",
    "print('2) Array of years from 1991 to 2017:\\n', my_array6)\n",
    "print(\"*\"*50)\n",
    "\n",
    "# 3) Create and print a (3, 5, 10) empty numpy array:\n",
    "my_array7 = np.empty(shape=(3,5,10))\n",
    "print('3) (3, 5, 10) empty numpy array:\\n', my_array7)\n",
    "print(\"*\"*50)\n",
    "\n",
    "# 4) Create and print a (3, 5, 10) numpy array of ones:\n",
    "my_array8 = np.ones(shape=(3,5,10))\n",
    "print('4) (3, 5, 10) numpy array of ones:\\n', my_array8)\n",
    "print(\"*\"*50)\n",
    "\n",
    "# 5) Create and print an array with a constant value (let's say 5) using np.ones():\n",
    "my_array9 = np.ones(shape=(3,5,10)) * 5\n",
    "print('5) Array with a constant value 5:\\n', my_array9)\n",
    "print(\"*\"*50)\n",
    "\n",
    "# 6) Create and print an array with random numbers drawn from a normal distribution with mean 0 and standard deviation 1. Set the sample size to 10.\n",
    "mean = 0\n",
    "std = 1\n",
    "sample = 10\n",
    "my_array10 = np.random.normal(mean, std, sample)\n",
    "print('6) Array with random numbers from normal distribution:\\n', my_array10)"
   ]
  },
  {
   "cell_type": "markdown",
   "id": "d75ec682",
   "metadata": {},
   "source": [
    "---\n",
    "#### <span style=\"color:chocolate\">Exercise 7:</span> Reshape arrays (10 points)"
   ]
  },
  {
   "cell_type": "markdown",
   "id": "4af75cd1",
   "metadata": {},
   "source": [
    "Consider the following array:"
   ]
  },
  {
   "cell_type": "code",
   "execution_count": 8,
   "id": "e9c13f8b",
   "metadata": {},
   "outputs": [
    {
     "name": "stdout",
     "output_type": "stream",
     "text": [
      "(27,)\n"
     ]
    }
   ],
   "source": [
    "years = np.arange(1991, 2018, 1)\n",
    "print(years.shape)"
   ]
  },
  {
   "cell_type": "markdown",
   "id": "5c4d422e",
   "metadata": {},
   "source": [
    "Perform the following operations on this array:\n",
    "    \n",
    "1. Create 3 nested arrays, each of size (3, 3). Call this array years_3d;\n",
    "2. Convert the years_3d array to a flat 1D array. Call this array years_1d;\n",
    "3. Add a new axis (in front) to the years_1d array. Call this array years_2d;\n",
    "4. Remove the first axis from years_2d array. Call this array years_1d.\n",
    "\n",
    "For each exercise print the array and its shape."
   ]
  },
  {
   "cell_type": "code",
   "execution_count": 9,
   "id": "7d85dbd0",
   "metadata": {},
   "outputs": [
    {
     "name": "stdout",
     "output_type": "stream",
     "text": [
      "1) years_3d:\n",
      " [[[1991 1992 1993]\n",
      "  [1994 1995 1996]\n",
      "  [1997 1998 1999]]\n",
      "\n",
      " [[2000 2001 2002]\n",
      "  [2003 2004 2005]\n",
      "  [2006 2007 2008]]\n",
      "\n",
      " [[2009 2010 2011]\n",
      "  [2012 2013 2014]\n",
      "  [2015 2016 2017]]]\n",
      "The shape of years_3d is:  (3, 3, 3)\n",
      "**************************************************\n",
      "2) years_1d:\n",
      " [1991 1992 1993 1994 1995 1996 1997 1998 1999 2000 2001 2002 2003 2004\n",
      " 2005 2006 2007 2008 2009 2010 2011 2012 2013 2014 2015 2016 2017]\n",
      "The shape of years_1d is:  (27,)\n",
      "**************************************************\n",
      "3) years_2d:\n",
      " [[1991 1992 1993 1994 1995 1996 1997 1998 1999 2000 2001 2002 2003 2004\n",
      "  2005 2006 2007 2008 2009 2010 2011 2012 2013 2014 2015 2016 2017]]\n",
      "The shape of years_2d: (1, 27)\n",
      "**************************************************\n",
      "4) years_1d:\n",
      " [1991 1992 1993 1994 1995 1996 1997 1998 1999 2000 2001 2002 2003 2004\n",
      " 2005 2006 2007 2008 2009 2010 2011 2012 2013 2014 2015 2016 2017]\n",
      "The shape of years_1d is:  (27,)\n"
     ]
    }
   ],
   "source": [
    "# YOUR CODE HERE\n",
    "\n",
    "# 1) Create 3 nested arrays, each of size (3, 3). Call this array years_3d:\n",
    "years_3d = years.reshape((3,3,3))\n",
    "print('1) years_3d:\\n', years_3d) \n",
    "print('The shape of years_3d is: ', years_3d.shape)\n",
    "print(\"*\"*50)\n",
    "\n",
    "# 2) Convert the years_3d array to a flat 1D array and call it years_1d:\n",
    "years_1d = years_3d.flatten()\n",
    "print('2) years_1d:\\n', years_1d)\n",
    "print('The shape of years_1d is: ', years_1d.shape)\n",
    "print(\"*\"*50)\n",
    "\n",
    "# 3) Add a new axis (in front) to the years_1d array. Call this array years_2d:\n",
    "years_2d = years_1d[np.newaxis, :]\n",
    "print(\"3) years_2d:\\n\", years_2d)\n",
    "print(\"The shape of years_2d:\", years_2d.shape)\n",
    "print(\"*\"*50)\n",
    "\n",
    "# 4) Remove the first axis from years_2d. Call this array years_1d:\n",
    "years_1d = years_2d.squeeze()\n",
    "print('4) years_1d:\\n', years_1d)\n",
    "print('The shape of years_1d is: ', years_1d.shape)\n"
   ]
  },
  {
   "cell_type": "markdown",
   "id": "b23bb336",
   "metadata": {},
   "source": [
    "---\n",
    "#### <span style=\"color:chocolate\">Exercise 8:</span> Joining arrays (10 points)"
   ]
  },
  {
   "cell_type": "markdown",
   "id": "921e4750",
   "metadata": {},
   "source": [
    "Provide 8 examples that use the methods <span style=\"color:cornflowerBlue\">np.concatenate()</span> and <span style=\"color:cornflowerBlue\">np.stack()</span>. Note: create 4 examples using each method."
   ]
  },
  {
   "cell_type": "code",
   "execution_count": 10,
   "id": "155c5ac2",
   "metadata": {},
   "outputs": [
    {
     "name": "stdout",
     "output_type": "stream",
     "text": [
      "example array_a:\n",
      " [[0 2]\n",
      " [8 4]]\n",
      "example array_b:\n",
      " [[5 0]\n",
      " [5 5]]\n",
      "**************************************************\n",
      "Example 1: Concatenate along the column:\n",
      " [[0 2]\n",
      " [8 4]\n",
      " [5 0]\n",
      " [5 5]]\n",
      "Example 2: Concatenate along the rows:\n",
      " [[0 2 5 0]\n",
      " [8 4 5 5]]\n",
      "Example 3: Concatenate into a single dimension:\n",
      " [0 2 8 4 5 0 5 5]\n",
      "Example 4: Concatenate into a single dimension, in reverse order:\n",
      " [5 0 5 5 0 2 8 4]\n",
      "**************************************************\n",
      "Example 1: Stack along axis = 0:\n",
      " [[[0 2]\n",
      "  [8 4]]\n",
      "\n",
      " [[5 0]\n",
      "  [5 5]]]\n",
      "Example 2: Stack along axis = 1:\n",
      " [[[0 2]\n",
      "  [5 0]]\n",
      "\n",
      " [[8 4]\n",
      "  [5 5]]]\n",
      "Example 3: Stack along axis = 2:\n",
      " [[[0 5]\n",
      "  [2 0]]\n",
      "\n",
      " [[8 5]\n",
      "  [4 5]]]\n",
      "Example 3: Stack along axis = 2, with a Transposed array:\n",
      " [[[0 5]\n",
      "  [2 5]]\n",
      "\n",
      " [[8 0]\n",
      "  [4 5]]]\n"
     ]
    }
   ],
   "source": [
    "# YOUR CODE HERE\n",
    "\n",
    "# Create two random arrays of integer values:\n",
    "array_a = np.random.randint(0, 10, size=(2,2))\n",
    "print('example array_a:\\n', array_a)\n",
    "array_b = np.random.randint(0, 10, size=(2,2))\n",
    "print('example array_b:\\n', array_b)\n",
    "print('*' * 50)\n",
    "\n",
    "# Concatenate - Example 1: Concatenate along the column\n",
    "array_c = np.concatenate((array_a, array_b), axis=0)\n",
    "print('Example 1: Concatenate along the column:\\n', array_c)\n",
    "\n",
    "# Concatenate - Example 2: Concatenate along the rows\n",
    "array_c = np.concatenate((array_a, array_b), axis=1)\n",
    "print('Example 2: Concatenate along the rows:\\n', array_c)\n",
    "\n",
    "# Concatenate - Example 3: Concatenate into a single dimension\n",
    "array_c = np.concatenate((array_a, array_b), axis=None)\n",
    "print('Example 3: Concatenate into a single dimension:\\n', array_c)\n",
    "\n",
    "# Concatenate - Example 4: Concatenate into a single dimension, in reverse order\n",
    "array_c = np.concatenate((array_b, array_a), axis=None)\n",
    "print('Example 4: Concatenate into a single dimension, in reverse order:\\n', array_c)\n",
    "print('*' * 50)\n",
    "\n",
    "# Stack - Example 1: Stack along axis = 0\n",
    "array_c = np.stack((array_a, array_b), axis=0)\n",
    "print('Example 1: Stack along axis = 0:\\n', array_c)\n",
    "\n",
    "# Stack - Example 2: Stack along axis = 1\n",
    "array_c = np.stack((array_a, array_b), axis=1)\n",
    "print('Example 2: Stack along axis = 1:\\n', array_c)\n",
    "\n",
    "# Stack - Example 3: Stack along axis = 2\n",
    "array_c = np.stack((array_a, array_b), axis=2)\n",
    "print('Example 3: Stack along axis = 2:\\n', array_c)\n",
    "\n",
    "# Stack - Example 4: Stack along axis 2, with a Transposed array\n",
    "array_c = np.stack((array_a, array_b.T), axis=2)\n",
    "print('Example 3: Stack along axis = 2, with a Transposed array:\\n', array_c)"
   ]
  },
  {
   "cell_type": "markdown",
   "id": "10e5215e",
   "metadata": {},
   "source": [
    "---\n",
    "#### <span style=\"color:chocolate\">Numpy broadcasting</span> "
   ]
  },
  {
   "cell_type": "markdown",
   "id": "6d4ae245",
   "metadata": {},
   "source": [
    "The term broadcasting describes how NumPy treats arrays during arithmetic operations. You can find more here:  https://numpy.org/doc/stable/user/basics.broadcasting.html"
   ]
  },
  {
   "cell_type": "code",
   "execution_count": 11,
   "id": "4f6bfad7",
   "metadata": {},
   "outputs": [
    {
     "data": {
      "text/plain": [
       "array([1991, 1992, 1993, 1994, 1995, 1996, 1997, 1998, 1999, 2000, 2001,\n",
       "       2002, 2003, 2004, 2005, 2006, 2007, 2008, 2009, 2010, 2011, 2012,\n",
       "       2013, 2014, 2015, 2016, 2017])"
      ]
     },
     "execution_count": 11,
     "metadata": {},
     "output_type": "execute_result"
    }
   ],
   "source": [
    "# multiplying an array with a scalar\n",
    "years = np.arange(1991, 2018, 1)\n",
    "years * 1"
   ]
  },
  {
   "cell_type": "code",
   "execution_count": 12,
   "id": "58f33828",
   "metadata": {},
   "outputs": [
    {
     "data": {
      "text/plain": [
       "array([1993, 1994, 1995, 1996, 1997, 1998, 1999, 2000, 2001, 2002, 2003,\n",
       "       2004, 2005, 2006, 2007, 2008, 2009, 2010, 2011, 2012, 2013, 2014,\n",
       "       2015, 2016, 2017, 2018, 2019])"
      ]
     },
     "execution_count": 12,
     "metadata": {},
     "output_type": "execute_result"
    }
   ],
   "source": [
    "# adding a scalar\n",
    "years + 2"
   ]
  },
  {
   "cell_type": "code",
   "execution_count": 13,
   "id": "d1c150bf",
   "metadata": {},
   "outputs": [
    {
     "name": "stdout",
     "output_type": "stream",
     "text": [
      "Array a: [0 1 2]\n",
      "Array b: [0 1 2]\n",
      "Sum of a and b: [0 2 4]\n"
     ]
    }
   ],
   "source": [
    "# many arithmetic operations are applied element wise on a pair of arrays\n",
    "a = np.arange(3)\n",
    "print('Array a:', a)\n",
    "b = np.arange(3)\n",
    "print('Array b:', b)\n",
    "print('Sum of a and b:', a+b)"
   ]
  },
  {
   "cell_type": "code",
   "execution_count": 14,
   "id": "9718c167",
   "metadata": {},
   "outputs": [
    {
     "name": "stdout",
     "output_type": "stream",
     "text": [
      "Array a: [[1. 1. 1.]\n",
      " [1. 1. 1.]\n",
      " [1. 1. 1.]]\n",
      "\n",
      "Array b: [0 1 2]\n",
      "\n",
      "Sum of a and b: [[1. 2. 3.]\n",
      " [1. 2. 3.]\n",
      " [1. 2. 3.]]\n"
     ]
    }
   ],
   "source": [
    "# another example\n",
    "a = np.ones((3, 3))\n",
    "print('Array a:', a)\n",
    "b = np.arange(3)\n",
    "print('\\nArray b:', b)\n",
    "print('\\nSum of a and b:', a+b)"
   ]
  },
  {
   "cell_type": "markdown",
   "id": "a2106423",
   "metadata": {},
   "source": [
    "---\n",
    "#### <span style=\"color:chocolate\">Exercise 9:</span> Numpy array standardization (10 points)"
   ]
  },
  {
   "cell_type": "markdown",
   "id": "b928ab75",
   "metadata": {},
   "source": [
    "Consider the following (10, 4) array:"
   ]
  },
  {
   "cell_type": "code",
   "execution_count": 15,
   "id": "1daf0061",
   "metadata": {},
   "outputs": [
    {
     "name": "stdout",
     "output_type": "stream",
     "text": [
      "my_array shape:  (10, 4)\n"
     ]
    },
    {
     "data": {
      "text/plain": [
       "array([[0.24177425, 0.54650481, 0.33612135, 0.94360631],\n",
       "       [0.88945971, 0.04219288, 0.75481725, 0.4238639 ],\n",
       "       [0.34094969, 0.57319175, 0.12192366, 0.36799589],\n",
       "       [0.67983724, 0.07383442, 0.46561923, 0.00217527],\n",
       "       [0.44286385, 0.75434462, 0.85281025, 0.08599301],\n",
       "       [0.83815729, 0.24450164, 0.06920971, 0.54309413],\n",
       "       [0.48473276, 0.03621237, 0.2021539 , 0.51697953],\n",
       "       [0.97588044, 0.73063678, 0.86136654, 0.79235299],\n",
       "       [0.57287389, 0.26437131, 0.23353028, 0.8504415 ],\n",
       "       [0.85590617, 0.20077959, 0.25599188, 0.63539002]])"
      ]
     },
     "execution_count": 15,
     "metadata": {},
     "output_type": "execute_result"
    }
   ],
   "source": [
    "my_array = np.random.random((10, 4))\n",
    "print('my_array shape: ', my_array.shape)\n",
    "my_array"
   ]
  },
  {
   "cell_type": "markdown",
   "id": "d24063b3",
   "metadata": {},
   "source": [
    "Peform the following operations on this array:\n",
    "1. Compute and print the mean and std for each column (note: set keepdims=True for proper broadcasting).\n",
    "2. Standardize and print the array and its shape using the mean and std you computed above."
   ]
  },
  {
   "cell_type": "code",
   "execution_count": 16,
   "id": "7970e2fe",
   "metadata": {},
   "outputs": [
    {
     "name": "stdout",
     "output_type": "stream",
     "text": [
      "1a) The mean of each column is:\n",
      " [[0.63224353 0.34665702 0.41535441 0.51618926]]\n",
      "1b) The Standard Deviation of each column is:\n",
      " [[0.24029239 0.26587593 0.28708231 0.29417241]]\n",
      "**************************************************\n",
      "2) The Standardized array is: \n",
      " [[-1.62497565  0.7516581  -0.27599421  1.45294746]\n",
      " [ 1.07043002 -1.14513615  1.18245826 -0.31384776]\n",
      " [-1.21224749  0.85203174 -1.02211363 -0.50376364]\n",
      " [ 0.19806584 -1.02612747  0.17508853 -1.74732222]\n",
      " [-0.78812184  1.53337536  1.52379938 -1.46239496]\n",
      " [ 0.85693001 -0.38422199 -1.20573328  0.09145955]\n",
      " [-0.61388035 -1.16762974 -0.74264592  0.00268645]\n",
      " [ 1.43007823  1.44420656  1.55360369  0.93878192]\n",
      " [-0.24707249 -0.30948912 -0.6333519   1.13624606]\n",
      " [ 0.93079372 -0.54866729 -0.55511092  0.40520715]]\n"
     ]
    }
   ],
   "source": [
    "np.random.seed(seed=1)\n",
    "\n",
    "# YOUR CODE HERE\n",
    "\n",
    "#1) Compute and print the mean and std for each column:\n",
    "my_array_mean = my_array.mean(axis=0, keepdims=True)\n",
    "print('1a) The mean of each column is:\\n', my_array_mean)\n",
    "\n",
    "my_array_std = my_array.std(axis=0, keepdims=True)\n",
    "print('1b) The Standard Deviation of each column is:\\n', my_array_std)\n",
    "print('*' * 50)\n",
    "\n",
    "# 2) Standardize and print the array and its shape using the mean and std you computed above: \n",
    "standardized_my_array = (my_array - my_array_mean)/(my_array_std)\n",
    "print('2) The Standardized array is: \\n', standardized_my_array)"
   ]
  },
  {
   "cell_type": "markdown",
   "id": "87de03c8",
   "metadata": {},
   "source": [
    "----\n",
    "#### <span style=\"color:chocolate\">Bonus question:</span> Advanced (20 points)"
   ]
  },
  {
   "cell_type": "markdown",
   "id": "b3c84045",
   "metadata": {},
   "source": [
    "Consider the following image:"
   ]
  },
  {
   "cell_type": "code",
   "execution_count": 17,
   "id": "9483dfe7",
   "metadata": {},
   "outputs": [
    {
     "name": "stdout",
     "output_type": "stream",
     "text": [
      "[[0.   0.04 0.08 0.12 0.16]\n",
      " [0.2  0.24 0.28 0.32 0.36]\n",
      " [0.4  0.44 0.48 0.52 0.56]\n",
      " [0.6  0.64 0.68 0.72 0.76]\n",
      " [0.8  0.84 0.88 0.92 0.96]]\n"
     ]
    },
    {
     "data": {
      "text/plain": [
       "(5, 5)"
      ]
     },
     "execution_count": 17,
     "metadata": {},
     "output_type": "execute_result"
    }
   ],
   "source": [
    "my_image = np.arange(0, 1, 0.04).reshape(5,5)\n",
    "print(my_image)\n",
    "my_image.shape"
   ]
  },
  {
   "cell_type": "markdown",
   "id": "364e6cf2",
   "metadata": {},
   "source": [
    "Perform the following operations on this image (do not overwrite the original image):\n",
    "\n",
    "1. Crop by using a border of size 1;\n",
    "2. Crop by using a border of size 2;\n",
    "3. Reverse the column order;\n",
    "4. set to 0.5 elements divizible by 2."
   ]
  },
  {
   "cell_type": "code",
   "execution_count": 18,
   "id": "70eae368",
   "metadata": {},
   "outputs": [
    {
     "name": "stdout",
     "output_type": "stream",
     "text": [
      "1) Image with border of 1:\n",
      " [[0.24 0.28 0.32]\n",
      " [0.44 0.48 0.52]\n",
      " [0.64 0.68 0.72]]\n",
      "**************************************************\n",
      "2) Image with border of 1:\n",
      " [[0.48]]\n",
      "**************************************************\n",
      "3) Reversed image:\n",
      " [[0.16 0.12 0.08 0.04 0.  ]\n",
      " [0.36 0.32 0.28 0.24 0.2 ]\n",
      " [0.56 0.52 0.48 0.44 0.4 ]\n",
      " [0.76 0.72 0.68 0.64 0.6 ]\n",
      " [0.96 0.92 0.88 0.84 0.8 ]]\n",
      "**************************************************\n",
      "4) Setting all elements that are divisible by 2 equal to 5:\n",
      " [[5.   0.04 0.08 0.12 0.16]\n",
      " [0.2  0.24 0.28 0.32 0.36]\n",
      " [0.4  0.44 0.48 0.52 0.56]\n",
      " [0.6  0.64 0.68 0.72 0.76]\n",
      " [0.8  0.84 0.88 0.92 0.96]]\n"
     ]
    }
   ],
   "source": [
    "# YOUR CODE HERE\n",
    "\n",
    "# Finding the 'length' and 'height' of the image. In the code above, it is locked to (5,5), but I wanted to make a more general formula that could change with the user input:\n",
    "my_image_height = my_image.shape[0]\n",
    "my_image_length = my_image.shape[1]\n",
    "\n",
    "# Setting the border to 1:\n",
    "border = 1\n",
    "\n",
    "# 1) Crop by using a border of size 1:\n",
    "border_1 = my_image[border:my_image_length - border, border:my_image_height - border]\n",
    "print('1) Image with border of 1:\\n', border_1)\n",
    "print('*' * 50)\n",
    "\n",
    "# 2) Crop by using a border of size 2:\n",
    "\n",
    "# Setting a new border size:\n",
    "border = 2\n",
    "\n",
    "border_2 = my_image[border:my_image_length - border, border:my_image_height - border]\n",
    "print('2) Image with border of 1:\\n', border_2)\n",
    "print('*' * 50)\n",
    "\n",
    "# 3) Reverse the column order: \n",
    "reverse_my_image = np.flip(my_image, axis=1)\n",
    "print('3) Reversed image:\\n', reverse_my_image)\n",
    "print('*' * 50)\n",
    "\n",
    "# 4) Set elements divisible by 2 to 0.5:\n",
    "my_image[my_image % 2 == 0] = 5\n",
    "print('4) Setting all elements that are divisible by 2 equal to 5:\\n', my_image)\n"
   ]
  }
 ],
 "metadata": {
  "kernelspec": {
   "display_name": "Python 3",
   "language": "python",
   "name": "python3"
  },
  "language_info": {
   "codemirror_mode": {
    "name": "ipython",
    "version": 3
   },
   "file_extension": ".py",
   "mimetype": "text/x-python",
   "name": "python",
   "nbconvert_exporter": "python",
   "pygments_lexer": "ipython3",
   "version": "3.11.5"
  }
 },
 "nbformat": 4,
 "nbformat_minor": 5
}
