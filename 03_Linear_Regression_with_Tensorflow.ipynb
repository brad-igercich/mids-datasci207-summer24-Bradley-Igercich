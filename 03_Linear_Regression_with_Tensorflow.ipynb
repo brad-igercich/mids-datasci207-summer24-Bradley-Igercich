{
  "cells": [
    {
      "cell_type": "markdown",
      "metadata": {
        "id": "MKsRDH5ZUdfasdv"
      },
      "source": [
        "# Assignment 3"
      ]
    },
    {
      "cell_type": "markdown",
      "metadata": {
        "id": "q-wAWeYAwNZU"
      },
      "source": [
        "### <span style=\"color:chocolate\"> Submission requirements </span>\n",
        "\n",
        "Your work will not be graded if your notebook doesn't include output. In other words, <span style=\"color:red\"> make sure to rerun your notebook before submitting to Gradescope </span> (Note: if you are using Google Colab: go to Edit > Notebook Settings  and uncheck Omit code cell output when saving this notebook, otherwise the output is not printed).\n",
        "\n",
        "Additional points may be deducted if these requirements are not met:\n",
        "    \n",
        "* Comment your code;\n",
        "* Each graph should have a title, labels for each axis, and (if needed) a legend. Each graph should be understandable on its own;\n",
        "* Try and minimize the use of the global namespace (meaning, keep things inside functions).\n",
        "---"
      ]
    },
    {
      "cell_type": "markdown",
      "metadata": {
        "id": "884nh7u7wNZU"
      },
      "source": [
        "### Import libraries"
      ]
    },
    {
      "cell_type": "code",
      "execution_count": 1,
      "metadata": {
        "id": "lV8n8OI8wNZV"
      },
      "outputs": [],
      "source": [
        "import numpy as np\n",
        "import pandas as pd\n",
        "import seaborn as sns  # for nicer plots\n",
        "sns.set(style=\"darkgrid\")  # default style\n",
        "from sklearn.model_selection import train_test_split\n",
        "import tensorflow as tf\n",
        "from matplotlib import pyplot as plt"
      ]
    },
    {
      "cell_type": "markdown",
      "metadata": {
        "id": "LVppWVBpwNZV"
      },
      "source": [
        "This lab continues our study of linear regression. You'll train your first models with Tensorflow, using a real dataset to predict car prices from their features. Note that Tensorflow is a rapidly changing library. This means you'll often see warnings about deprecations. You can ignore the warnings in our labs."
      ]
    },
    {
      "cell_type": "markdown",
      "metadata": {
        "id": "tS3NCYLZwNZV"
      },
      "source": [
        "---\n",
        "### Step 1: Data ingestion"
      ]
    },
    {
      "cell_type": "markdown",
      "metadata": {
        "id": "rHLcriKWLRe4"
      },
      "source": [
        "You'll use the [Automobile Data Set](https://archive.ics.uci.edu/ml/datasets/automobile)  from 1985 Ward's Automotive Yearbook that is part of the [UCI Machine Learning Repository](https://archive.ics.uci.edu/ml/datasets)."
      ]
    },
    {
      "cell_type": "code",
      "execution_count": 2,
      "metadata": {
        "id": "load_auto_data_set_code",
        "colab": {
          "base_uri": "https://localhost:8080/",
          "height": 323
        },
        "outputId": "9f22ca5e-200b-4683-8eb4-076795095816"
      },
      "outputs": [
        {
          "output_type": "stream",
          "name": "stdout",
          "text": [
            "Shape of data: (205, 26)\n"
          ]
        },
        {
          "output_type": "execute_result",
          "data": {
            "text/plain": [
              "   symboling losses         make fuel-type aspiration num-doors   body-style  \\\n",
              "0          3      ?  alfa-romero       gas        std       two  convertible   \n",
              "1          3      ?  alfa-romero       gas        std       two  convertible   \n",
              "2          1      ?  alfa-romero       gas        std       two    hatchback   \n",
              "3          2    164         audi       gas        std      four        sedan   \n",
              "4          2    164         audi       gas        std      four        sedan   \n",
              "\n",
              "  drive-wheels engine-location  wheel-base  ...  engine-size  fuel-system  \\\n",
              "0          rwd           front        88.6  ...          130         mpfi   \n",
              "1          rwd           front        88.6  ...          130         mpfi   \n",
              "2          rwd           front        94.5  ...          152         mpfi   \n",
              "3          fwd           front        99.8  ...          109         mpfi   \n",
              "4          4wd           front        99.4  ...          136         mpfi   \n",
              "\n",
              "   bore  stroke compression-ratio horsepower  peak-rpm city-mpg highway-mpg  \\\n",
              "0  3.47    2.68               9.0        111      5000       21          27   \n",
              "1  3.47    2.68               9.0        111      5000       21          27   \n",
              "2  2.68    3.47               9.0        154      5000       19          26   \n",
              "3  3.19    3.40              10.0        102      5500       24          30   \n",
              "4  3.19    3.40               8.0        115      5500       18          22   \n",
              "\n",
              "   price  \n",
              "0  13495  \n",
              "1  16500  \n",
              "2  16500  \n",
              "3  13950  \n",
              "4  17450  \n",
              "\n",
              "[5 rows x 26 columns]"
            ],
            "text/html": [
              "\n",
              "  <div id=\"df-63cb807c-38b1-419b-963d-9e612ba8c23f\" class=\"colab-df-container\">\n",
              "    <div>\n",
              "<style scoped>\n",
              "    .dataframe tbody tr th:only-of-type {\n",
              "        vertical-align: middle;\n",
              "    }\n",
              "\n",
              "    .dataframe tbody tr th {\n",
              "        vertical-align: top;\n",
              "    }\n",
              "\n",
              "    .dataframe thead th {\n",
              "        text-align: right;\n",
              "    }\n",
              "</style>\n",
              "<table border=\"1\" class=\"dataframe\">\n",
              "  <thead>\n",
              "    <tr style=\"text-align: right;\">\n",
              "      <th></th>\n",
              "      <th>symboling</th>\n",
              "      <th>losses</th>\n",
              "      <th>make</th>\n",
              "      <th>fuel-type</th>\n",
              "      <th>aspiration</th>\n",
              "      <th>num-doors</th>\n",
              "      <th>body-style</th>\n",
              "      <th>drive-wheels</th>\n",
              "      <th>engine-location</th>\n",
              "      <th>wheel-base</th>\n",
              "      <th>...</th>\n",
              "      <th>engine-size</th>\n",
              "      <th>fuel-system</th>\n",
              "      <th>bore</th>\n",
              "      <th>stroke</th>\n",
              "      <th>compression-ratio</th>\n",
              "      <th>horsepower</th>\n",
              "      <th>peak-rpm</th>\n",
              "      <th>city-mpg</th>\n",
              "      <th>highway-mpg</th>\n",
              "      <th>price</th>\n",
              "    </tr>\n",
              "  </thead>\n",
              "  <tbody>\n",
              "    <tr>\n",
              "      <th>0</th>\n",
              "      <td>3</td>\n",
              "      <td>?</td>\n",
              "      <td>alfa-romero</td>\n",
              "      <td>gas</td>\n",
              "      <td>std</td>\n",
              "      <td>two</td>\n",
              "      <td>convertible</td>\n",
              "      <td>rwd</td>\n",
              "      <td>front</td>\n",
              "      <td>88.6</td>\n",
              "      <td>...</td>\n",
              "      <td>130</td>\n",
              "      <td>mpfi</td>\n",
              "      <td>3.47</td>\n",
              "      <td>2.68</td>\n",
              "      <td>9.0</td>\n",
              "      <td>111</td>\n",
              "      <td>5000</td>\n",
              "      <td>21</td>\n",
              "      <td>27</td>\n",
              "      <td>13495</td>\n",
              "    </tr>\n",
              "    <tr>\n",
              "      <th>1</th>\n",
              "      <td>3</td>\n",
              "      <td>?</td>\n",
              "      <td>alfa-romero</td>\n",
              "      <td>gas</td>\n",
              "      <td>std</td>\n",
              "      <td>two</td>\n",
              "      <td>convertible</td>\n",
              "      <td>rwd</td>\n",
              "      <td>front</td>\n",
              "      <td>88.6</td>\n",
              "      <td>...</td>\n",
              "      <td>130</td>\n",
              "      <td>mpfi</td>\n",
              "      <td>3.47</td>\n",
              "      <td>2.68</td>\n",
              "      <td>9.0</td>\n",
              "      <td>111</td>\n",
              "      <td>5000</td>\n",
              "      <td>21</td>\n",
              "      <td>27</td>\n",
              "      <td>16500</td>\n",
              "    </tr>\n",
              "    <tr>\n",
              "      <th>2</th>\n",
              "      <td>1</td>\n",
              "      <td>?</td>\n",
              "      <td>alfa-romero</td>\n",
              "      <td>gas</td>\n",
              "      <td>std</td>\n",
              "      <td>two</td>\n",
              "      <td>hatchback</td>\n",
              "      <td>rwd</td>\n",
              "      <td>front</td>\n",
              "      <td>94.5</td>\n",
              "      <td>...</td>\n",
              "      <td>152</td>\n",
              "      <td>mpfi</td>\n",
              "      <td>2.68</td>\n",
              "      <td>3.47</td>\n",
              "      <td>9.0</td>\n",
              "      <td>154</td>\n",
              "      <td>5000</td>\n",
              "      <td>19</td>\n",
              "      <td>26</td>\n",
              "      <td>16500</td>\n",
              "    </tr>\n",
              "    <tr>\n",
              "      <th>3</th>\n",
              "      <td>2</td>\n",
              "      <td>164</td>\n",
              "      <td>audi</td>\n",
              "      <td>gas</td>\n",
              "      <td>std</td>\n",
              "      <td>four</td>\n",
              "      <td>sedan</td>\n",
              "      <td>fwd</td>\n",
              "      <td>front</td>\n",
              "      <td>99.8</td>\n",
              "      <td>...</td>\n",
              "      <td>109</td>\n",
              "      <td>mpfi</td>\n",
              "      <td>3.19</td>\n",
              "      <td>3.40</td>\n",
              "      <td>10.0</td>\n",
              "      <td>102</td>\n",
              "      <td>5500</td>\n",
              "      <td>24</td>\n",
              "      <td>30</td>\n",
              "      <td>13950</td>\n",
              "    </tr>\n",
              "    <tr>\n",
              "      <th>4</th>\n",
              "      <td>2</td>\n",
              "      <td>164</td>\n",
              "      <td>audi</td>\n",
              "      <td>gas</td>\n",
              "      <td>std</td>\n",
              "      <td>four</td>\n",
              "      <td>sedan</td>\n",
              "      <td>4wd</td>\n",
              "      <td>front</td>\n",
              "      <td>99.4</td>\n",
              "      <td>...</td>\n",
              "      <td>136</td>\n",
              "      <td>mpfi</td>\n",
              "      <td>3.19</td>\n",
              "      <td>3.40</td>\n",
              "      <td>8.0</td>\n",
              "      <td>115</td>\n",
              "      <td>5500</td>\n",
              "      <td>18</td>\n",
              "      <td>22</td>\n",
              "      <td>17450</td>\n",
              "    </tr>\n",
              "  </tbody>\n",
              "</table>\n",
              "<p>5 rows × 26 columns</p>\n",
              "</div>\n",
              "    <div class=\"colab-df-buttons\">\n",
              "\n",
              "  <div class=\"colab-df-container\">\n",
              "    <button class=\"colab-df-convert\" onclick=\"convertToInteractive('df-63cb807c-38b1-419b-963d-9e612ba8c23f')\"\n",
              "            title=\"Convert this dataframe to an interactive table.\"\n",
              "            style=\"display:none;\">\n",
              "\n",
              "  <svg xmlns=\"http://www.w3.org/2000/svg\" height=\"24px\" viewBox=\"0 -960 960 960\">\n",
              "    <path d=\"M120-120v-720h720v720H120Zm60-500h600v-160H180v160Zm220 220h160v-160H400v160Zm0 220h160v-160H400v160ZM180-400h160v-160H180v160Zm440 0h160v-160H620v160ZM180-180h160v-160H180v160Zm440 0h160v-160H620v160Z\"/>\n",
              "  </svg>\n",
              "    </button>\n",
              "\n",
              "  <style>\n",
              "    .colab-df-container {\n",
              "      display:flex;\n",
              "      gap: 12px;\n",
              "    }\n",
              "\n",
              "    .colab-df-convert {\n",
              "      background-color: #E8F0FE;\n",
              "      border: none;\n",
              "      border-radius: 50%;\n",
              "      cursor: pointer;\n",
              "      display: none;\n",
              "      fill: #1967D2;\n",
              "      height: 32px;\n",
              "      padding: 0 0 0 0;\n",
              "      width: 32px;\n",
              "    }\n",
              "\n",
              "    .colab-df-convert:hover {\n",
              "      background-color: #E2EBFA;\n",
              "      box-shadow: 0px 1px 2px rgba(60, 64, 67, 0.3), 0px 1px 3px 1px rgba(60, 64, 67, 0.15);\n",
              "      fill: #174EA6;\n",
              "    }\n",
              "\n",
              "    .colab-df-buttons div {\n",
              "      margin-bottom: 4px;\n",
              "    }\n",
              "\n",
              "    [theme=dark] .colab-df-convert {\n",
              "      background-color: #3B4455;\n",
              "      fill: #D2E3FC;\n",
              "    }\n",
              "\n",
              "    [theme=dark] .colab-df-convert:hover {\n",
              "      background-color: #434B5C;\n",
              "      box-shadow: 0px 1px 3px 1px rgba(0, 0, 0, 0.15);\n",
              "      filter: drop-shadow(0px 1px 2px rgba(0, 0, 0, 0.3));\n",
              "      fill: #FFFFFF;\n",
              "    }\n",
              "  </style>\n",
              "\n",
              "    <script>\n",
              "      const buttonEl =\n",
              "        document.querySelector('#df-63cb807c-38b1-419b-963d-9e612ba8c23f button.colab-df-convert');\n",
              "      buttonEl.style.display =\n",
              "        google.colab.kernel.accessAllowed ? 'block' : 'none';\n",
              "\n",
              "      async function convertToInteractive(key) {\n",
              "        const element = document.querySelector('#df-63cb807c-38b1-419b-963d-9e612ba8c23f');\n",
              "        const dataTable =\n",
              "          await google.colab.kernel.invokeFunction('convertToInteractive',\n",
              "                                                    [key], {});\n",
              "        if (!dataTable) return;\n",
              "\n",
              "        const docLinkHtml = 'Like what you see? Visit the ' +\n",
              "          '<a target=\"_blank\" href=https://colab.research.google.com/notebooks/data_table.ipynb>data table notebook</a>'\n",
              "          + ' to learn more about interactive tables.';\n",
              "        element.innerHTML = '';\n",
              "        dataTable['output_type'] = 'display_data';\n",
              "        await google.colab.output.renderOutput(dataTable, element);\n",
              "        const docLink = document.createElement('div');\n",
              "        docLink.innerHTML = docLinkHtml;\n",
              "        element.appendChild(docLink);\n",
              "      }\n",
              "    </script>\n",
              "  </div>\n",
              "\n",
              "\n",
              "<div id=\"df-83594192-3e2c-4670-8d4e-431356dceb9c\">\n",
              "  <button class=\"colab-df-quickchart\" onclick=\"quickchart('df-83594192-3e2c-4670-8d4e-431356dceb9c')\"\n",
              "            title=\"Suggest charts\"\n",
              "            style=\"display:none;\">\n",
              "\n",
              "<svg xmlns=\"http://www.w3.org/2000/svg\" height=\"24px\"viewBox=\"0 0 24 24\"\n",
              "     width=\"24px\">\n",
              "    <g>\n",
              "        <path d=\"M19 3H5c-1.1 0-2 .9-2 2v14c0 1.1.9 2 2 2h14c1.1 0 2-.9 2-2V5c0-1.1-.9-2-2-2zM9 17H7v-7h2v7zm4 0h-2V7h2v10zm4 0h-2v-4h2v4z\"/>\n",
              "    </g>\n",
              "</svg>\n",
              "  </button>\n",
              "\n",
              "<style>\n",
              "  .colab-df-quickchart {\n",
              "      --bg-color: #E8F0FE;\n",
              "      --fill-color: #1967D2;\n",
              "      --hover-bg-color: #E2EBFA;\n",
              "      --hover-fill-color: #174EA6;\n",
              "      --disabled-fill-color: #AAA;\n",
              "      --disabled-bg-color: #DDD;\n",
              "  }\n",
              "\n",
              "  [theme=dark] .colab-df-quickchart {\n",
              "      --bg-color: #3B4455;\n",
              "      --fill-color: #D2E3FC;\n",
              "      --hover-bg-color: #434B5C;\n",
              "      --hover-fill-color: #FFFFFF;\n",
              "      --disabled-bg-color: #3B4455;\n",
              "      --disabled-fill-color: #666;\n",
              "  }\n",
              "\n",
              "  .colab-df-quickchart {\n",
              "    background-color: var(--bg-color);\n",
              "    border: none;\n",
              "    border-radius: 50%;\n",
              "    cursor: pointer;\n",
              "    display: none;\n",
              "    fill: var(--fill-color);\n",
              "    height: 32px;\n",
              "    padding: 0;\n",
              "    width: 32px;\n",
              "  }\n",
              "\n",
              "  .colab-df-quickchart:hover {\n",
              "    background-color: var(--hover-bg-color);\n",
              "    box-shadow: 0 1px 2px rgba(60, 64, 67, 0.3), 0 1px 3px 1px rgba(60, 64, 67, 0.15);\n",
              "    fill: var(--button-hover-fill-color);\n",
              "  }\n",
              "\n",
              "  .colab-df-quickchart-complete:disabled,\n",
              "  .colab-df-quickchart-complete:disabled:hover {\n",
              "    background-color: var(--disabled-bg-color);\n",
              "    fill: var(--disabled-fill-color);\n",
              "    box-shadow: none;\n",
              "  }\n",
              "\n",
              "  .colab-df-spinner {\n",
              "    border: 2px solid var(--fill-color);\n",
              "    border-color: transparent;\n",
              "    border-bottom-color: var(--fill-color);\n",
              "    animation:\n",
              "      spin 1s steps(1) infinite;\n",
              "  }\n",
              "\n",
              "  @keyframes spin {\n",
              "    0% {\n",
              "      border-color: transparent;\n",
              "      border-bottom-color: var(--fill-color);\n",
              "      border-left-color: var(--fill-color);\n",
              "    }\n",
              "    20% {\n",
              "      border-color: transparent;\n",
              "      border-left-color: var(--fill-color);\n",
              "      border-top-color: var(--fill-color);\n",
              "    }\n",
              "    30% {\n",
              "      border-color: transparent;\n",
              "      border-left-color: var(--fill-color);\n",
              "      border-top-color: var(--fill-color);\n",
              "      border-right-color: var(--fill-color);\n",
              "    }\n",
              "    40% {\n",
              "      border-color: transparent;\n",
              "      border-right-color: var(--fill-color);\n",
              "      border-top-color: var(--fill-color);\n",
              "    }\n",
              "    60% {\n",
              "      border-color: transparent;\n",
              "      border-right-color: var(--fill-color);\n",
              "    }\n",
              "    80% {\n",
              "      border-color: transparent;\n",
              "      border-right-color: var(--fill-color);\n",
              "      border-bottom-color: var(--fill-color);\n",
              "    }\n",
              "    90% {\n",
              "      border-color: transparent;\n",
              "      border-bottom-color: var(--fill-color);\n",
              "    }\n",
              "  }\n",
              "</style>\n",
              "\n",
              "  <script>\n",
              "    async function quickchart(key) {\n",
              "      const quickchartButtonEl =\n",
              "        document.querySelector('#' + key + ' button');\n",
              "      quickchartButtonEl.disabled = true;  // To prevent multiple clicks.\n",
              "      quickchartButtonEl.classList.add('colab-df-spinner');\n",
              "      try {\n",
              "        const charts = await google.colab.kernel.invokeFunction(\n",
              "            'suggestCharts', [key], {});\n",
              "      } catch (error) {\n",
              "        console.error('Error during call to suggestCharts:', error);\n",
              "      }\n",
              "      quickchartButtonEl.classList.remove('colab-df-spinner');\n",
              "      quickchartButtonEl.classList.add('colab-df-quickchart-complete');\n",
              "    }\n",
              "    (() => {\n",
              "      let quickchartButtonEl =\n",
              "        document.querySelector('#df-83594192-3e2c-4670-8d4e-431356dceb9c button');\n",
              "      quickchartButtonEl.style.display =\n",
              "        google.colab.kernel.accessAllowed ? 'block' : 'none';\n",
              "    })();\n",
              "  </script>\n",
              "</div>\n",
              "    </div>\n",
              "  </div>\n"
            ],
            "application/vnd.google.colaboratory.intrinsic+json": {
              "type": "dataframe",
              "variable_name": "car_data_init"
            }
          },
          "metadata": {},
          "execution_count": 2
        }
      ],
      "source": [
        "# Provide the names for the feature columns since the CSV file with the data\n",
        "# does not have a header row.\n",
        "cols = ['symboling', 'losses', 'make', 'fuel-type', 'aspiration', 'num-doors',\n",
        "        'body-style', 'drive-wheels', 'engine-location', 'wheel-base',\n",
        "        'length', 'width', 'height', 'weight', 'engine-type', 'num-cylinders',\n",
        "        'engine-size', 'fuel-system', 'bore', 'stroke', 'compression-ratio',\n",
        "        'horsepower', 'peak-rpm', 'city-mpg', 'highway-mpg', 'price']\n",
        "\n",
        "# Load the data from a CSV file into a pandas dataframe. Remember that each row\n",
        "# is an example and each column in a feature.\n",
        "car_data_init = pd.read_csv(\n",
        "    'https://storage.googleapis.com/ml_universities/cars_dataset/cars_data.csv',\n",
        "    sep=',', names=cols, header=None, encoding='latin-1')\n",
        "\n",
        "# Display top five rows\n",
        "print('Shape of data:', car_data_init.shape)\n",
        "car_data_init.head()"
      ]
    },
    {
      "cell_type": "markdown",
      "metadata": {
        "id": "g7w9Uob9wNZW"
      },
      "source": [
        "---\n",
        "### Step 2: Data preprocessing"
      ]
    },
    {
      "cell_type": "markdown",
      "metadata": {
        "id": "Ra2kbd62wNZW"
      },
      "source": [
        "This step is essential for preparing the data in a format that is suitable for ML algorithms. It helps ensure data quality and improvements in model performance."
      ]
    },
    {
      "cell_type": "markdown",
      "metadata": {
        "id": "FUA1Wow6wNZW"
      },
      "source": [
        "### <span style=\"color:chocolate\">Exercise 1:</span> Column selection (5 points)"
      ]
    },
    {
      "cell_type": "markdown",
      "metadata": {
        "id": "3dL42rxywNZX"
      },
      "source": [
        "To keep things simple, you will:\n",
        "\n",
        "1. Retain only the following columns: ['horsepower', 'peak-rpm', 'city-mpg', 'highway-mpg', 'price']. Name the new dataframe *car_data*.\n",
        "2. Display the data type of each column;\n",
        "3. Convert the data type of each columns to numeric. Coerce missing values to NaN. Hint: use <span style=\"color:chocolate\">pd.to_numeric()</span> method;\n",
        "4. Display the data type of each column after the transformation performed at point 3."
      ]
    },
    {
      "cell_type": "code",
      "execution_count": 3,
      "metadata": {
        "colab": {
          "base_uri": "https://localhost:8080/"
        },
        "id": "eKi3jlMqwNZX",
        "outputId": "a2469679-8c66-4415-c1ad-2d01083e404a"
      },
      "outputs": [
        {
          "output_type": "stream",
          "name": "stdout",
          "text": [
            "#2) The data type for each column in car_data:\n",
            " horsepower     object\n",
            "peak-rpm       object\n",
            "city-mpg        int64\n",
            "highway-mpg     int64\n",
            "price          object\n",
            "dtype: object\n",
            "#4) The data type for each column in car_data:\n",
            " horsepower     float64\n",
            "peak-rpm       float64\n",
            "city-mpg         int64\n",
            "highway-mpg      int64\n",
            "price          float64\n",
            "dtype: object\n"
          ]
        },
        {
          "output_type": "stream",
          "name": "stderr",
          "text": [
            "<ipython-input-3-b989469700c7>:14: SettingWithCopyWarning: \n",
            "A value is trying to be set on a copy of a slice from a DataFrame.\n",
            "Try using .loc[row_indexer,col_indexer] = value instead\n",
            "\n",
            "See the caveats in the documentation: https://pandas.pydata.org/pandas-docs/stable/user_guide/indexing.html#returning-a-view-versus-a-copy\n",
            "  car_data[column] = pd.to_numeric(car_data[column], errors='coerce')\n"
          ]
        }
      ],
      "source": [
        "# YOUR CODE HERE\n",
        "# 1)\n",
        "# Create the new car_data df:\n",
        "car_data = car_data_init[['horsepower', 'peak-rpm',\n",
        "                          'city-mpg', 'highway-mpg', 'price']]\n",
        "# 2)\n",
        "# Display the data type of each column:\n",
        "print('#2) The data type for each column in car_data:\\n', car_data.dtypes)\n",
        "\n",
        "# 3)\n",
        "# Convert the data type of each columns to numeric, coercing missing values to\n",
        "# NaN:\n",
        "for column in car_data.columns:\n",
        "  car_data[column] = pd.to_numeric(car_data[column], errors='coerce')\n",
        "\n",
        "# 4) Display the data type of each column after the transformation:\n",
        "print('#4) The data type for each column in car_data:\\n', car_data.dtypes)"
      ]
    },
    {
      "cell_type": "markdown",
      "metadata": {
        "id": "_WxEz2s6wNZX"
      },
      "source": [
        "### <span style=\"color:chocolate\">Exercise 2:</span> Example (row) selection (5 points)"
      ]
    },
    {
      "cell_type": "markdown",
      "metadata": {
        "id": "1RoMqxJdwNZX"
      },
      "source": [
        "To keep things simple again, you will:\n",
        "\n",
        "1. Print the shape of the car_data;\n",
        "\n",
        "2. Remove examples (rows) that have missing value(s). Note that in doing so, you will overwrite the car_data dataset. You should end up with 199 examples after this cleaning.\n",
        "\n",
        "3. Print the shape of the car_data again.\n",
        "\n",
        "It's important to acknowledge that there are multiple approaches to handling missing features, and simply discarding examples with any missing feature, though straightforward, may not be the most optimal solution. However, for the sake of simplicity, you will implement this strategy in this assignment."
      ]
    },
    {
      "cell_type": "code",
      "execution_count": 4,
      "metadata": {
        "colab": {
          "base_uri": "https://localhost:8080/"
        },
        "id": "kGeq6YQlwNZX",
        "outputId": "b036b228-ca03-4240-d70c-1e5bb591c786"
      },
      "outputs": [
        {
          "output_type": "stream",
          "name": "stdout",
          "text": [
            "#1) The shape of car_data is:  (205, 5)\n",
            "#3) The new shape of car_data is:  (199, 5)\n"
          ]
        }
      ],
      "source": [
        "# YOUR CODE HERE\n",
        "# 1)\n",
        "# Print the shape of car_data:\n",
        "print('#1) The shape of car_data is: ', car_data.shape)\n",
        "\n",
        "# 2)\n",
        "# Remove rows that have missing values:\n",
        "car_data = car_data.dropna(axis=0, how='any')\n",
        "\n",
        "# Reset the index of the df:\n",
        "car_data = car_data.reset_index(drop=True)\n",
        "\n",
        "# 3)\n",
        "# Print the new shape of car_data:\n",
        "print('#3) The new shape of car_data is: ', car_data.shape)\n"
      ]
    },
    {
      "cell_type": "markdown",
      "metadata": {
        "id": "3N-eVQ7MwNZX"
      },
      "source": [
        "### <span style=\"color:chocolate\">Exercise 3:</span> Data shuffling (10 points)"
      ]
    },
    {
      "cell_type": "markdown",
      "metadata": {
        "id": "4PPOZl7wwNZY"
      },
      "source": [
        "Since you'll be using Batch Gradient Descent (BGD) for training, it is important that **each batch is a random sample of the data** so that the gradient computed is representative. Note that the original data (above) appears sorted by *make* in alphabetic order."
      ]
    },
    {
      "cell_type": "markdown",
      "metadata": {
        "id": "oCCUlQvjwNZY"
      },
      "source": [
        "Using NumPy and Pandas methods:\n",
        "\n",
        "1. Create a list of indices corresponding to the rows in the car_data dataset. Call this list *indices*. Print this list;\n",
        "\n",
        "2. Shuffle *indices* using the <span style=\"color:chocolate\">np.random.permutation()</span> method. Call the resulting array *shuffled_indices*. Print this array;\n",
        "    \n",
        "3. Use the method <span style=\"color:chocolate\">dataframe.reindex()</span> to change the ordering of the car_data dataset based on the order in the *shuffled_indices* array. Note that in doing so, you will overwrite the original dataset. Print the top 5 rows."
      ]
    },
    {
      "cell_type": "code",
      "execution_count": 5,
      "metadata": {
        "colab": {
          "base_uri": "https://localhost:8080/",
          "height": 494
        },
        "id": "lDaq26zPwNZY",
        "outputId": "77af69fc-3188-4cce-a940-5cb8da7ec5fc"
      },
      "outputs": [
        {
          "output_type": "stream",
          "name": "stdout",
          "text": [
            "Indices:\n",
            " [0, 1, 2, 3, 4, 5, 6, 7, 8, 9, 10, 11, 12, 13, 14, 15, 16, 17, 18, 19, 20, 21, 22, 23, 24, 25, 26, 27, 28, 29, 30, 31, 32, 33, 34, 35, 36, 37, 38, 39, 40, 41, 42, 43, 44, 45, 46, 47, 48, 49, 50, 51, 52, 53, 54, 55, 56, 57, 58, 59, 60, 61, 62, 63, 64, 65, 66, 67, 68, 69, 70, 71, 72, 73, 74, 75, 76, 77, 78, 79, 80, 81, 82, 83, 84, 85, 86, 87, 88, 89, 90, 91, 92, 93, 94, 95, 96, 97, 98, 99, 100, 101, 102, 103, 104, 105, 106, 107, 108, 109, 110, 111, 112, 113, 114, 115, 116, 117, 118, 119, 120, 121, 122, 123, 124, 125, 126, 127, 128, 129, 130, 131, 132, 133, 134, 135, 136, 137, 138, 139, 140, 141, 142, 143, 144, 145, 146, 147, 148, 149, 150, 151, 152, 153, 154, 155, 156, 157, 158, 159, 160, 161, 162, 163, 164, 165, 166, 167, 168, 169, 170, 171, 172, 173, 174, 175, 176, 177, 178, 179, 180, 181, 182, 183, 184, 185, 186, 187, 188, 189, 190, 191, 192, 193, 194, 195, 196, 197, 198]\n",
            "shuffled_indices:\n",
            " [ 18 169 106  92 176 183   5 139  12 160  61 124 164 145  80   7  33 129\n",
            "  37  74 159 144  45 158  60 122 178 184  97  44  16  55  83 110  22 188\n",
            " 135   4 137 193 153  66  26 131 146  63   8  75  98 166  71 196  86  96\n",
            " 149  24  30 113  40  56 130 182 180  19 152 136  54 162  51 112 138  89\n",
            "  90 123 143 181 108  14  27 101 118  46 194 107  62   2  59 173 126  43\n",
            "  10 186  73 191 177 167 125  93 111 157 190  50   0  94 109  95  64 141\n",
            "  41  69  49  48  85  13 150  23 185 134  20  15  78 104  52 100  76   3\n",
            " 116 163 197   6  68  84 121 154 170 155  91 171  11 119 102  35  57  65\n",
            "   1 120 161  42 105 132 198  17  38 133  53 156 128  34  28 114 151  31\n",
            " 179 127 175  32 142 168 147  29  99  82  79 115 148 195  72  77  25 165\n",
            "  81 187 174 189  39  58 140  88  70  87  36  21   9 103  67 192 117  47\n",
            " 172]\n"
          ]
        },
        {
          "output_type": "execute_result",
          "data": {
            "text/plain": [
              "     horsepower  peak-rpm  city-mpg  highway-mpg    price\n",
              "18         70.0    5400.0        38           43   6295.0\n",
              "169        92.0    4200.0        27           32   9988.0\n",
              "106        97.0    5000.0        19           24  12440.0\n",
              "92         69.0    5200.0        31           37   7799.0\n",
              "176        52.0    4800.0        37           46   7775.0"
            ],
            "text/html": [
              "\n",
              "  <div id=\"df-a261cc6e-703c-4778-ba89-4e479de65b79\" class=\"colab-df-container\">\n",
              "    <div>\n",
              "<style scoped>\n",
              "    .dataframe tbody tr th:only-of-type {\n",
              "        vertical-align: middle;\n",
              "    }\n",
              "\n",
              "    .dataframe tbody tr th {\n",
              "        vertical-align: top;\n",
              "    }\n",
              "\n",
              "    .dataframe thead th {\n",
              "        text-align: right;\n",
              "    }\n",
              "</style>\n",
              "<table border=\"1\" class=\"dataframe\">\n",
              "  <thead>\n",
              "    <tr style=\"text-align: right;\">\n",
              "      <th></th>\n",
              "      <th>horsepower</th>\n",
              "      <th>peak-rpm</th>\n",
              "      <th>city-mpg</th>\n",
              "      <th>highway-mpg</th>\n",
              "      <th>price</th>\n",
              "    </tr>\n",
              "  </thead>\n",
              "  <tbody>\n",
              "    <tr>\n",
              "      <th>18</th>\n",
              "      <td>70.0</td>\n",
              "      <td>5400.0</td>\n",
              "      <td>38</td>\n",
              "      <td>43</td>\n",
              "      <td>6295.0</td>\n",
              "    </tr>\n",
              "    <tr>\n",
              "      <th>169</th>\n",
              "      <td>92.0</td>\n",
              "      <td>4200.0</td>\n",
              "      <td>27</td>\n",
              "      <td>32</td>\n",
              "      <td>9988.0</td>\n",
              "    </tr>\n",
              "    <tr>\n",
              "      <th>106</th>\n",
              "      <td>97.0</td>\n",
              "      <td>5000.0</td>\n",
              "      <td>19</td>\n",
              "      <td>24</td>\n",
              "      <td>12440.0</td>\n",
              "    </tr>\n",
              "    <tr>\n",
              "      <th>92</th>\n",
              "      <td>69.0</td>\n",
              "      <td>5200.0</td>\n",
              "      <td>31</td>\n",
              "      <td>37</td>\n",
              "      <td>7799.0</td>\n",
              "    </tr>\n",
              "    <tr>\n",
              "      <th>176</th>\n",
              "      <td>52.0</td>\n",
              "      <td>4800.0</td>\n",
              "      <td>37</td>\n",
              "      <td>46</td>\n",
              "      <td>7775.0</td>\n",
              "    </tr>\n",
              "  </tbody>\n",
              "</table>\n",
              "</div>\n",
              "    <div class=\"colab-df-buttons\">\n",
              "\n",
              "  <div class=\"colab-df-container\">\n",
              "    <button class=\"colab-df-convert\" onclick=\"convertToInteractive('df-a261cc6e-703c-4778-ba89-4e479de65b79')\"\n",
              "            title=\"Convert this dataframe to an interactive table.\"\n",
              "            style=\"display:none;\">\n",
              "\n",
              "  <svg xmlns=\"http://www.w3.org/2000/svg\" height=\"24px\" viewBox=\"0 -960 960 960\">\n",
              "    <path d=\"M120-120v-720h720v720H120Zm60-500h600v-160H180v160Zm220 220h160v-160H400v160Zm0 220h160v-160H400v160ZM180-400h160v-160H180v160Zm440 0h160v-160H620v160ZM180-180h160v-160H180v160Zm440 0h160v-160H620v160Z\"/>\n",
              "  </svg>\n",
              "    </button>\n",
              "\n",
              "  <style>\n",
              "    .colab-df-container {\n",
              "      display:flex;\n",
              "      gap: 12px;\n",
              "    }\n",
              "\n",
              "    .colab-df-convert {\n",
              "      background-color: #E8F0FE;\n",
              "      border: none;\n",
              "      border-radius: 50%;\n",
              "      cursor: pointer;\n",
              "      display: none;\n",
              "      fill: #1967D2;\n",
              "      height: 32px;\n",
              "      padding: 0 0 0 0;\n",
              "      width: 32px;\n",
              "    }\n",
              "\n",
              "    .colab-df-convert:hover {\n",
              "      background-color: #E2EBFA;\n",
              "      box-shadow: 0px 1px 2px rgba(60, 64, 67, 0.3), 0px 1px 3px 1px rgba(60, 64, 67, 0.15);\n",
              "      fill: #174EA6;\n",
              "    }\n",
              "\n",
              "    .colab-df-buttons div {\n",
              "      margin-bottom: 4px;\n",
              "    }\n",
              "\n",
              "    [theme=dark] .colab-df-convert {\n",
              "      background-color: #3B4455;\n",
              "      fill: #D2E3FC;\n",
              "    }\n",
              "\n",
              "    [theme=dark] .colab-df-convert:hover {\n",
              "      background-color: #434B5C;\n",
              "      box-shadow: 0px 1px 3px 1px rgba(0, 0, 0, 0.15);\n",
              "      filter: drop-shadow(0px 1px 2px rgba(0, 0, 0, 0.3));\n",
              "      fill: #FFFFFF;\n",
              "    }\n",
              "  </style>\n",
              "\n",
              "    <script>\n",
              "      const buttonEl =\n",
              "        document.querySelector('#df-a261cc6e-703c-4778-ba89-4e479de65b79 button.colab-df-convert');\n",
              "      buttonEl.style.display =\n",
              "        google.colab.kernel.accessAllowed ? 'block' : 'none';\n",
              "\n",
              "      async function convertToInteractive(key) {\n",
              "        const element = document.querySelector('#df-a261cc6e-703c-4778-ba89-4e479de65b79');\n",
              "        const dataTable =\n",
              "          await google.colab.kernel.invokeFunction('convertToInteractive',\n",
              "                                                    [key], {});\n",
              "        if (!dataTable) return;\n",
              "\n",
              "        const docLinkHtml = 'Like what you see? Visit the ' +\n",
              "          '<a target=\"_blank\" href=https://colab.research.google.com/notebooks/data_table.ipynb>data table notebook</a>'\n",
              "          + ' to learn more about interactive tables.';\n",
              "        element.innerHTML = '';\n",
              "        dataTable['output_type'] = 'display_data';\n",
              "        await google.colab.output.renderOutput(dataTable, element);\n",
              "        const docLink = document.createElement('div');\n",
              "        docLink.innerHTML = docLinkHtml;\n",
              "        element.appendChild(docLink);\n",
              "      }\n",
              "    </script>\n",
              "  </div>\n",
              "\n",
              "\n",
              "<div id=\"df-94ce1249-ea2a-4d2a-b3bb-90ebb52c3d7f\">\n",
              "  <button class=\"colab-df-quickchart\" onclick=\"quickchart('df-94ce1249-ea2a-4d2a-b3bb-90ebb52c3d7f')\"\n",
              "            title=\"Suggest charts\"\n",
              "            style=\"display:none;\">\n",
              "\n",
              "<svg xmlns=\"http://www.w3.org/2000/svg\" height=\"24px\"viewBox=\"0 0 24 24\"\n",
              "     width=\"24px\">\n",
              "    <g>\n",
              "        <path d=\"M19 3H5c-1.1 0-2 .9-2 2v14c0 1.1.9 2 2 2h14c1.1 0 2-.9 2-2V5c0-1.1-.9-2-2-2zM9 17H7v-7h2v7zm4 0h-2V7h2v10zm4 0h-2v-4h2v4z\"/>\n",
              "    </g>\n",
              "</svg>\n",
              "  </button>\n",
              "\n",
              "<style>\n",
              "  .colab-df-quickchart {\n",
              "      --bg-color: #E8F0FE;\n",
              "      --fill-color: #1967D2;\n",
              "      --hover-bg-color: #E2EBFA;\n",
              "      --hover-fill-color: #174EA6;\n",
              "      --disabled-fill-color: #AAA;\n",
              "      --disabled-bg-color: #DDD;\n",
              "  }\n",
              "\n",
              "  [theme=dark] .colab-df-quickchart {\n",
              "      --bg-color: #3B4455;\n",
              "      --fill-color: #D2E3FC;\n",
              "      --hover-bg-color: #434B5C;\n",
              "      --hover-fill-color: #FFFFFF;\n",
              "      --disabled-bg-color: #3B4455;\n",
              "      --disabled-fill-color: #666;\n",
              "  }\n",
              "\n",
              "  .colab-df-quickchart {\n",
              "    background-color: var(--bg-color);\n",
              "    border: none;\n",
              "    border-radius: 50%;\n",
              "    cursor: pointer;\n",
              "    display: none;\n",
              "    fill: var(--fill-color);\n",
              "    height: 32px;\n",
              "    padding: 0;\n",
              "    width: 32px;\n",
              "  }\n",
              "\n",
              "  .colab-df-quickchart:hover {\n",
              "    background-color: var(--hover-bg-color);\n",
              "    box-shadow: 0 1px 2px rgba(60, 64, 67, 0.3), 0 1px 3px 1px rgba(60, 64, 67, 0.15);\n",
              "    fill: var(--button-hover-fill-color);\n",
              "  }\n",
              "\n",
              "  .colab-df-quickchart-complete:disabled,\n",
              "  .colab-df-quickchart-complete:disabled:hover {\n",
              "    background-color: var(--disabled-bg-color);\n",
              "    fill: var(--disabled-fill-color);\n",
              "    box-shadow: none;\n",
              "  }\n",
              "\n",
              "  .colab-df-spinner {\n",
              "    border: 2px solid var(--fill-color);\n",
              "    border-color: transparent;\n",
              "    border-bottom-color: var(--fill-color);\n",
              "    animation:\n",
              "      spin 1s steps(1) infinite;\n",
              "  }\n",
              "\n",
              "  @keyframes spin {\n",
              "    0% {\n",
              "      border-color: transparent;\n",
              "      border-bottom-color: var(--fill-color);\n",
              "      border-left-color: var(--fill-color);\n",
              "    }\n",
              "    20% {\n",
              "      border-color: transparent;\n",
              "      border-left-color: var(--fill-color);\n",
              "      border-top-color: var(--fill-color);\n",
              "    }\n",
              "    30% {\n",
              "      border-color: transparent;\n",
              "      border-left-color: var(--fill-color);\n",
              "      border-top-color: var(--fill-color);\n",
              "      border-right-color: var(--fill-color);\n",
              "    }\n",
              "    40% {\n",
              "      border-color: transparent;\n",
              "      border-right-color: var(--fill-color);\n",
              "      border-top-color: var(--fill-color);\n",
              "    }\n",
              "    60% {\n",
              "      border-color: transparent;\n",
              "      border-right-color: var(--fill-color);\n",
              "    }\n",
              "    80% {\n",
              "      border-color: transparent;\n",
              "      border-right-color: var(--fill-color);\n",
              "      border-bottom-color: var(--fill-color);\n",
              "    }\n",
              "    90% {\n",
              "      border-color: transparent;\n",
              "      border-bottom-color: var(--fill-color);\n",
              "    }\n",
              "  }\n",
              "</style>\n",
              "\n",
              "  <script>\n",
              "    async function quickchart(key) {\n",
              "      const quickchartButtonEl =\n",
              "        document.querySelector('#' + key + ' button');\n",
              "      quickchartButtonEl.disabled = true;  // To prevent multiple clicks.\n",
              "      quickchartButtonEl.classList.add('colab-df-spinner');\n",
              "      try {\n",
              "        const charts = await google.colab.kernel.invokeFunction(\n",
              "            'suggestCharts', [key], {});\n",
              "      } catch (error) {\n",
              "        console.error('Error during call to suggestCharts:', error);\n",
              "      }\n",
              "      quickchartButtonEl.classList.remove('colab-df-spinner');\n",
              "      quickchartButtonEl.classList.add('colab-df-quickchart-complete');\n",
              "    }\n",
              "    (() => {\n",
              "      let quickchartButtonEl =\n",
              "        document.querySelector('#df-94ce1249-ea2a-4d2a-b3bb-90ebb52c3d7f button');\n",
              "      quickchartButtonEl.style.display =\n",
              "        google.colab.kernel.accessAllowed ? 'block' : 'none';\n",
              "    })();\n",
              "  </script>\n",
              "</div>\n",
              "    </div>\n",
              "  </div>\n"
            ],
            "application/vnd.google.colaboratory.intrinsic+json": {
              "type": "dataframe",
              "variable_name": "car_data",
              "summary": "{\n  \"name\": \"car_data\",\n  \"rows\": 199,\n  \"fields\": [\n    {\n      \"column\": \"horsepower\",\n      \"properties\": {\n        \"dtype\": \"number\",\n        \"std\": 37.553842705833965,\n        \"min\": 48.0,\n        \"max\": 262.0,\n        \"num_unique_values\": 58,\n        \"samples\": [\n          70.0,\n          90.0,\n          72.0\n        ],\n        \"semantic_type\": \"\",\n        \"description\": \"\"\n      }\n    },\n    {\n      \"column\": \"peak-rpm\",\n      \"properties\": {\n        \"dtype\": \"number\",\n        \"std\": 480.5218239457579,\n        \"min\": 4150.0,\n        \"max\": 6600.0,\n        \"num_unique_values\": 22,\n        \"samples\": [\n          5400.0,\n          4650.0,\n          5900.0\n        ],\n        \"semantic_type\": \"\",\n        \"description\": \"\"\n      }\n    },\n    {\n      \"column\": \"city-mpg\",\n      \"properties\": {\n        \"dtype\": \"number\",\n        \"std\": 6,\n        \"min\": 13,\n        \"max\": 49,\n        \"num_unique_values\": 29,\n        \"samples\": [\n          49,\n          23,\n          29\n        ],\n        \"semantic_type\": \"\",\n        \"description\": \"\"\n      }\n    },\n    {\n      \"column\": \"highway-mpg\",\n      \"properties\": {\n        \"dtype\": \"number\",\n        \"std\": 6,\n        \"min\": 16,\n        \"max\": 54,\n        \"num_unique_values\": 30,\n        \"samples\": [\n          53,\n          27,\n          17\n        ],\n        \"semantic_type\": \"\",\n        \"description\": \"\"\n      }\n    },\n    {\n      \"column\": \"price\",\n      \"properties\": {\n        \"dtype\": \"number\",\n        \"std\": 7978.707608706004,\n        \"min\": 5118.0,\n        \"max\": 45400.0,\n        \"num_unique_values\": 184,\n        \"samples\": [\n          6189.0,\n          8558.0,\n          10698.0\n        ],\n        \"semantic_type\": \"\",\n        \"description\": \"\"\n      }\n    }\n  ]\n}"
            }
          },
          "metadata": {},
          "execution_count": 5
        }
      ],
      "source": [
        "np.random.seed(0)\n",
        "# YOUR CODE HERE\n",
        "# 1)\n",
        "# Create a list of indices corresponding to the rows in the car_Data dataset:\n",
        "indices = list(car_data.index.values)\n",
        "print('Indices:\\n', indices)\n",
        "\n",
        "# 2)\n",
        "# Shuffle indices using the np.random.permutation method:\n",
        "shuffled_indices = np.random.permutation(indices)\n",
        "print('shuffled_indices:\\n', shuffled_indices)\n",
        "\n",
        "# 3)\n",
        "# Use the method dataframe.reindex() to change the ordering of the car_data\n",
        "# dataset:\n",
        "car_data = car_data.reindex(index=shuffled_indices)\n",
        "car_data.head()"
      ]
    },
    {
      "cell_type": "markdown",
      "metadata": {
        "id": "NSxnuDU5wNZY"
      },
      "source": [
        "### <span style=\"color:chocolate\">Exercise 4:</span> Define outcome and features (5 points)"
      ]
    },
    {
      "cell_type": "markdown",
      "metadata": {
        "id": "20aUjPGDwNZY"
      },
      "source": [
        "Create two dataframes as follows:\n",
        "\n",
        "1. The first dataframe contains our outcome of interest: ['price']. Note, this is what we are aiming to predict. Name this dataframe Y. Print shape of Y.\n",
        "2. The second dataframe contains our features of interest: ['horsepower', 'peak-rpm', 'city-mpg', 'highway-mpg']. Name this dataframe X. Print shape of X.\n"
      ]
    },
    {
      "cell_type": "code",
      "execution_count": 6,
      "metadata": {
        "colab": {
          "base_uri": "https://localhost:8080/"
        },
        "id": "zJSEAX5MwNZY",
        "outputId": "ddccf4a7-9d3e-45cb-bd21-82148c4b9f27"
      },
      "outputs": [
        {
          "output_type": "stream",
          "name": "stdout",
          "text": [
            "The shape of Y:\n",
            " (199, 1)\n",
            "The shape of Y:\n",
            " (199, 4)\n"
          ]
        }
      ],
      "source": [
        "# YOUR CODE HERE\n",
        "Y = pd.DataFrame(car_data['price'])\n",
        "print('The shape of Y:\\n', Y.shape)\n",
        "\n",
        "X = pd.DataFrame(car_data[['horsepower', 'peak-rpm',\n",
        "                           'city-mpg', 'highway-mpg']])\n",
        "print('The shape of Y:\\n', X.shape)"
      ]
    },
    {
      "cell_type": "markdown",
      "metadata": {
        "id": "htaPcTY2wNZY"
      },
      "source": [
        "### <span style=\"color:chocolate\">Exercise 5:</span> Data splits (10 points)"
      ]
    },
    {
      "cell_type": "markdown",
      "metadata": {
        "id": "MhZLzaiQwNZZ"
      },
      "source": [
        "Using the <span style=\"color:chocolate\">train_test_split()</span> method available in scikit-learn:\n",
        "1. Partition the (X, Y) data into training, validation, and test sets using a splitting rule of [60%, 20%, 20%], with a random state set to 1234. Name the resulting dataframes as follows: X_train, X_val, X_test, Y_train, Y_val, Y_test. Hint: To create these three partitions you will utilize the train_test_split() method twice. You should obtain [119, 40, 40] examples for training, validation, and test, respectively.\n",
        "2. Print the shape of each dataframe.\n",
        "\n",
        "Note: The validation set is crucial for evaluating different hyperparameter configurations and selecting those that yield optimal model performance. This approach avoids utilizing the test dataset during model training, as it is assumed to be \"unknown\" at that stage."
      ]
    },
    {
      "cell_type": "code",
      "execution_count": 7,
      "metadata": {
        "colab": {
          "base_uri": "https://localhost:8080/"
        },
        "id": "lD9ugaFFwNZZ",
        "outputId": "de2bf8cc-1364-44bf-f033-70365114a3b2"
      },
      "outputs": [
        {
          "output_type": "stream",
          "name": "stdout",
          "text": [
            "The shape of X_train:  (119, 4)\n",
            "The shape of X_val:  (40, 4)\n",
            "The shape of X_test:  (40, 4)\n",
            "The shape of Y_train:  (119, 1)\n",
            "The shape of Y_val:  (40, 1)\n",
            "The shape of Y_test:  (40, 1)\n"
          ]
        }
      ],
      "source": [
        "# YOUR CODE HERE\n",
        "# 1)\n",
        "# Partition (X, Y) into training validation and test sets using splitting of\n",
        "# [60%, 20%, 20%]. First partition will split into train/test:\n",
        "X_train, X_test, Y_train, Y_test = train_test_split(X, Y, test_size=0.2, random_state=1234)\n",
        "\n",
        "# Second partition will use the newly created X_train/Y_train to create the\n",
        "# validation set. We set test_size=0.25, since our train dataset is already\n",
        "# 80% of the original, thus (0.8 * 0.25 = 0.6)\n",
        "X_train, X_val, Y_train, Y_val = train_test_split(X_train, Y_train, test_size=0.25, random_state=1234)\n",
        "\n",
        "# 2) Print the shape of each dataframe:\n",
        "print('The shape of X_train: ', X_train.shape)\n",
        "print('The shape of X_val: ', X_val.shape)\n",
        "print('The shape of X_test: ', X_test.shape)\n",
        "print('The shape of Y_train: ', Y_train.shape)\n",
        "print('The shape of Y_val: ', Y_val.shape)\n",
        "print('The shape of Y_test: ', Y_test.shape)"
      ]
    },
    {
      "cell_type": "markdown",
      "metadata": {
        "id": "i-pD7XS4wNZZ"
      },
      "source": [
        "### <span style=\"color:chocolate\">Exercise 6:</span> Data standardization (10 points)"
      ]
    },
    {
      "cell_type": "markdown",
      "metadata": {
        "id": "8xo-DZcLwNZZ"
      },
      "source": [
        "With this concept in mind, complete the following tasks:\n",
        "\n",
        "1. Output the quantile values (0.25, 0.5, 0.75, 0.95) for all features in the X_train dataset. Are these values uniformly scaled across features?\n",
        "\n",
        "2. Standardize all features in X_train, X_val, and X_test. Label the resulting dataframes as X_train_std, X_val_std, and X_test_std, respectively. Hint: standardize the validation and test data using the mean and standard deviation computed from the training data. Why?\n",
        "\n",
        "3. Similar to point 2. but now standardize the outcome variable. Label the resulting dataframes as Y_train_std, Y_val_std, and Y_test_std."
      ]
    },
    {
      "cell_type": "code",
      "execution_count": 8,
      "metadata": {
        "colab": {
          "base_uri": "https://localhost:8080/"
        },
        "id": "Bq_PXHEFwNZZ",
        "outputId": "e3695d64-2ee5-4793-bc25-e03df5f7aee5"
      },
      "outputs": [
        {
          "output_type": "stream",
          "name": "stdout",
          "text": [
            "The 0.25 quantile of X_train: \n",
            " horsepower       69.0\n",
            "peak-rpm       4800.0\n",
            "city-mpg         21.0\n",
            "highway-mpg      25.0\n",
            "Name: 0.25, dtype: float64\n",
            "The 0.5 quantile of X_train: \n",
            " horsepower       90.0\n",
            "peak-rpm       5100.0\n",
            "city-mpg         25.0\n",
            "highway-mpg      30.0\n",
            "Name: 0.5, dtype: float64\n",
            "The 0.75 quantile of X_train: \n",
            " horsepower      116.0\n",
            "peak-rpm       5400.0\n",
            "city-mpg         31.0\n",
            "highway-mpg      37.0\n",
            "Name: 0.75, dtype: float64\n",
            "The 0.95 quantile of X_train: \n",
            " horsepower      176.6\n",
            "peak-rpm       5810.0\n",
            "city-mpg         37.0\n",
            "highway-mpg      42.1\n",
            "Name: 0.95, dtype: float64\n"
          ]
        }
      ],
      "source": [
        "# YOUR CODE HERE\n",
        "# 1)\n",
        "# Output the quantile values (0.25, 0.5, 0.75, 0.75, 0.95) for all features in\n",
        "# the X_train dataset by using a simple for loop:\n",
        "quantiles = [0.25, 0.5, 0.75, 0.95]\n",
        "\n",
        "for quantile in quantiles:\n",
        "  print(f'The {quantile} quantile of X_train: \\n {X_train.quantile(quantile, axis = 0)}')\n",
        "\n",
        "# Looking at the quantiles, they do appear to be uniformly scaled across\n",
        "# features for the most part. The 95% quantile has a large jump in horsepower,\n",
        "# but the rest of the features look reasonably scaled.\n",
        "\n",
        "# 2)\n",
        "# Standardize all features in X_train, X_val, and X_test by first calculating\n",
        "# the mean/std of the X_train dataset.\n",
        "mu = X_train.mean()\n",
        "stdev = X_train.std()\n",
        "\n",
        "# Standardize the X_train dataset:\n",
        "X_train_std = (X_train - mu) / stdev\n",
        "\n",
        "# Standardize the X_val dataset:\n",
        "X_val_std = (X_val - mu) / stdev\n",
        "\n",
        "# Standardize the X_test dataset:\n",
        "X_test_std = (X_val - mu) / stdev\n",
        "\n",
        "# The reason that we standardize using the X_train dataset is to avoid data\n",
        "# leakage. We must avoid information from the validation and test datasets\n",
        "# being represented in our training model!\n",
        "\n",
        "# 3)\n",
        "# Standardize all features in Y_train, Y_val, and Y_test by first calculating\n",
        "# the mean/std of the Y_train dataset.\n",
        "y_mu = Y_train.mean()\n",
        "y_stdev = Y_train.std()\n",
        "\n",
        "# Standardize the X_train dataset:\n",
        "Y_train_std = (Y_train - y_mu) / y_stdev\n",
        "\n",
        "# Standardize the X_val dataset:\n",
        "Y_val_std = (Y_val - y_mu) / y_stdev\n",
        "\n",
        "# Standardize the X_test dataset:\n",
        "Y_test_std = (Y_val - y_mu) / y_stdev"
      ]
    },
    {
      "cell_type": "markdown",
      "metadata": {
        "id": "pXUepqSYwNZZ"
      },
      "source": [
        "---\n",
        "### Step 3: Exploratory data analysis (EDA)"
      ]
    },
    {
      "cell_type": "markdown",
      "metadata": {
        "id": "3blLU53bwNZZ"
      },
      "source": [
        "EDA plays a very important role in ML. The goal here is to develop a good understanding of our dataset, identify any data quality issues, understand patterns and relationships, which in turn, aids in subsequent modeling and interpretations."
      ]
    },
    {
      "cell_type": "markdown",
      "metadata": {
        "id": "cUTL6Ks6wNZa"
      },
      "source": [
        "### <span style=\"color:chocolate\">Exercise 7:</span> Scatterplot matrix (10 points)"
      ]
    },
    {
      "cell_type": "markdown",
      "metadata": {
        "id": "PX2tB9UowNZa"
      },
      "source": [
        "In this exercise you will use some simple yet useful techniques to visualize the distribution of the data.\n",
        "\n",
        "Let's start with:\n",
        "\n",
        "1. A scatterplot matrix to visualize the pair-wise correlations between different features and outcome in the (X_train_std, Y_train_std) data. You will use the <span style=\"color:chocolate\">sns.pairplot()</span> method from the seaborn library imported at the top of the notebook;\n",
        "2. Is any of the variables in the data normally distributed? Is it necessary for the explanatory or target variable to be normally distributed in order to train a ML model?"
      ]
    },
    {
      "cell_type": "code",
      "execution_count": 9,
      "metadata": {
        "colab": {
          "base_uri": "https://localhost:8080/",
          "height": 1000
        },
        "id": "3hVaEyvJwNZa",
        "outputId": "b98ae29e-abf9-4092-c846-4dec5e5db3eb"
      },
      "outputs": [
        {
          "output_type": "display_data",
          "data": {
            "text/plain": [
              "<Figure size 1250x1250 with 30 Axes>"
            ],
            "image/png": "[encoded data removed]"
          },
          "metadata": {}
        }
      ],
      "source": [
        "# YOUR CODE HERE\n",
        "# 1)\n",
        "# First, we must combine X_train and Y_train into one df. Create a new df\n",
        "# called X_Y_train_std and combine:\n",
        "X_Y_train_std = X_train_std.copy()\n",
        "X_Y_train_std['target'] = Y_train_std\n",
        "\n",
        "# Next, use Seaborn to create the scatterplot matrix:\n",
        "sns.pairplot(X_Y_train_std);\n",
        "\n",
        "# 2)\n",
        "# It does not appear that any of the variables in the data are normally\n",
        "# distributed. Although we would like to include features/variables that\n",
        "# are normally distributed, it is not necessary in ML."
      ]
    },
    {
      "cell_type": "markdown",
      "metadata": {
        "id": "80h9obzFwNZa"
      },
      "source": [
        "### <span style=\"color:chocolate\">Exercise 8:</span> Correlation matrix (10 points)"
      ]
    },
    {
      "cell_type": "markdown",
      "metadata": {
        "id": "K2haByR3wNZa"
      },
      "source": [
        "In this exercise you will:\n",
        "\n",
        "1. Plot a correlation matrix in the form of a heatmap to visualize the linear relationships between different features and outcome in the (X_train_std, Y_train) data. Hint: this example here is very useful: https://seaborn.pydata.org/examples/many_pairwise_correlations.html\n",
        "    \n",
        "2. Answer the following questions:\n",
        " - Which two features are likely to be most redundant?\n",
        " - Which feature is likely to be least useful for predicting price?"
      ]
    },
    {
      "cell_type": "code",
      "execution_count": 10,
      "metadata": {
        "colab": {
          "base_uri": "https://localhost:8080/",
          "height": 747
        },
        "id": "qc1eWbJKwNZa",
        "outputId": "3e854910-7ccf-4962-eee6-76876c70c7cb"
      },
      "outputs": [
        {
          "output_type": "display_data",
          "data": {
            "text/plain": [
              "<Figure size 1100x900 with 2 Axes>"
            ],
            "image/png": "[encoded data removed]"
          },
          "metadata": {}
        }
      ],
      "source": [
        "# YOUR CODE HERE\n",
        "# 1)\n",
        "# First, generate the correlation matrix:\n",
        "corr = X_Y_train_std.corr()\n",
        "\n",
        "# Next, generate a mask for the upper triangle\n",
        "mask = np.triu(np.ones_like(corr, dtype=bool))\n",
        "\n",
        "# Set up the matplotlib figure\n",
        "f, ax = plt.subplots(figsize=(11, 9))\n",
        "\n",
        "# Generate a custom diverging colormap\n",
        "cmap = sns.diverging_palette(230, 20, as_cmap=True)\n",
        "\n",
        "# Draw the heatmap with the mask and correct aspect ratio\n",
        "sns.heatmap(corr, mask=mask, cmap=cmap, center=0,\n",
        "            square=True, annot=True, linewidths=.5, cbar_kws={\"shrink\": .5});\n",
        "\n",
        "# 2)\n",
        "# The two features that are most redundant are city-mpg and highway-mpg.\n",
        "\n",
        "# The feature that is least useful in predicting price appears to be city-mpg."
      ]
    },
    {
      "cell_type": "markdown",
      "metadata": {
        "id": "AyDr0DG7wNZb"
      },
      "source": [
        "---\n",
        "### Step 4: Modeling"
      ]
    },
    {
      "cell_type": "markdown",
      "metadata": {
        "id": "gQ6X1YOYwNZb"
      },
      "source": [
        "### <span style=\"color:chocolate\">Exercise 9:</span> Baseline model (5 points)"
      ]
    },
    {
      "cell_type": "markdown",
      "metadata": {
        "id": "Zalq7IyywNZl"
      },
      "source": [
        "Let's start by evaluating a baseline model. Precisely, you'll use the average price of cars in the training set as our baseline model -- that is, the baseline always predicts the average price regardless of the input.\n",
        "\n",
        "1. Implement this baseline using the Y_train_std data and print the average price. Note: You can revert the price variable to the original scale for interpretation purposes."
      ]
    },
    {
      "cell_type": "code",
      "execution_count": 11,
      "metadata": {
        "colab": {
          "base_uri": "https://localhost:8080/"
        },
        "id": "cRLBy037wNZm",
        "outputId": "ef6fa194-3b91-494d-831d-0f6bf1d7131d"
      },
      "outputs": [
        {
          "output_type": "stream",
          "name": "stdout",
          "text": [
            "Baseline Model:\n",
            " price    12889.008403\n",
            "dtype: float64\n"
          ]
        }
      ],
      "source": [
        "# YOUR CODE HERE\n",
        "# 1)\n",
        "# Calculate the mean value and revert it back to the original scale:\n",
        "baseline_model = (Y_train_std.mean() * y_stdev) + y_mu\n",
        "print('Baseline Model:\\n', baseline_model)"
      ]
    },
    {
      "cell_type": "markdown",
      "metadata": {
        "id": "osBXeXWygp4T"
      },
      "source": [
        "### <span style=\"color:chocolate\">Exercise 10:</span> Improvement over Baseline with TensorFlow (10 points)"
      ]
    },
    {
      "cell_type": "markdown",
      "metadata": {
        "id": "vDsxLnljlp0C"
      },
      "source": [
        "Let's train a linear regression model much like we did in the previous assignment, but this time using TensorFlow.\n",
        "\n",
        "1. Fill in the <span style=\"color:green\">NotImplemented</span> parts of the build_model() function below by following the instructions provided as comments. Hint: refer to Demo 3 in [bCourses/Modules/Live Session Demos](https://bcourses.berkeley.edu/courses/1534588/files/88733489?module_item_id=17073646) for an example.\n",
        "2. Build and compile a model using the build_model() function and the (X_train_std, Y_train_std) data. Set learning_rate = 0.0001. Call the resulting object *model_tf*.\n",
        "3. Train *model_tf* using the (X_train_std, Y_train_std) data. Set num_epochs = 5. Pass the (X_val_std, Y_val_std) data for validation. Hint: see the documentation behind the [tf.keras.Model.fit()](https://bcourses.berkeley.edu/courses/1534588/files/88733489?module_item_id=17073646) method.\n",
        "3. Generate a plot with the loss values on the y-axis and the epoch number on the x-axis for visualization. Make sure to include axes name and title. Hint: check what the [tf.keras.Model.fit()](https://bcourses.berkeley.edu/courses/1534588/files/88733489?module_item_id=17073646) method returns.\n",
        "\n",
        "More notes on point 1: the idea is to build a *computational graph* for linear regression, and then send data through it. There are many ways to build graphs, but [TenforFlow Keras API](https://www.tensorflow.org/api_docs/python/tf/keras) is recommended."
      ]
    },
    {
      "cell_type": "code",
      "execution_count": 12,
      "metadata": {
        "id": "pfdRzjk-RgpG"
      },
      "outputs": [],
      "source": [
        "def build_model(num_features, learning_rate):\n",
        "  \"\"\"Build a TF linear regression model using Keras.\n",
        "\n",
        "  Args:\n",
        "    num_features: The number of input features.\n",
        "    learning_rate: The desired learning rate for SGD.\n",
        "\n",
        "  Returns:\n",
        "    model: A tf.keras model (graph).\n",
        "  \"\"\"\n",
        "  # This is not strictly necessary, but each time you build a model, TF adds\n",
        "  # new nodes (rather than overwriting), so the colab session can end up\n",
        "  # storing lots of copies of the graph when you only care about the most\n",
        "  # recent. Also, as there is some randomness built into training with SGD,\n",
        "  # setting a random seed ensures that results are the same on each identical\n",
        "  # training run.\n",
        "  tf.keras.backend.clear_session()\n",
        "  tf.random.set_seed(0)\n",
        "\n",
        "  # Build a model using keras.Sequential. While this is intended for neural\n",
        "  # networks (which may have multiple layers), we want just a single layer for\n",
        "  # linear regression.\n",
        "  model = tf.keras.Sequential()\n",
        "  model.add(tf.keras.layers.Dense(\n",
        "      units=1,                                 # output dim\n",
        "      input_shape=[num_features],              # input dim\n",
        "      use_bias=True,                           # use a bias (intercept) param\n",
        "      kernel_initializer=tf.ones_initializer,  # initialize params to 1\n",
        "      bias_initializer=tf.ones_initializer,    # initialize bias to 1\n",
        "  ))\n",
        "\n",
        "  # We need to choose an optimizer. We'll use GD, which is actually mini-batch GD\n",
        "  optimizer = tf.keras.optimizers.SGD(learning_rate=learning_rate)\n",
        "\n",
        "  # Finally, compile the model. This finalizes the graph for training.\n",
        "  # We specify the loss and the optimizer above\n",
        "  model.compile(\n",
        "        optimizer=optimizer,\n",
        "        loss='mse',\n",
        "    )\n",
        "\n",
        "  return model"
      ]
    },
    {
      "cell_type": "code",
      "execution_count": 13,
      "metadata": {
        "colab": {
          "base_uri": "https://localhost:8080/",
          "height": 659
        },
        "id": "fsgjI_wcwNZm",
        "outputId": "ee435d01-3766-447c-fb70-af82648a76cf"
      },
      "outputs": [
        {
          "output_type": "stream",
          "name": "stdout",
          "text": [
            "Epoch 1/5\n",
            "4/4 [==============================] - 1s 98ms/step - loss: 6.0653 - val_loss: 4.8144\n",
            "Epoch 2/5\n",
            "4/4 [==============================] - 0s 22ms/step - loss: 6.0475 - val_loss: 4.8036\n",
            "Epoch 3/5\n",
            "4/4 [==============================] - 0s 22ms/step - loss: 6.0303 - val_loss: 4.7926\n",
            "Epoch 4/5\n",
            "4/4 [==============================] - 0s 24ms/step - loss: 6.0127 - val_loss: 4.7817\n",
            "Epoch 5/5\n",
            "4/4 [==============================] - 0s 24ms/step - loss: 5.9956 - val_loss: 4.7710\n"
          ]
        },
        {
          "output_type": "display_data",
          "data": {
            "text/plain": [
              "<Figure size 640x480 with 1 Axes>"
            ],
            "image/png": "[encoded data removed]"
          },
          "metadata": {}
        }
      ],
      "source": [
        "tf.random.set_seed(0)\n",
        "# 2. Build and compile model\n",
        "num_features = X_train_std.shape[1]\n",
        "model_tf = build_model(num_features=num_features, learning_rate=0.0001)\n",
        "\n",
        "# 3. Fit the model\n",
        "model_tf_fit = model_tf.fit(x=X_train_std,\n",
        "                            y=Y_train_std,\n",
        "                            epochs=5,\n",
        "                            validation_data=(X_val_std, Y_val_std))\n",
        "\n",
        "# Store the loss values as a list and create a corresponding epoch range for plotting:\n",
        "model_tf_loss = model_tf_fit.history['loss']\n",
        "model_tf_epochs = np.arange(1, len(model_tf_loss) + 1)\n",
        "\n",
        "model_tf_val_loss = model_tf_fit.history['val_loss']\n",
        "\n",
        "# Plotting the results:\n",
        "plt.plot(model_tf_epochs, model_tf_loss)\n",
        "plt.plot(model_tf_epochs, model_tf_val_loss)\n",
        "\n",
        "# Setting labels/title:\n",
        "plt.xlabel('Epoch Number')\n",
        "plt.ylabel('Loss')\n",
        "plt.title('Loss per Epoch');"
      ]
    },
    {
      "cell_type": "markdown",
      "metadata": {
        "id": "PDae1WBIwNZn"
      },
      "source": [
        "---\n",
        "### Step 5: Hyperparameter tuning"
      ]
    },
    {
      "cell_type": "markdown",
      "metadata": {
        "id": "7r-JU2fHwNZn"
      },
      "source": [
        "Hyperparameter tuning is a crucial step in optimizing ML models. It involves systematically adjusting hyperparameters such as learning rate, number of epochs, and optimizer to find the model configuration that leads to the best generalization performance.\n",
        "\n",
        "This tuning process is typically conducted by monitoring the model's performance on the validation vs. training set. It's important to note that using the test set for hyperparameter tuning can compromise the integrity of the evaluation process by violating the assumption of \"blindness\" of the test data."
      ]
    },
    {
      "cell_type": "markdown",
      "metadata": {
        "id": "-K5BW7eSwNZn"
      },
      "source": [
        "### <span style=\"color:chocolate\">Exercise 11:</span> Hyperparameter tuning (10 points)"
      ]
    },
    {
      "cell_type": "markdown",
      "metadata": {
        "id": "y3cvtVuMwNZn"
      },
      "source": [
        "1. Fine-tune the hyperparameters of *model_tf* to determine the setup that yields the most optimal generalization performance. Feel free to explore various values for the hyperparameters. Hint: ask your instructors and TAs for help if in doubt.\n",
        "\n",
        "After identifying your preferred model configuration, print the following information:\n",
        "\n",
        "2. The learned parameters of the model (this should include the bias term). Hint: use  <span style=\"color:chocolate\">model_tf.layers[0].get_weights()</span>.\n",
        "3. The loss at the final epoch on both the training and validation datasets;\n",
        "4. The percentage difference between the losses observed on the training and validation datasets.\n",
        "\n",
        "\n",
        "Please note that we will consider 'optimal model configuration' any last-epoch loss that is below 0.35."
      ]
    },
    {
      "cell_type": "code",
      "execution_count": 14,
      "metadata": {
        "colab": {
          "base_uri": "https://localhost:8080/",
          "height": 1000
        },
        "id": "ZJavfq8cwNZn",
        "outputId": "a38b7474-0102-43d6-95ff-4a2db510fb93"
      },
      "outputs": [
        {
          "output_type": "stream",
          "name": "stdout",
          "text": [
            "Epoch 1/5\n",
            "4/4 [==============================] - 1s 81ms/step - loss: 6.0653 - val_loss: 4.8144\n",
            "Epoch 2/5\n",
            "4/4 [==============================] - 0s 21ms/step - loss: 6.0475 - val_loss: 4.8036\n",
            "Epoch 3/5\n",
            "4/4 [==============================] - 0s 30ms/step - loss: 6.0303 - val_loss: 4.7926\n",
            "Epoch 4/5\n",
            "4/4 [==============================] - 0s 22ms/step - loss: 6.0127 - val_loss: 4.7817\n",
            "Epoch 5/5\n",
            "4/4 [==============================] - 0s 23ms/step - loss: 5.9956 - val_loss: 4.7710\n",
            "Epoch 1/10\n",
            "4/4 [==============================] - 1s 87ms/step - loss: 6.0653 - val_loss: 4.8144\n",
            "Epoch 2/10\n",
            "4/4 [==============================] - 0s 24ms/step - loss: 6.0475 - val_loss: 4.8036\n",
            "Epoch 3/10\n",
            "4/4 [==============================] - 0s 14ms/step - loss: 6.0303 - val_loss: 4.7926\n",
            "Epoch 4/10\n",
            "4/4 [==============================] - 0s 12ms/step - loss: 6.0127 - val_loss: 4.7817\n",
            "Epoch 5/10\n",
            "4/4 [==============================] - 0s 12ms/step - loss: 5.9956 - val_loss: 4.7710\n",
            "Epoch 6/10\n",
            "4/4 [==============================] - 0s 17ms/step - loss: 5.9786 - val_loss: 4.7603\n",
            "Epoch 7/10\n",
            "4/4 [==============================] - 0s 17ms/step - loss: 5.9616 - val_loss: 4.7498\n",
            "Epoch 8/10\n",
            "4/4 [==============================] - 0s 17ms/step - loss: 5.9449 - val_loss: 4.7394\n",
            "Epoch 9/10\n",
            "4/4 [==============================] - 0s 12ms/step - loss: 5.9283 - val_loss: 4.7288\n",
            "Epoch 10/10\n",
            "4/4 [==============================] - 0s 18ms/step - loss: 5.9114 - val_loss: 4.7180\n",
            "Epoch 1/20\n",
            "4/4 [==============================] - 0s 62ms/step - loss: 6.0653 - val_loss: 4.8144\n",
            "Epoch 2/20\n",
            "4/4 [==============================] - 0s 13ms/step - loss: 6.0475 - val_loss: 4.8036\n",
            "Epoch 3/20\n",
            "4/4 [==============================] - 0s 16ms/step - loss: 6.0303 - val_loss: 4.7926\n",
            "Epoch 4/20\n",
            "4/4 [==============================] - 0s 13ms/step - loss: 6.0127 - val_loss: 4.7817\n",
            "Epoch 5/20\n",
            "4/4 [==============================] - 0s 17ms/step - loss: 5.9956 - val_loss: 4.7710\n",
            "Epoch 6/20\n",
            "4/4 [==============================] - 0s 11ms/step - loss: 5.9786 - val_loss: 4.7603\n",
            "Epoch 7/20\n",
            "4/4 [==============================] - 0s 17ms/step - loss: 5.9616 - val_loss: 4.7498\n",
            "Epoch 8/20\n",
            "4/4 [==============================] - 0s 14ms/step - loss: 5.9449 - val_loss: 4.7394\n",
            "Epoch 9/20\n",
            "4/4 [==============================] - 0s 12ms/step - loss: 5.9283 - val_loss: 4.7288\n",
            "Epoch 10/20\n",
            "4/4 [==============================] - 0s 12ms/step - loss: 5.9114 - val_loss: 4.7180\n",
            "Epoch 11/20\n",
            "4/4 [==============================] - 0s 13ms/step - loss: 5.8944 - val_loss: 4.7074\n",
            "Epoch 12/20\n",
            "4/4 [==============================] - 0s 12ms/step - loss: 5.8776 - val_loss: 4.6965\n",
            "Epoch 13/20\n",
            "4/4 [==============================] - 0s 13ms/step - loss: 5.8604 - val_loss: 4.6860\n",
            "Epoch 14/20\n",
            "4/4 [==============================] - 0s 13ms/step - loss: 5.8442 - val_loss: 4.6759\n",
            "Epoch 15/20\n",
            "4/4 [==============================] - 0s 15ms/step - loss: 5.8278 - val_loss: 4.6655\n",
            "Epoch 16/20\n",
            "4/4 [==============================] - 0s 13ms/step - loss: 5.8112 - val_loss: 4.6552\n",
            "Epoch 17/20\n",
            "4/4 [==============================] - 0s 17ms/step - loss: 5.7950 - val_loss: 4.6449\n",
            "Epoch 18/20\n",
            "4/4 [==============================] - 0s 14ms/step - loss: 5.7786 - val_loss: 4.6345\n",
            "Epoch 19/20\n",
            "4/4 [==============================] - 0s 12ms/step - loss: 5.7620 - val_loss: 4.6241\n",
            "Epoch 20/20\n",
            "4/4 [==============================] - 0s 17ms/step - loss: 5.7459 - val_loss: 4.6143\n",
            "Epoch 1/40\n",
            "4/4 [==============================] - 0s 57ms/step - loss: 6.0653 - val_loss: 4.8144\n",
            "Epoch 2/40\n",
            "4/4 [==============================] - 0s 12ms/step - loss: 6.0475 - val_loss: 4.8036\n",
            "Epoch 3/40\n",
            "4/4 [==============================] - 0s 12ms/step - loss: 6.0303 - val_loss: 4.7926\n",
            "Epoch 4/40\n",
            "4/4 [==============================] - 0s 11ms/step - loss: 6.0127 - val_loss: 4.7817\n",
            "Epoch 5/40\n",
            "4/4 [==============================] - 0s 13ms/step - loss: 5.9956 - val_loss: 4.7710\n",
            "Epoch 6/40\n",
            "4/4 [==============================] - 0s 12ms/step - loss: 5.9786 - val_loss: 4.7603\n",
            "Epoch 7/40\n",
            "4/4 [==============================] - 0s 18ms/step - loss: 5.9616 - val_loss: 4.7498\n",
            "Epoch 8/40\n",
            "4/4 [==============================] - 0s 13ms/step - loss: 5.9449 - val_loss: 4.7394\n",
            "Epoch 9/40\n",
            "4/4 [==============================] - 0s 12ms/step - loss: 5.9283 - val_loss: 4.7288\n",
            "Epoch 10/40\n",
            "4/4 [==============================] - 0s 14ms/step - loss: 5.9114 - val_loss: 4.7180\n",
            "Epoch 11/40\n",
            "4/4 [==============================] - 0s 12ms/step - loss: 5.8944 - val_loss: 4.7074\n",
            "Epoch 12/40\n",
            "4/4 [==============================] - 0s 15ms/step - loss: 5.8776 - val_loss: 4.6965\n",
            "Epoch 13/40\n",
            "4/4 [==============================] - 0s 17ms/step - loss: 5.8604 - val_loss: 4.6860\n",
            "Epoch 14/40\n",
            "4/4 [==============================] - 0s 12ms/step - loss: 5.8442 - val_loss: 4.6759\n",
            "Epoch 15/40\n",
            "4/4 [==============================] - 0s 11ms/step - loss: 5.8278 - val_loss: 4.6655\n",
            "Epoch 16/40\n",
            "4/4 [==============================] - 0s 17ms/step - loss: 5.8112 - val_loss: 4.6552\n",
            "Epoch 17/40\n",
            "4/4 [==============================] - 0s 18ms/step - loss: 5.7950 - val_loss: 4.6449\n",
            "Epoch 18/40\n",
            "4/4 [==============================] - 0s 18ms/step - loss: 5.7786 - val_loss: 4.6345\n",
            "Epoch 19/40\n",
            "4/4 [==============================] - 0s 18ms/step - loss: 5.7620 - val_loss: 4.6241\n",
            "Epoch 20/40\n",
            "4/4 [==============================] - 0s 12ms/step - loss: 5.7459 - val_loss: 4.6143\n",
            "Epoch 21/40\n",
            "4/4 [==============================] - 0s 12ms/step - loss: 5.7302 - val_loss: 4.6042\n",
            "Epoch 22/40\n",
            "4/4 [==============================] - 0s 18ms/step - loss: 5.7139 - val_loss: 4.5942\n",
            "Epoch 23/40\n",
            "4/4 [==============================] - 0s 17ms/step - loss: 5.6982 - val_loss: 4.5841\n",
            "Epoch 24/40\n",
            "4/4 [==============================] - 0s 12ms/step - loss: 5.6822 - val_loss: 4.5742\n",
            "Epoch 25/40\n",
            "4/4 [==============================] - 0s 11ms/step - loss: 5.6666 - val_loss: 4.5640\n",
            "Epoch 26/40\n",
            "4/4 [==============================] - 0s 18ms/step - loss: 5.6502 - val_loss: 4.5541\n",
            "Epoch 27/40\n",
            "4/4 [==============================] - 0s 14ms/step - loss: 5.6345 - val_loss: 4.5439\n",
            "Epoch 28/40\n",
            "4/4 [==============================] - 0s 12ms/step - loss: 5.6185 - val_loss: 4.5342\n",
            "Epoch 29/40\n",
            "4/4 [==============================] - 0s 17ms/step - loss: 5.6028 - val_loss: 4.5244\n",
            "Epoch 30/40\n",
            "4/4 [==============================] - 0s 19ms/step - loss: 5.5869 - val_loss: 4.5146\n",
            "Epoch 31/40\n",
            "4/4 [==============================] - 0s 12ms/step - loss: 5.5714 - val_loss: 4.5050\n",
            "Epoch 32/40\n",
            "4/4 [==============================] - 0s 12ms/step - loss: 5.5559 - val_loss: 4.4951\n",
            "Epoch 33/40\n",
            "4/4 [==============================] - 0s 18ms/step - loss: 5.5406 - val_loss: 4.4857\n",
            "Epoch 34/40\n",
            "4/4 [==============================] - 0s 17ms/step - loss: 5.5254 - val_loss: 4.4761\n",
            "Epoch 35/40\n",
            "4/4 [==============================] - 0s 13ms/step - loss: 5.5102 - val_loss: 4.4664\n",
            "Epoch 36/40\n",
            "4/4 [==============================] - 0s 18ms/step - loss: 5.4948 - val_loss: 4.4569\n",
            "Epoch 37/40\n",
            "4/4 [==============================] - 0s 18ms/step - loss: 5.4796 - val_loss: 4.4475\n",
            "Epoch 38/40\n",
            "4/4 [==============================] - 0s 15ms/step - loss: 5.4645 - val_loss: 4.4379\n",
            "Epoch 39/40\n",
            "4/4 [==============================] - 0s 17ms/step - loss: 5.4494 - val_loss: 4.4284\n",
            "Epoch 40/40\n",
            "4/4 [==============================] - 0s 12ms/step - loss: 5.4341 - val_loss: 4.4190\n",
            "Epoch 1/5\n",
            "4/4 [==============================] - 0s 60ms/step - loss: 5.5239 - val_loss: 3.8713\n",
            "Epoch 2/5\n",
            "4/4 [==============================] - 0s 20ms/step - loss: 4.1828 - val_loss: 3.2423\n",
            "Epoch 3/5\n",
            "4/4 [==============================] - 0s 13ms/step - loss: 3.2757 - val_loss: 2.7715\n",
            "Epoch 4/5\n",
            "4/4 [==============================] - 0s 12ms/step - loss: 2.6069 - val_loss: 2.4317\n",
            "Epoch 5/5\n",
            "4/4 [==============================] - 0s 14ms/step - loss: 2.1395 - val_loss: 2.1654\n",
            "Epoch 1/10\n",
            "4/4 [==============================] - 0s 56ms/step - loss: 5.5239 - val_loss: 3.8713\n",
            "Epoch 2/10\n",
            "4/4 [==============================] - 0s 18ms/step - loss: 4.1828 - val_loss: 3.2423\n",
            "Epoch 3/10\n",
            "4/4 [==============================] - 0s 14ms/step - loss: 3.2757 - val_loss: 2.7715\n",
            "Epoch 4/10\n",
            "4/4 [==============================] - 0s 12ms/step - loss: 2.6069 - val_loss: 2.4317\n",
            "Epoch 5/10\n",
            "4/4 [==============================] - 0s 18ms/step - loss: 2.1395 - val_loss: 2.1654\n",
            "Epoch 6/10\n",
            "4/4 [==============================] - 0s 18ms/step - loss: 1.7917 - val_loss: 1.9520\n",
            "Epoch 7/10\n",
            "4/4 [==============================] - 0s 12ms/step - loss: 1.5328 - val_loss: 1.7773\n",
            "Epoch 8/10\n",
            "4/4 [==============================] - 0s 19ms/step - loss: 1.3290 - val_loss: 1.6248\n",
            "Epoch 9/10\n",
            "4/4 [==============================] - 0s 12ms/step - loss: 1.1653 - val_loss: 1.4972\n",
            "Epoch 10/10\n",
            "4/4 [==============================] - 0s 18ms/step - loss: 1.0324 - val_loss: 1.3781\n",
            "Epoch 1/20\n",
            "4/4 [==============================] - 0s 65ms/step - loss: 5.5239 - val_loss: 3.8713\n",
            "Epoch 2/20\n",
            "4/4 [==============================] - 0s 12ms/step - loss: 4.1828 - val_loss: 3.2423\n",
            "Epoch 3/20\n",
            "4/4 [==============================] - 0s 18ms/step - loss: 3.2757 - val_loss: 2.7715\n",
            "Epoch 4/20\n",
            "4/4 [==============================] - 0s 18ms/step - loss: 2.6069 - val_loss: 2.4317\n",
            "Epoch 5/20\n",
            "4/4 [==============================] - 0s 13ms/step - loss: 2.1395 - val_loss: 2.1654\n",
            "Epoch 6/20\n",
            "4/4 [==============================] - 0s 13ms/step - loss: 1.7917 - val_loss: 1.9520\n",
            "Epoch 7/20\n",
            "4/4 [==============================] - 0s 13ms/step - loss: 1.5328 - val_loss: 1.7773\n",
            "Epoch 8/20\n",
            "4/4 [==============================] - 0s 15ms/step - loss: 1.3290 - val_loss: 1.6248\n",
            "Epoch 9/20\n",
            "4/4 [==============================] - 0s 17ms/step - loss: 1.1653 - val_loss: 1.4972\n",
            "Epoch 10/20\n",
            "4/4 [==============================] - 0s 12ms/step - loss: 1.0324 - val_loss: 1.3781\n",
            "Epoch 11/20\n",
            "4/4 [==============================] - 0s 18ms/step - loss: 0.9212 - val_loss: 1.2796\n",
            "Epoch 12/20\n",
            "4/4 [==============================] - 0s 12ms/step - loss: 0.8332 - val_loss: 1.1903\n",
            "Epoch 13/20\n",
            "4/4 [==============================] - 0s 19ms/step - loss: 0.7555 - val_loss: 1.1152\n",
            "Epoch 14/20\n",
            "4/4 [==============================] - 0s 20ms/step - loss: 0.6988 - val_loss: 1.0478\n",
            "Epoch 15/20\n",
            "4/4 [==============================] - 0s 14ms/step - loss: 0.6478 - val_loss: 0.9885\n",
            "Epoch 16/20\n",
            "4/4 [==============================] - 0s 18ms/step - loss: 0.6055 - val_loss: 0.9311\n",
            "Epoch 17/20\n",
            "4/4 [==============================] - 0s 12ms/step - loss: 0.5674 - val_loss: 0.8834\n",
            "Epoch 18/20\n",
            "4/4 [==============================] - 0s 19ms/step - loss: 0.5389 - val_loss: 0.8474\n",
            "Epoch 19/20\n",
            "4/4 [==============================] - 0s 15ms/step - loss: 0.5082 - val_loss: 0.8088\n",
            "Epoch 20/20\n",
            "4/4 [==============================] - 0s 17ms/step - loss: 0.4861 - val_loss: 0.7759\n",
            "Epoch 1/40\n",
            "4/4 [==============================] - 1s 93ms/step - loss: 5.5239 - val_loss: 3.8713\n",
            "Epoch 2/40\n",
            "4/4 [==============================] - 0s 32ms/step - loss: 4.1828 - val_loss: 3.2423\n",
            "Epoch 3/40\n",
            "4/4 [==============================] - 0s 22ms/step - loss: 3.2757 - val_loss: 2.7715\n",
            "Epoch 4/40\n",
            "4/4 [==============================] - 0s 19ms/step - loss: 2.6069 - val_loss: 2.4317\n",
            "Epoch 5/40\n",
            "4/4 [==============================] - 0s 20ms/step - loss: 2.1395 - val_loss: 2.1654\n",
            "Epoch 6/40\n",
            "4/4 [==============================] - 0s 18ms/step - loss: 1.7917 - val_loss: 1.9520\n",
            "Epoch 7/40\n",
            "4/4 [==============================] - 0s 24ms/step - loss: 1.5328 - val_loss: 1.7773\n",
            "Epoch 8/40\n",
            "4/4 [==============================] - 0s 18ms/step - loss: 1.3290 - val_loss: 1.6248\n",
            "Epoch 9/40\n",
            "4/4 [==============================] - 0s 18ms/step - loss: 1.1653 - val_loss: 1.4972\n",
            "Epoch 10/40\n",
            "4/4 [==============================] - 0s 12ms/step - loss: 1.0324 - val_loss: 1.3781\n",
            "Epoch 11/40\n",
            "4/4 [==============================] - 0s 18ms/step - loss: 0.9212 - val_loss: 1.2796\n",
            "Epoch 12/40\n",
            "4/4 [==============================] - 0s 12ms/step - loss: 0.8332 - val_loss: 1.1903\n",
            "Epoch 13/40\n",
            "4/4 [==============================] - 0s 18ms/step - loss: 0.7555 - val_loss: 1.1152\n",
            "Epoch 14/40\n",
            "4/4 [==============================] - 0s 19ms/step - loss: 0.6988 - val_loss: 1.0478\n",
            "Epoch 15/40\n",
            "4/4 [==============================] - 0s 22ms/step - loss: 0.6478 - val_loss: 0.9885\n",
            "Epoch 16/40\n",
            "4/4 [==============================] - 0s 13ms/step - loss: 0.6055 - val_loss: 0.9311\n",
            "Epoch 17/40\n",
            "4/4 [==============================] - 0s 15ms/step - loss: 0.5674 - val_loss: 0.8834\n",
            "Epoch 18/40\n",
            "4/4 [==============================] - 0s 20ms/step - loss: 0.5389 - val_loss: 0.8474\n",
            "Epoch 19/40\n",
            "4/4 [==============================] - 0s 20ms/step - loss: 0.5082 - val_loss: 0.8088\n",
            "Epoch 20/40\n",
            "4/4 [==============================] - 0s 14ms/step - loss: 0.4861 - val_loss: 0.7759\n",
            "Epoch 21/40\n",
            "4/4 [==============================] - 0s 18ms/step - loss: 0.4658 - val_loss: 0.7472\n",
            "Epoch 22/40\n",
            "4/4 [==============================] - 0s 14ms/step - loss: 0.4464 - val_loss: 0.7213\n",
            "Epoch 23/40\n",
            "4/4 [==============================] - 0s 13ms/step - loss: 0.4304 - val_loss: 0.6983\n",
            "Epoch 24/40\n",
            "4/4 [==============================] - 0s 15ms/step - loss: 0.4193 - val_loss: 0.6774\n",
            "Epoch 25/40\n",
            "4/4 [==============================] - 0s 20ms/step - loss: 0.4066 - val_loss: 0.6612\n",
            "Epoch 26/40\n",
            "4/4 [==============================] - 0s 13ms/step - loss: 0.3958 - val_loss: 0.6447\n",
            "Epoch 27/40\n",
            "4/4 [==============================] - 0s 13ms/step - loss: 0.3866 - val_loss: 0.6282\n",
            "Epoch 28/40\n",
            "4/4 [==============================] - 0s 19ms/step - loss: 0.3801 - val_loss: 0.6159\n",
            "Epoch 29/40\n",
            "4/4 [==============================] - 0s 18ms/step - loss: 0.3706 - val_loss: 0.6026\n",
            "Epoch 30/40\n",
            "4/4 [==============================] - 0s 18ms/step - loss: 0.3654 - val_loss: 0.5899\n",
            "Epoch 31/40\n",
            "4/4 [==============================] - 0s 16ms/step - loss: 0.3580 - val_loss: 0.5804\n",
            "Epoch 32/40\n",
            "4/4 [==============================] - 0s 14ms/step - loss: 0.3530 - val_loss: 0.5708\n",
            "Epoch 33/40\n",
            "4/4 [==============================] - 0s 19ms/step - loss: 0.3488 - val_loss: 0.5628\n",
            "Epoch 34/40\n",
            "4/4 [==============================] - 0s 14ms/step - loss: 0.3451 - val_loss: 0.5538\n",
            "Epoch 35/40\n",
            "4/4 [==============================] - 0s 13ms/step - loss: 0.3414 - val_loss: 0.5475\n",
            "Epoch 36/40\n",
            "4/4 [==============================] - 0s 12ms/step - loss: 0.3362 - val_loss: 0.5418\n",
            "Epoch 37/40\n",
            "4/4 [==============================] - 0s 13ms/step - loss: 0.3334 - val_loss: 0.5345\n",
            "Epoch 38/40\n",
            "4/4 [==============================] - 0s 12ms/step - loss: 0.3308 - val_loss: 0.5294\n",
            "Epoch 39/40\n",
            "4/4 [==============================] - 0s 12ms/step - loss: 0.3275 - val_loss: 0.5239\n",
            "Epoch 40/40\n",
            "4/4 [==============================] - 0s 14ms/step - loss: 0.3243 - val_loss: 0.5187\n",
            "Epoch 1/5\n",
            "4/4 [==============================] - 0s 52ms/step - loss: 2.9922 - val_loss: 1.2237\n",
            "Epoch 2/5\n",
            "4/4 [==============================] - 0s 18ms/step - loss: 0.6735 - val_loss: 0.6800\n",
            "Epoch 3/5\n",
            "4/4 [==============================] - 0s 12ms/step - loss: 0.4030 - val_loss: 0.5732\n",
            "Epoch 4/5\n",
            "4/4 [==============================] - 0s 14ms/step - loss: 0.3439 - val_loss: 0.5120\n",
            "Epoch 5/5\n",
            "4/4 [==============================] - 0s 18ms/step - loss: 0.3449 - val_loss: 0.4715\n",
            "Epoch 1/10\n",
            "4/4 [==============================] - 0s 59ms/step - loss: 2.9922 - val_loss: 1.2237\n",
            "Epoch 2/10\n",
            "4/4 [==============================] - 0s 19ms/step - loss: 0.6735 - val_loss: 0.6800\n",
            "Epoch 3/10\n",
            "4/4 [==============================] - 0s 19ms/step - loss: 0.4030 - val_loss: 0.5732\n",
            "Epoch 4/10\n",
            "4/4 [==============================] - 0s 13ms/step - loss: 0.3439 - val_loss: 0.5120\n",
            "Epoch 5/10\n",
            "4/4 [==============================] - 0s 12ms/step - loss: 0.3449 - val_loss: 0.4715\n",
            "Epoch 6/10\n",
            "4/4 [==============================] - 0s 13ms/step - loss: 0.3169 - val_loss: 0.4524\n",
            "Epoch 7/10\n",
            "4/4 [==============================] - 0s 12ms/step - loss: 0.3094 - val_loss: 0.4378\n",
            "Epoch 8/10\n",
            "4/4 [==============================] - 0s 14ms/step - loss: 0.2928 - val_loss: 0.4232\n",
            "Epoch 9/10\n",
            "4/4 [==============================] - 0s 12ms/step - loss: 0.2822 - val_loss: 0.4099\n",
            "Epoch 10/10\n",
            "4/4 [==============================] - 0s 12ms/step - loss: 0.2780 - val_loss: 0.4067\n",
            "Epoch 1/20\n",
            "4/4 [==============================] - 1s 87ms/step - loss: 2.9922 - val_loss: 1.2237\n",
            "Epoch 2/20\n",
            "4/4 [==============================] - 0s 17ms/step - loss: 0.6735 - val_loss: 0.6800\n",
            "Epoch 3/20\n",
            "4/4 [==============================] - 0s 13ms/step - loss: 0.4030 - val_loss: 0.5732\n",
            "Epoch 4/20\n",
            "4/4 [==============================] - 0s 19ms/step - loss: 0.3439 - val_loss: 0.5120\n",
            "Epoch 5/20\n",
            "4/4 [==============================] - 0s 12ms/step - loss: 0.3449 - val_loss: 0.4715\n",
            "Epoch 6/20\n",
            "4/4 [==============================] - 0s 20ms/step - loss: 0.3169 - val_loss: 0.4524\n",
            "Epoch 7/20\n",
            "4/4 [==============================] - 0s 14ms/step - loss: 0.3094 - val_loss: 0.4378\n",
            "Epoch 8/20\n",
            "4/4 [==============================] - 0s 12ms/step - loss: 0.2928 - val_loss: 0.4232\n",
            "Epoch 9/20\n",
            "4/4 [==============================] - 0s 18ms/step - loss: 0.2822 - val_loss: 0.4099\n",
            "Epoch 10/20\n",
            "4/4 [==============================] - 0s 17ms/step - loss: 0.2780 - val_loss: 0.4067\n",
            "Epoch 11/20\n",
            "4/4 [==============================] - 0s 18ms/step - loss: 0.2905 - val_loss: 0.4091\n",
            "Epoch 12/20\n",
            "4/4 [==============================] - 0s 13ms/step - loss: 0.2936 - val_loss: 0.3952\n",
            "Epoch 13/20\n",
            "4/4 [==============================] - 0s 18ms/step - loss: 0.2825 - val_loss: 0.3946\n",
            "Epoch 14/20\n",
            "4/4 [==============================] - 0s 19ms/step - loss: 0.2733 - val_loss: 0.3929\n",
            "Epoch 15/20\n",
            "4/4 [==============================] - 0s 14ms/step - loss: 0.2781 - val_loss: 0.3900\n",
            "Epoch 16/20\n",
            "4/4 [==============================] - 0s 13ms/step - loss: 0.3038 - val_loss: 0.4020\n",
            "Epoch 17/20\n",
            "4/4 [==============================] - 0s 14ms/step - loss: 0.2812 - val_loss: 0.3896\n",
            "Epoch 18/20\n",
            "4/4 [==============================] - 0s 13ms/step - loss: 0.2723 - val_loss: 0.3886\n",
            "Epoch 19/20\n",
            "4/4 [==============================] - 0s 18ms/step - loss: 0.2711 - val_loss: 0.3851\n",
            "Epoch 20/20\n",
            "4/4 [==============================] - 0s 22ms/step - loss: 0.2954 - val_loss: 0.3861\n",
            "Epoch 1/40\n",
            "4/4 [==============================] - 0s 60ms/step - loss: 2.9922 - val_loss: 1.2237\n",
            "Epoch 2/40\n",
            "4/4 [==============================] - 0s 18ms/step - loss: 0.6735 - val_loss: 0.6800\n",
            "Epoch 3/40\n",
            "4/4 [==============================] - 0s 13ms/step - loss: 0.4030 - val_loss: 0.5732\n",
            "Epoch 4/40\n",
            "4/4 [==============================] - 0s 19ms/step - loss: 0.3439 - val_loss: 0.5120\n",
            "Epoch 5/40\n",
            "4/4 [==============================] - 0s 18ms/step - loss: 0.3449 - val_loss: 0.4715\n",
            "Epoch 6/40\n",
            "4/4 [==============================] - 0s 12ms/step - loss: 0.3169 - val_loss: 0.4524\n",
            "Epoch 7/40\n",
            "4/4 [==============================] - 0s 20ms/step - loss: 0.3094 - val_loss: 0.4378\n",
            "Epoch 8/40\n",
            "4/4 [==============================] - 0s 19ms/step - loss: 0.2928 - val_loss: 0.4232\n",
            "Epoch 9/40\n",
            "4/4 [==============================] - 0s 19ms/step - loss: 0.2822 - val_loss: 0.4099\n",
            "Epoch 10/40\n",
            "4/4 [==============================] - 0s 12ms/step - loss: 0.2780 - val_loss: 0.4067\n",
            "Epoch 11/40\n",
            "4/4 [==============================] - 0s 14ms/step - loss: 0.2905 - val_loss: 0.4091\n",
            "Epoch 12/40\n",
            "4/4 [==============================] - 0s 18ms/step - loss: 0.2936 - val_loss: 0.3952\n",
            "Epoch 13/40\n",
            "4/4 [==============================] - 0s 18ms/step - loss: 0.2825 - val_loss: 0.3946\n",
            "Epoch 14/40\n",
            "4/4 [==============================] - 0s 22ms/step - loss: 0.2733 - val_loss: 0.3929\n",
            "Epoch 15/40\n",
            "4/4 [==============================] - 0s 22ms/step - loss: 0.2781 - val_loss: 0.3900\n",
            "Epoch 16/40\n",
            "4/4 [==============================] - 0s 23ms/step - loss: 0.3038 - val_loss: 0.4020\n",
            "Epoch 17/40\n",
            "4/4 [==============================] - 0s 18ms/step - loss: 0.2812 - val_loss: 0.3896\n",
            "Epoch 18/40\n",
            "4/4 [==============================] - 0s 22ms/step - loss: 0.2723 - val_loss: 0.3886\n",
            "Epoch 19/40\n",
            "4/4 [==============================] - 0s 21ms/step - loss: 0.2711 - val_loss: 0.3851\n",
            "Epoch 20/40\n",
            "4/4 [==============================] - 0s 22ms/step - loss: 0.2954 - val_loss: 0.3861\n",
            "Epoch 21/40\n",
            "4/4 [==============================] - 0s 24ms/step - loss: 0.2884 - val_loss: 0.3809\n",
            "Epoch 22/40\n",
            "4/4 [==============================] - 0s 24ms/step - loss: 0.2717 - val_loss: 0.3789\n",
            "Epoch 23/40\n",
            "4/4 [==============================] - 0s 17ms/step - loss: 0.2676 - val_loss: 0.3877\n",
            "Epoch 24/40\n",
            "4/4 [==============================] - 0s 22ms/step - loss: 0.2963 - val_loss: 0.3915\n",
            "Epoch 25/40\n",
            "4/4 [==============================] - 0s 21ms/step - loss: 0.2726 - val_loss: 0.3842\n",
            "Epoch 26/40\n",
            "4/4 [==============================] - 0s 23ms/step - loss: 0.2918 - val_loss: 0.3800\n",
            "Epoch 27/40\n",
            "4/4 [==============================] - 0s 22ms/step - loss: 0.2778 - val_loss: 0.3903\n",
            "Epoch 28/40\n",
            "4/4 [==============================] - 0s 23ms/step - loss: 0.2829 - val_loss: 0.3784\n",
            "Epoch 29/40\n",
            "4/4 [==============================] - 0s 16ms/step - loss: 0.2701 - val_loss: 0.3782\n",
            "Epoch 30/40\n",
            "4/4 [==============================] - 0s 23ms/step - loss: 0.2728 - val_loss: 0.3890\n",
            "Epoch 31/40\n",
            "4/4 [==============================] - 0s 19ms/step - loss: 0.2711 - val_loss: 0.3806\n",
            "Epoch 32/40\n",
            "4/4 [==============================] - 0s 19ms/step - loss: 0.2699 - val_loss: 0.3845\n",
            "Epoch 33/40\n",
            "4/4 [==============================] - 0s 18ms/step - loss: 0.2751 - val_loss: 0.3779\n",
            "Epoch 34/40\n",
            "4/4 [==============================] - 0s 22ms/step - loss: 0.2855 - val_loss: 0.3968\n",
            "Epoch 35/40\n",
            "4/4 [==============================] - 0s 20ms/step - loss: 0.2721 - val_loss: 0.3796\n",
            "Epoch 36/40\n",
            "4/4 [==============================] - 0s 23ms/step - loss: 0.2738 - val_loss: 0.3806\n",
            "Epoch 37/40\n",
            "4/4 [==============================] - 0s 21ms/step - loss: 0.2681 - val_loss: 0.3881\n",
            "Epoch 38/40\n",
            "4/4 [==============================] - 0s 24ms/step - loss: 0.2766 - val_loss: 0.3775\n",
            "Epoch 39/40\n",
            "4/4 [==============================] - 0s 22ms/step - loss: 0.2786 - val_loss: 0.3754\n",
            "Epoch 40/40\n",
            "4/4 [==============================] - 0s 26ms/step - loss: 0.2681 - val_loss: 0.3929\n"
          ]
        },
        {
          "output_type": "display_data",
          "data": {
            "text/plain": [
              "<Figure size 640x480 with 1 Axes>"
            ],
            "image/png": "[encoded data removed]"
          },
          "metadata": {}
        }
      ],
      "source": [
        "tf.random.set_seed(0)\n",
        "# YOUR CODE HERE\n",
        "# 1)\n",
        "# To visualize how changing the learning rate and epoch number will change the\n",
        "# model, we can perform some initial testing using a range of each:\n",
        "\n",
        "learning_rates = [0.0001, 0.01, 0.1]\n",
        "epochs = [5, 10, 20, 40]\n",
        "\n",
        "for learning_rate in learning_rates:\n",
        "  for epoch in epochs:\n",
        "\n",
        "    # 2. Build and compile model\n",
        "    num_features = X_train_std.shape[1]\n",
        "    model_tf = build_model(num_features=num_features, learning_rate=learning_rate)\n",
        "\n",
        "    # 3. Fit the model\n",
        "    model_tf_fit = model_tf.fit(x=X_train_std,\n",
        "                            y=Y_train_std,\n",
        "                            epochs=epoch,\n",
        "                            validation_data=(X_val_std, Y_val_std))\n",
        "\n",
        "    # Store the loss values as a list and create a corresponding epoch range for plotting:\n",
        "    model_tf_loss = model_tf_fit.history['loss']\n",
        "    model_tf_epochs = np.arange(1, len(model_tf_loss) + 1)\n",
        "\n",
        "  plt.plot(model_tf_epochs, model_tf_loss, label=f'LR: {learning_rate}, Epochs: {epoch}')\n",
        "\n",
        "    # Add labels and title\n",
        "  plt.xlabel('Epoch')\n",
        "  plt.ylabel('Loss')\n",
        "  plt.title('Training Loss for Different Learning Rates and Epochs')\n",
        "  plt.legend();"
      ]
    },
    {
      "cell_type": "code",
      "source": [
        "# From the visualization above, we can see that both increasing the learning rate\n",
        "# and epoch number improves out model by minimizing loss. We will choose a learning\n",
        "# rate of 0.01 and epoch number of 40, as the learning rate of 0.1 appears to\n",
        "# fluctuate after it bottoms out.\n",
        "\n",
        "# 2)\n",
        "# Build and compile chosen model:\n",
        "\n",
        "learning_rate = 0.01\n",
        "num_features = X_train_std.shape[1]\n",
        "model_tf = build_model(num_features=num_features, learning_rate=learning_rate)\n",
        "\n",
        "# Fit the chosen model:\n",
        "model_tf_fit = model_tf.fit(x=X_train_std,\n",
        "                            y=Y_train_std,\n",
        "                            epochs=40,\n",
        "                            validation_data=(X_val_std, Y_val_std))\n",
        "\n",
        "# Print the learned parameters of the model (this should include the bias term):\n",
        "print('Learned parameters:\\n', model_tf.layers[0].get_weights())\n",
        "\n",
        "# 3)\n",
        "# Print the loss at the final epoch on both the training and validation datasets:\n",
        "model_tf_loss = model_tf_fit.history['loss'][-1]\n",
        "model_tf_val_loss = model_tf_fit.history['val_loss'][-1]\n",
        "\n",
        "print('The training loss at the final epoch: ', model_tf_loss)\n",
        "print('The validation loss at the final epoch: ', model_tf_val_loss)\n",
        "\n",
        "# 4)\n",
        "# Print the percentage difference between the losses observed on the training and validation datasets:\n",
        "diff = ((model_tf_val_loss - model_tf_loss) / model_tf_loss)*100\n",
        "print('% Difference = ', diff)"
      ],
      "metadata": {
        "colab": {
          "base_uri": "https://localhost:8080/"
        },
        "id": "A5e4uQ-2KHgx",
        "outputId": "28983e2f-bbb9-4354-9f79-1bb4cda08e8d"
      },
      "execution_count": 15,
      "outputs": [
        {
          "output_type": "stream",
          "name": "stdout",
          "text": [
            "Epoch 1/40\n",
            "4/4 [==============================] - 1s 93ms/step - loss: 5.5239 - val_loss: 3.8713\n",
            "Epoch 2/40\n",
            "4/4 [==============================] - 0s 23ms/step - loss: 4.1828 - val_loss: 3.2423\n",
            "Epoch 3/40\n",
            "4/4 [==============================] - 0s 25ms/step - loss: 3.2757 - val_loss: 2.7715\n",
            "Epoch 4/40\n",
            "4/4 [==============================] - 0s 25ms/step - loss: 2.6069 - val_loss: 2.4317\n",
            "Epoch 5/40\n",
            "4/4 [==============================] - 0s 22ms/step - loss: 2.1395 - val_loss: 2.1654\n",
            "Epoch 6/40\n",
            "4/4 [==============================] - 0s 18ms/step - loss: 1.7917 - val_loss: 1.9520\n",
            "Epoch 7/40\n",
            "4/4 [==============================] - 0s 12ms/step - loss: 1.5328 - val_loss: 1.7773\n",
            "Epoch 8/40\n",
            "4/4 [==============================] - 0s 15ms/step - loss: 1.3290 - val_loss: 1.6248\n",
            "Epoch 9/40\n",
            "4/4 [==============================] - 0s 12ms/step - loss: 1.1653 - val_loss: 1.4972\n",
            "Epoch 10/40\n",
            "4/4 [==============================] - 0s 18ms/step - loss: 1.0324 - val_loss: 1.3781\n",
            "Epoch 11/40\n",
            "4/4 [==============================] - 0s 12ms/step - loss: 0.9212 - val_loss: 1.2796\n",
            "Epoch 12/40\n",
            "4/4 [==============================] - 0s 12ms/step - loss: 0.8332 - val_loss: 1.1903\n",
            "Epoch 13/40\n",
            "4/4 [==============================] - 0s 17ms/step - loss: 0.7555 - val_loss: 1.1152\n",
            "Epoch 14/40\n",
            "4/4 [==============================] - 0s 12ms/step - loss: 0.6988 - val_loss: 1.0478\n",
            "Epoch 15/40\n",
            "4/4 [==============================] - 0s 19ms/step - loss: 0.6478 - val_loss: 0.9885\n",
            "Epoch 16/40\n",
            "4/4 [==============================] - 0s 12ms/step - loss: 0.6055 - val_loss: 0.9311\n",
            "Epoch 17/40\n",
            "4/4 [==============================] - 0s 18ms/step - loss: 0.5674 - val_loss: 0.8834\n",
            "Epoch 18/40\n",
            "4/4 [==============================] - 0s 13ms/step - loss: 0.5389 - val_loss: 0.8474\n",
            "Epoch 19/40\n",
            "4/4 [==============================] - 0s 17ms/step - loss: 0.5082 - val_loss: 0.8088\n",
            "Epoch 20/40\n",
            "4/4 [==============================] - 0s 19ms/step - loss: 0.4861 - val_loss: 0.7759\n",
            "Epoch 21/40\n",
            "4/4 [==============================] - 0s 12ms/step - loss: 0.4658 - val_loss: 0.7472\n",
            "Epoch 22/40\n",
            "4/4 [==============================] - 0s 20ms/step - loss: 0.4464 - val_loss: 0.7213\n",
            "Epoch 23/40\n",
            "4/4 [==============================] - 0s 13ms/step - loss: 0.4304 - val_loss: 0.6983\n",
            "Epoch 24/40\n",
            "4/4 [==============================] - 0s 20ms/step - loss: 0.4193 - val_loss: 0.6774\n",
            "Epoch 25/40\n",
            "4/4 [==============================] - 0s 13ms/step - loss: 0.4066 - val_loss: 0.6612\n",
            "Epoch 26/40\n",
            "4/4 [==============================] - 0s 20ms/step - loss: 0.3958 - val_loss: 0.6447\n",
            "Epoch 27/40\n",
            "4/4 [==============================] - 0s 12ms/step - loss: 0.3866 - val_loss: 0.6282\n",
            "Epoch 28/40\n",
            "4/4 [==============================] - 0s 18ms/step - loss: 0.3801 - val_loss: 0.6159\n",
            "Epoch 29/40\n",
            "4/4 [==============================] - 0s 12ms/step - loss: 0.3706 - val_loss: 0.6026\n",
            "Epoch 30/40\n",
            "4/4 [==============================] - 0s 12ms/step - loss: 0.3654 - val_loss: 0.5899\n",
            "Epoch 31/40\n",
            "4/4 [==============================] - 0s 13ms/step - loss: 0.3580 - val_loss: 0.5804\n",
            "Epoch 32/40\n",
            "4/4 [==============================] - 0s 17ms/step - loss: 0.3530 - val_loss: 0.5708\n",
            "Epoch 33/40\n",
            "4/4 [==============================] - 0s 11ms/step - loss: 0.3488 - val_loss: 0.5628\n",
            "Epoch 34/40\n",
            "4/4 [==============================] - 0s 12ms/step - loss: 0.3451 - val_loss: 0.5538\n",
            "Epoch 35/40\n",
            "4/4 [==============================] - 0s 17ms/step - loss: 0.3414 - val_loss: 0.5475\n",
            "Epoch 36/40\n",
            "4/4 [==============================] - 0s 12ms/step - loss: 0.3362 - val_loss: 0.5418\n",
            "Epoch 37/40\n",
            "4/4 [==============================] - 0s 18ms/step - loss: 0.3334 - val_loss: 0.5345\n",
            "Epoch 38/40\n",
            "4/4 [==============================] - 0s 14ms/step - loss: 0.3308 - val_loss: 0.5294\n",
            "Epoch 39/40\n",
            "4/4 [==============================] - 0s 18ms/step - loss: 0.3275 - val_loss: 0.5239\n",
            "Epoch 40/40\n",
            "4/4 [==============================] - 0s 14ms/step - loss: 0.3243 - val_loss: 0.5187\n",
            "Learned parameters:\n",
            " [array([[ 1.179591  ],\n",
            "       [-0.14072278],\n",
            "       [ 0.24369219],\n",
            "       [ 0.070948  ]], dtype=float32), array([0.03818339], dtype=float32)]\n",
            "The training loss at the final epoch:  0.3242797255516052\n",
            "The validation loss at the final epoch:  0.5186980962753296\n",
            "% Difference =  59.95390874129287\n"
          ]
        }
      ]
    },
    {
      "cell_type": "markdown",
      "metadata": {
        "id": "gXlhLtFrwNZn"
      },
      "source": [
        "---\n",
        "### Step 6: Evaluation and Generalization"
      ]
    },
    {
      "cell_type": "markdown",
      "metadata": {
        "id": "4MHwDpCiwNZn"
      },
      "source": [
        "\n",
        "Now that you've determined the optimal set of hyperparameters, it's time to evaluate your optimized model on the test data to gauge its performance in real-world scenarios, commonly known as inference."
      ]
    },
    {
      "cell_type": "markdown",
      "metadata": {
        "id": "wBWjnVGPwNZo"
      },
      "source": [
        "### <span style=\"color:chocolate\">Exercise 12:</span> Computing MSE (10 points)"
      ]
    },
    {
      "cell_type": "markdown",
      "metadata": {
        "id": "PhIIem5KwNZo"
      },
      "source": [
        "1. Calculate MSE on both (X_train_std, Y_train_std) and (X_test_std, Y_test_std) datasets. Hint: You can utilize the <span style=\"color:chocolate\">model.evaluate()</span> method provided by tf.keras.\n",
        "\n",
        "2. Does the model demonstrate strong generalization capabilities? Provide an explanation based on your observations.\n",
        "\n",
        "4. Generate a plot to visualize the accuracy of the predictions. Plot the actual (observed) Y_test values on the x-axis and the predicted Y_test values on the y-axis. Additionally, include a 45-degree line in the plot for reference. Ensure that the plot contains appropriate axis labels and a title. Provide commentary on the model's fit based on this visualization. Hint: You can utilize the <span style=\"color:chocolate\">model.predict()</span> method available in tf.keras."
      ]
    },
    {
      "cell_type": "code",
      "execution_count": 16,
      "metadata": {
        "colab": {
          "base_uri": "https://localhost:8080/",
          "height": 587
        },
        "id": "hVGrSy2UwNZo",
        "outputId": "c4c35e13-944c-4d28-ed4d-af0f949d404a"
      },
      "outputs": [
        {
          "output_type": "stream",
          "name": "stdout",
          "text": [
            "4/4 [==============================] - 0s 3ms/step - loss: 0.3224\n",
            "2/2 [==============================] - 0s 7ms/step - loss: 0.5187\n",
            "MSE of the Training Dataset:  0.3224181532859802\n",
            "MSE of the Testing Dataset:  0.5186980962753296\n",
            "2/2 [==============================] - 0s 6ms/step\n"
          ]
        },
        {
          "output_type": "execute_result",
          "data": {
            "text/plain": [
              "Text(0.5, 1.0, 'Model Predicted Values vs. Observed Values')"
            ]
          },
          "metadata": {},
          "execution_count": 16
        },
        {
          "output_type": "display_data",
          "data": {
            "text/plain": [
              "<Figure size 640x480 with 1 Axes>"
            ],
            "image/png": "[encoded data removed]"
          },
          "metadata": {}
        }
      ],
      "source": [
        "# YOUR CODE HERE\n",
        "# 1)\n",
        "# Calculate MSE on both training and testing datasets:\n",
        "mse_training = model_tf.evaluate(x=X_train_std, y=Y_train_std)\n",
        "mse_test = model_tf.evaluate(x=X_test_std, y=Y_test_std)\n",
        "\n",
        "print('MSE of the Training Dataset: ', mse_training)\n",
        "print('MSE of the Testing Dataset: ', mse_test)\n",
        "\n",
        "# 2)\n",
        "# The model seems to demonstrate some good generalization capabilities. When\n",
        "# we use the model on the testing dataset, we find that the loss value is actually\n",
        "# higher than when we use the model against the training data, suggesting that\n",
        "# the model is not overfitting. Although the loss is higher, it is not significantly\n",
        "# higher, and thus suggests good generalization.\n",
        "\n",
        "# 3)\n",
        "# Generate a plot to visualize the accuracy of the predictions.\n",
        "\n",
        "# First, create a variable to store predictions of X_test data using our model:\n",
        "model_tf_predict = model_tf.predict(X_test_std)\n",
        "\n",
        "# Next, generate a scatter plot of Y_test_std against our new predictions:\n",
        "plt.scatter(x=Y_test_std, y=model_tf_predict)\n",
        "plt.axline([0, 0], [1, 1], color = 'red')\n",
        "plt.xlabel('Observed Y Values')\n",
        "plt.ylabel('Predicted Y Values')\n",
        "plt.title('Model Predicted Values vs. Observed Values')\n",
        "\n",
        "# A great learned model would have values that are randomly dispersed about\n",
        "# the y=x line. From our scatter plot below, it appears that this is the case\n",
        "# with the lower target values, but it appears that the variance increases\n",
        "# as the target values increase. This suggests that there might be some underlying\n",
        "# errors in the model that we could look to improve so that we have a nice even\n",
        "# distribution about the y=x line.\n"
      ]
    },
    {
      "cell_type": "markdown",
      "metadata": {
        "id": "d0NNmjACwNZo"
      },
      "source": [
        "----\n",
        "### <span style=\"color:chocolate\">Bonus question</span> (20 points)"
      ]
    },
    {
      "cell_type": "markdown",
      "metadata": {
        "id": "D2eZ-p-awNZo"
      },
      "source": [
        "In Exercise 12, you reported an aggregated MSE. Let's revisit the exercise by:\n",
        "\n",
        "1. Conducting a subgroup model evaluation. More precisely, compute the test data MSE based on various car subgroups such as make, engine size, fuel type, etc.\n",
        "\n",
        "2. Answering the question: is the model \"fair\" to your chosen car subgroups in our data?"
      ]
    },
    {
      "cell_type": "code",
      "execution_count": 17,
      "metadata": {
        "id": "TPiUvnqPwNZo"
      },
      "outputs": [],
      "source": [
        "# YOUR CODE HERE"
      ]
    }
  ],
  "metadata": {
    "accelerator": "GPU",
    "colab": {
      "provenance": [],
      "gpuType": "T4"
    },
    "kernelspec": {
      "display_name": "Python 3",
      "name": "python3"
    },
    "language_info": {
      "codemirror_mode": {
        "name": "ipython",
        "version": 3
      },
      "file_extension": ".py",
      "mimetype": "text/x-python",
      "name": "python",
      "nbconvert_exporter": "python",
      "pygments_lexer": "ipython3",
      "version": "3.8.3"
    }
  },
  "nbformat": 4,
  "nbformat_minor": 0
}